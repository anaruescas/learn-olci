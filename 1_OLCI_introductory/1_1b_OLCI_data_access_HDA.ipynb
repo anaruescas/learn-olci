{
 "cells": [
  {
   "cell_type": "markdown",
   "metadata": {},
   "source": [
    "<img src='https://gitlab.eumetsat.int/eumetlab/oceans/ocean-training/tools/frameworks/-/raw/main/img/Standard_banner.png' align='right' width='100%'/>"
   ]
  },
  {
   "cell_type": "markdown",
   "metadata": {},
   "source": [
    "<a href=\"../Index.ipynb\" target=\"_blank\"><< Index</a>\n",
    "<br>\n",
    "<a href=\"./1_2_OLCI_file_structure.ipynb\" target=\"_blank\">Understanding OLCI product structure >></a>"
   ]
  },
  {
   "cell_type": "markdown",
   "metadata": {},
   "source": [
    "<font color=\"#138D75\">**Copernicus Marine Training Service**</font> <br>\n",
    "**Copyright:** 2024 EUMETSAT <br>\n",
    "**License:** MIT <br>\n",
    "**Authors:** Ben Loveday (EUMETSAT/Innoflair UG), Hayley Evers-King (EUMETSAT)"
   ]
  },
  {
   "cell_type": "markdown",
   "metadata": {},
   "source": [
    "<html>\n",
    "    <div style=\"float:left\"><a href=\"https://gitlab.eumetsat.int/eumetlab/oceans/ocean-training/sensors/learn-olci\"><img src=\"https://img.shields.io/badge/open-EUMETLAB-E67E22.svg?style=flat&logo=data:image/png;base64,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\" alt=\"Open in EUMETLAB\"></a></div>\n",
    "    <div style=\"float:left\"><p>&emsp;</p></div>\n",
    "  </div>\n",
    "  <div style=\"width:100%\">\n",
    "    <div style=\"float:left\"><a href=\"https://user.eumetsat.int/search-view?term=learn%20olci&sort=score%20desc&facets=%7B%22contentTypes%22:%5B%22Resources%7CSoftware%20%26%20code%22%5D,%22org-satellite-sensor%22:%5B%22EUMETSAT%7CSentinel-3%7COLCI%22%5D,%22theme%22:%5B%22Marine%22,%22Marine%7CMaritime%20safety%22,%22Marine%7COcean%20biogeochemistry%22,%22Marine%7COcean%20dynamics%22,%22Marine%7CWater%20quality%22%5D%7D\"><img src=\"https://img.shields.io/badge/open-USER PORTAL-154360.svg?style=flat&logo=data:image/png;base64,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\" alt=\"Open in user portal\"></a></div>\n",
    "    <div style=\"float:left\"><p>&emsp;</p></div>\n",
    "  </div>\n",
    "  <div style=\"width:100%\">\n",
    "    <div style=\"float:left\"><a href=\"https://mybinder.org/v2/git/https%3A%2F%2Fgitlab.eumetsat.int%2Feumetlab%2Foceans%2Focean-training%2Fsensors%2Flearn-olci/HEAD?urlpath=%2Ftree%2F1_OLCI_introductory%2F1_1b_OLCI_data_access_HDA.ipynb\"><img src=\"https://mybinder.org/badge_logo.svg\" alt=\"Launch on Binder\"></a></div>\n",
    "    <div style=\"float:left\"><p>&emsp;</p></div>\n",
    "  </div>\n",
    "  <div style=\"width:100%\">\n",
    "    <div style=\"float:left\"><a href=\"https://jupyterhub.prod.wekeo2.eu/hub/user-redirect/lab/tree/public/wekeo4oceans/learn-olci/1_OLCI_introductory/1_1b_OLCI_data_access_HDA.ipynb\"><img src=\"https://img.shields.io/badge/launch-WEKEO-1a4696.svg?style=flat&logo=data:image/png;base64,iVBORw0KGgoAAAANSUhEUgAAAA8AAAAMCAMAAACKnBfWAAAABGdBTUEAALGPC/xhBQAAACBjSFJNAAB6JgAAgIQAAPoAAACA6AAAdTAAAOpgAAA6mAAAF3CculE8AAABwlBMVEUAYbdepNtBc7VCdLhNhMQkXKpsn9RWltFZl9VlpNI3aK9fpNtMd7ZznM8pg8o4WJc2TZFHY6MmQYptiLxnqt5hptxfpNtfpNtfpNtgpdtip9x2uullqN1fpNtdo9pepdtanNQ9a65Bc7dCeb5nqt5fpNslUpssW6RMgcBTjstWldJhptxdo9phoNdkpdtfpNtoqNxepNplo9hepNthnNNfpdtelM1hptxSgL5dj8hoqt5fpNsjRYgjPog8WqBHa61TfLplqN1fpdtfpdxam9IyTIw2TZFGYaBoqt5hptxfpdtepNpfpNtgpdtjp9x5vu5do9pHgb5co9pepNtHgbwWN4AVP5AhU6JLgL9dl89epNphpttgpdtipttnqd1ho9glSIkWM3snSokeTJdHda9cksphndRmqNyTweaWxOePv+WfyemAs91QYphFUmpuclhKYHRwh5V8pNNdls6iyuq72fCNvuWIueCIlbtTW2hwcFNTY2lmfpSBpNJZj8lsq91xr99nqdx4suBrqds7V5AlNm85S20lRIJVcZxZgr1Uh8NcotpbotpdpNtGfrcTKnAOKXsYOYo4XKRJcbNHfbf////t/CgnAAAAUHRSTlMAAAAAAAAAAAAAAAAAAAAAAAAAAByF2PfyxGAJLcH+9pQvJgsav/7s57hBf/3gQdO69vH18dK4fN0+GLz96uSzPCq99JArIgkagNTz7r9bB4DtcFsAAAABYktHRJUIYHqDAAAAB3RJTUUH5wIKESIRAg6dCwAAALtJREFUCNdjYGAUERUTl5CUkmZiZmFlY2CUkZULAAJ5BUUlZXYOBhXVADAIVFPX0NTiZNDWAXKCgkNCw8IjInX1GPSjomNi4+ITEpOSU1LTDBgM0zMys7JzcvPyCwqLio0YjKNKSstKyisqq6prautMGEwD6hsam5pbWtvaOzq7zBjMdbq7g3p6+/onTJw02cKSwcoaYt8UG1s7ewcuBm5HJ7B7nF1c3dx5eBn4uD08vbx9fP38+QUEhYQB5Z40RP8+e1wAAAAldEVYdGRhdGU6Y3JlYXRlADIwMjMtMDItMTBUMTc6MzM6NDUrMDA6MDCCLR1xAAAAJXRFWHRkYXRlOm1vZGlmeQAyMDIzLTAyLTEwVDE3OjI2OjU5KzAwOjAw393bowAAAABJRU5ErkJggg==\" alt=\"Launch on WEkEO\"></a></div>\n",
    "    <div style=\"float:left\"><p>&emsp;</p></div>\n",
    "  </div> \n",
    "</html>"
   ]
  },
  {
   "cell_type": "markdown",
   "metadata": {},
   "source": [
    "<div class=\"alert alert-block alert-success\">\n",
    "<h3>Learn OLCI: Introductory</h3></div>"
   ]
  },
  {
   "cell_type": "markdown",
   "metadata": {},
   "source": [
    "<div class=\"alert alert-block alert-warning\">\n",
    "    \n",
    "<b>PREREQUISITES </b>\n",
    "    \n",
    "This notebook has the following prerequisites:\n",
    "  - **<a href=\"https://my.wekeo.eu/user-registration\" target=\"_blank\">A WEkEO account</a>** if you are using or plan to use WEkEO.\n",
    "\n",
    "There are no prerequisite notebooks for this module.\n",
    "</div>\n",
    "<hr>"
   ]
  },
  {
   "cell_type": "markdown",
   "metadata": {},
   "source": [
    "# 1.1b Accessing OLCI data via the WEkEO HDA adaptor\n",
    "\n",
    "### Data used\n",
    "\n",
    "| Dataset | EUMETSAT Data Store<br>collection ID| EUMETSAT collection<br>description | WEkEO dataset ID | WEkEO description |\n",
    "|:--------------------:|:-----------------------:|:-------------:|:-----------------:|:-----------------:|\n",
    "| Sentinel-3 OLCI level-2 full resolution | EO:EUM:DAT:0407 | <a href=\"https://user.eumetsat.int/catalogue/EO:EUM:DAT:SENTINEL-3:OL_2_WFR___NTC\" target=\"_blank\">Description</a> | EO:EUM:DAT:SENTINEL-3:OL_2_WFR___ | <a href=\"https://www.wekeo.eu/data?view=dataset&dataset=EO%3AEUM%3ADAT%3ASENTINEL-3%3AOL_2_WFR___\" target=\"_blank\">Description</a> |\n",
    "| Sentinel-3 OLCI level-2 reduced resolution | EO:EUM:DAT:0408 | <a href=\"https://user.eumetsat.int/catalogue/EO:EUM:DAT:SENTINEL-3:OL_2_WRR___NTC\" target=\"_blank\">Description</a> | EO:EUM:DAT:SENTINEL-3:OL_2_WRR___ | <a href=\"https://www.wekeo.eu/data?view=dataset&dataset=EO%3AEUM%3ADAT%3ASENTINEL-3%3AOL_2_WRR___\" target=\"_blank\">Description</a> |\n",
    "| Sentinel-3 OLCI level-1B full resolution | EO:EUM:DAT:0409 | <a href=\"https://user.eumetsat.int/catalogue/EO:EUM:DAT:SENTINEL-3:OL_1_EFR___NTC\" target=\"_blank\">Description</a> | EO:EUM:DAT:SENTINEL-3:OL_1_EFR___ | <a href=\"https://www.wekeo.eu/data?view=dataset&dataset=EO%3AEUM%3ADAT%3ASENTINEL-3%3AOL_1_EFR___\" target=\"_blank\">Description</a> |\n",
    "\n",
    "### Learning outcomes\n",
    "\n",
    "At the end of this notebook you will know;\n",
    "* how to download data from WEkEO using the <font color=\"#138D75\">**harmonised data access (hda)**</font> client\n",
    "\n",
    "### Outline\n",
    "\n",
    "Data from OLCI is available through multiple sources, either via a web user interface (WebUI) or through code and command line interfaces with an Application Programming Interface (API). WebUIs are useful for accessing quick-look data visualisations, and for browsing to see what is available. APIs are more useful for routine, automated and operational data access. Here we will guide you through ways you can access OLCI data through both methods.\n",
    "\n",
    "Users should note that this notebook will use WEkEO [harmonised data access (HDA) API](#section3) to download <font color=\"#138D75\">**all**</font> of the products required for the lessons in the OLCI introductory module. The HDA adaptor is the fastest and most suitable way of retrieving OLCI data when working inside the WEkEO infrastructure, either on the JupyterHub or on virtual machines.\n",
    "\n",
    "<div class=\"alert alert-info\" role=\"alert\">\n",
    "\n",
    "## <a id='TOC_TOP'></a>Contents\n",
    "\n",
    "</div>\n",
    "    \n",
    " 1. [Download data via GUIs](#section1)\n",
    " 1. [The products we need](#section2)\n",
    " 1. [Downloading via the WEkEO API](#section3)\n",
    "\n",
    "<hr>"
   ]
  },
  {
   "cell_type": "markdown",
   "metadata": {},
   "source": [
    "We begin by importing all of the libraries that we need to run this notebook. If you have built your python using the environment file provided in this repository, then you should have everything you need. For more information on building environment, please see the repository **<a href=\"../README.md\" target=\"_blank\">README</a>**."
   ]
  },
  {
   "cell_type": "code",
   "execution_count": 1,
   "metadata": {},
   "outputs": [],
   "source": [
    "import configparser # a library that allows us to parse standard configuration files\n",
    "import IPython      # a library that helps us display video and HTML content\n",
    "import os           # a library that allows us access to basic operating system commands like making directories\n",
    "import json         # a library that helps us make JSON format files\n",
    "import shutil       # a library that allows us access to basic operating system commands like copy\n",
    "import zipfile      # a library that allows us to unzip zip-files.\n",
    "import hda          # a library for downloading via wekeo"
   ]
  },
  {
   "cell_type": "markdown",
   "metadata": {},
   "source": [
    "Sometimes we use configuration files to help us set some notebook parameters. The box below reads a configuration file to help us decide how large to make the videos displayed below."
   ]
  },
  {
   "cell_type": "code",
   "execution_count": 2,
   "metadata": {},
   "outputs": [],
   "source": [
    "# set defaults and overwrite with frameworks config if it exists\n",
    "config = configparser.ConfigParser()\n",
    "config[\"nbook\"] = {\"v_wd\" : \"700\", \"v_ht\" : \"450\"}\n",
    "if os.path.exists(os.path.join(os.path.dirname(os.getcwd()),\"frameworks\",\"config.ini\")):\n",
    "    config.read(os.path.join(os.path.dirname(os.getcwd()),\"frameworks\",\"config.ini\"))"
   ]
  },
  {
   "cell_type": "markdown",
   "metadata": {},
   "source": [
    "Next we will create a download directory to store the products we will download in this notebook."
   ]
  },
  {
   "cell_type": "code",
   "execution_count": 3,
   "metadata": {},
   "outputs": [],
   "source": [
    "# Create a download directory for our OLCI products\n",
    "download_dir = os.path.join(os.getcwd(), \"products\")\n",
    "os.makedirs(download_dir, exist_ok=True)"
   ]
  },
  {
   "cell_type": "markdown",
   "metadata": {},
   "source": [
    "<div class=\"alert alert-info\" role=\"alert\">\n",
    "\n",
    "## <a id='section1'></a>1. Downloading data via GUIs\n",
    "[Back to top](#TOC_TOP)\n",
    "\n",
    "</div>"
   ]
  },
  {
   "cell_type": "markdown",
   "metadata": {},
   "source": [
    "<hr>\n",
    "\n",
    "### WEkEO\n",
    "\n",
    "WEkEO is the Copernicus Data Information and Access Service (DIAS) reference service for environmental data. It is a partnership between EUMETSAT, the European Centre for Medium-range Weather Forecasting (ECMWF), Mercator Ocean International, and the European Environment Agency (EEA). You can see an overview of the WEkEO service offering in the video below. WEkEO offers a harmonised data access (HDA) solution to a wide range of Copernicus data, including that from Sentinel-3 and associated down-stream products from the Copernicus Marine Service. The WEkEO HDA can be accessed via the <a href=\"https://www.wekeo.eu/data\" target=\"_blank\">WEkEO Data Viewer</a> and through an API, see [Downloading from WEkEO via the API](#section4).\n",
    "\n",
    "You can visit the <a href=\"https://www.wekeo.eu/data\" target=\"_blank\">WEkEO Data Viewer</a> and explore the available marine data, however this notebook will also show you how to use the HDA API - see [Downloading from WEkEO via the API](#section4) below.\n",
    "\n",
    "#### Links:\n",
    "* <a href=\"https://www.wekeo.eu/data\" target=\"_blank\">WEkEO Data Viewer</a>\n",
    "* <a href=\"https://www.wekeo.eu/docs\" target=\"_blank\">More information on WEkEO</a>"
   ]
  },
  {
   "cell_type": "code",
   "execution_count": 4,
   "metadata": {},
   "outputs": [
    {
     "data": {
      "image/jpeg": "[encoded data removed]",
      "text/html": [
       "\n",
       "        <iframe\n",
       "            width=\"800\"\n",
       "            height=\"450\"\n",
       "            src=\"https://www.youtube.com/embed/UOexmq1LdyY\"\n",
       "            frameborder=\"0\"\n",
       "            allowfullscreen\n",
       "            \n",
       "        ></iframe>\n",
       "        "
      ],
      "text/plain": [
       "<IPython.lib.display.YouTubeVideo at 0x109426800>"
      ]
     },
     "execution_count": 4,
     "metadata": {},
     "output_type": "execute_result"
    }
   ],
   "source": [
    "IPython.display.YouTubeVideo('UOexmq1LdyY', width=config[\"nbook\"][\"v_wd\"], height=config[\"nbook\"][\"v_ht\"])"
   ]
  },
  {
   "cell_type": "markdown",
   "metadata": {},
   "source": [
    "<div class=\"alert alert-info\" role=\"alert\">\n",
    "\n",
    "## 2. <a id='section2'></a>The products we need for this module\n",
    "[Back to top](#TOC_TOP)\n",
    "    \n",
    "</div>"
   ]
  },
  {
   "cell_type": "markdown",
   "metadata": {},
   "source": [
    "We need a number of OLCI level-1 and level-2 products for the notebooks within the introductory part of the learn-sral module. These products are shown below, and we will retrieve these products from the WEkEO product catalogue.\n",
    "* S3A_OL_1_EFR____20210717T101015_20210717T101315_20210718T145224_0179_074_122_1980_MAR_O_NT_002.SEN3\n",
    "* S3A_OL_2_WRR____20210717T095732_20210717T104152_20210718T152419_2660_074_122______MAR_O_NT_003.SEN3\n",
    "* S3A_OL_2_WFR____20210717T101015_20210717T101315_20210718T221347_0179_074_122_1980_MAR_O_NT_003.SEN3"
   ]
  },
  {
   "cell_type": "markdown",
   "metadata": {},
   "source": [
    "<hr>\n",
    "<div class=\"alert alert-info\" role=\"alert\">\n",
    "\n",
    "## 3. <a id='section3'></a>Downloading from WEkEO via the API\n",
    "[Back to top](#TOC_TOP)\n",
    "\n",
    "</div>\n"
   ]
  },
  {
   "cell_type": "markdown",
   "metadata": {},
   "source": [
    "Downloading from WEkEO harmonised data access (HDA) API is facilitated by a data access client. If you are currently working on the WEkEO JupyterHub, this client will already be installed. Otherwise, as with EUMDAC, if you have followed the installation guidelines in the yml file provided with this repository, you will also have the client installed. If not, you can find the source code <a href=\"https://github.com/ecmwf/hda\" target=\"_blank\">here</a>.\n",
    "\n",
    "In order to allow us to download data using the WEkEO HDA API, we need to provide our credentials. To do this, we need to create a file called `.hdarc` in our home directory. For most computer systems the home directory can be found at the path \\user\\username, /users/username, or /home/username depending on your operating system. In this file we need to add the following information exactly as follows;\n",
    "\n",
    "```\n",
    "user:<your_user_name>\n",
    "password:<your_password>\n",
    "```\n",
    "\n",
    "You must replace `<your_user_name>` and `<your_password>` with the information from your WEkEO account (if you don't have one yet, register <a href=\"https://www.wekeo.eu/\" target=\"_blank\">here</a>. Once you have entered these credentials in the file, the `hda` client will automatically read in the credentials from the file when you use it.\n",
    "\n",
    "To begin, we should establish an instance of the client."
   ]
  },
  {
   "cell_type": "code",
   "execution_count": 5,
   "metadata": {},
   "outputs": [],
   "source": [
    "c = hda.Client()"
   ]
  },
  {
   "cell_type": "markdown",
   "metadata": {},
   "source": [
    "The WEkEO HDA client accepts requests as JSON queries. These have a specific format, which may look complex, but you can build on the examples you can find in the GUI, available under the **Show API request** button;\n",
    "\n",
    "<img src='../img/WEkEO_show_api_OLCI.png' align='centre' width='75%'></img>\n"
   ]
  },
  {
   "cell_type": "markdown",
   "metadata": {},
   "source": [
    "WEkEO allows you to search for data in time and space, but not by product name. However, we can work around this by providing the exact time stamps for our data. Below, we have a query for the first item in our product list, the OLCI level 1B product. You can see that the start and end times match the filename times, and the `producttype`, and `timeliness` correspond to those in the earlier specified filename too."
   ]
  },
  {
   "cell_type": "code",
   "execution_count": 6,
   "metadata": {},
   "outputs": [],
   "source": [
    "query = {\n",
    "  \"dataset_id\": \"EO:EUM:DAT:SENTINEL-3:OL_1_EFR___\",\n",
    "  \"dtstart\": \"2021-07-17T10:10:15.000Z\",\n",
    "  \"dtend\": \"2021-07-17T10:10:16.000Z\",\n",
    "  \"timeliness\": \"NT\",\n",
    "  \"relorbit\": \"122\"\n",
    "}"
   ]
  },
  {
   "cell_type": "markdown",
   "metadata": {},
   "source": [
    "This next section of code prints the names of the files that have been found during the search..."
   ]
  },
  {
   "cell_type": "code",
   "execution_count": 7,
   "metadata": {},
   "outputs": [
    {
     "name": "stdout",
     "output_type": "stream",
     "text": [
      "Found: S3A_OL_1_EFR____20210717T101015_20210717T101315_20210718T145224_0179_074_122_1980_MAR_O_NT_002.SEN3.zip\n"
     ]
    }
   ],
   "source": [
    "matches = c.search(query)\n",
    "for match in matches.results:\n",
    "    fdst = f\"{match['id']}.zip\"\n",
    "    print(f\"Found: {fdst}\")"
   ]
  },
  {
   "cell_type": "markdown",
   "metadata": {},
   "source": [
    "We can see that we have found the file we are interested in, so the next section of code can be used to download it..."
   ]
  },
  {
   "cell_type": "code",
   "execution_count": 8,
   "metadata": {},
   "outputs": [
    {
     "name": "stderr",
     "output_type": "stream",
     "text": [
      "                                                                                \r"
     ]
    }
   ],
   "source": [
    "matches.download()"
   ]
  },
  {
   "cell_type": "markdown",
   "metadata": {},
   "source": [
    "Finally, we can unzip the file."
   ]
  },
  {
   "cell_type": "code",
   "execution_count": 9,
   "metadata": {},
   "outputs": [
    {
     "name": "stdout",
     "output_type": "stream",
     "text": [
      "Unzipping of product S3A_OL_1_EFR____20210717T101015_20210717T101315_20210718T145224_0179_074_122_1980_MAR_O_NT_002.SEN3.zip finished.\n"
     ]
    }
   ],
   "source": [
    "with zipfile.ZipFile(fdst, 'r') as zip_ref:\n",
    "    zip_ref.extractall(download_dir)\n",
    "    print(f'Unzipping of product {fdst} finished.')\n",
    "os.remove(fdst)"
   ]
  },
  {
   "cell_type": "markdown",
   "metadata": {},
   "source": [
    "Now lets download our other two products. We will need to set up query files for both."
   ]
  },
  {
   "cell_type": "code",
   "execution_count": 10,
   "metadata": {},
   "outputs": [],
   "source": [
    "query_WRR = {\n",
    "  \"dataset_id\": \"EO:EUM:DAT:SENTINEL-3:OL_2_WRR___\",\n",
    "  \"dtstart\": \"2021-07-17T09:57:32.000Z\",\n",
    "  \"dtend\": \"2021-07-17T09:57:33.000Z\",\n",
    "  \"timeliness\": \"NT\",\n",
    "  \"relorbit\": \"122\"\n",
    "}\n",
    "\n",
    "query_WFR = {\n",
    "  \"dataset_id\": \"EO:EUM:DAT:SENTINEL-3:OL_2_WFR___\",\n",
    "  \"dtstart\": \"2021-07-17T10:10:15.000Z\",\n",
    "  \"dtend\": \"2021-07-17T10:10:16.000Z\",\n",
    "  \"timeliness\": \"NT\",\n",
    "  \"relorbit\": \"122\"\n",
    "}\n",
    "\n",
    "queries = [query_WRR, query_WFR]"
   ]
  },
  {
   "cell_type": "markdown",
   "metadata": {},
   "source": [
    "And again we can search for, and download the results..."
   ]
  },
  {
   "cell_type": "code",
   "execution_count": 11,
   "metadata": {
    "scrolled": true
   },
   "outputs": [
    {
     "name": "stderr",
     "output_type": "stream",
     "text": [
      "\n",
      "  0%|                                                | 0.00/340M [00:00<?, ?B/s]\u001b[A\n",
      "  0%|                                        | 339k/340M [00:00<01:52, 3.16MB/s]\u001b[A\n",
      "  0%|                                        | 753k/340M [00:00<01:37, 3.65MB/s]\u001b[A\n",
      "  0%|▏                                      | 1.09M/340M [00:00<01:36, 3.69MB/s]\u001b[A\n",
      "  0%|▏                                      | 1.48M/340M [00:00<01:33, 3.79MB/s]\u001b[A\n",
      "  1%|▏                                      | 1.86M/340M [00:00<01:33, 3.80MB/s]\u001b[A\n",
      "  1%|▎                                      | 2.28M/340M [00:00<01:30, 3.93MB/s]\u001b[A\n",
      "  1%|▎                                      | 2.70M/340M [00:00<01:28, 3.99MB/s]\u001b[A\n",
      "  1%|▎                                      | 3.12M/340M [00:00<01:27, 4.06MB/s]\u001b[A\n",
      "  1%|▍                                      | 3.50M/340M [00:00<01:31, 3.86MB/s]\u001b[A\n",
      "  1%|▍                                      | 3.88M/340M [00:01<01:49, 3.22MB/s]\u001b[A\n",
      "  1%|▍                                      | 4.21M/340M [00:01<01:51, 3.16MB/s]\u001b[A\n",
      "  1%|▌                                      | 4.60M/340M [00:01<01:43, 3.39MB/s]\u001b[A\n",
      "  1%|▌                                      | 5.06M/340M [00:01<01:34, 3.71MB/s]\u001b[A\n",
      "  2%|▋                                      | 5.48M/340M [00:01<01:29, 3.90MB/s]\u001b[A\n",
      "  2%|▋                                      | 5.89M/340M [00:01<01:28, 3.96MB/s]\u001b[A\n",
      "  2%|▋                                      | 6.35M/340M [00:01<01:23, 4.20MB/s]\u001b[A\n",
      "  2%|▊                                      | 6.77M/340M [00:01<01:22, 4.22MB/s]\u001b[A\n",
      "  2%|▊                                      | 7.18M/340M [00:01<01:22, 4.21MB/s]\u001b[A\n",
      "  2%|▊                                      | 7.59M/340M [00:02<01:24, 4.14MB/s]\u001b[A\n",
      "  2%|▉                                      | 7.99M/340M [00:02<01:23, 4.16MB/s]\u001b[A\n",
      "  2%|▉                                      | 8.39M/340M [00:02<01:24, 4.13MB/s]\u001b[A\n",
      "  3%|█                                      | 8.80M/340M [00:02<01:23, 4.14MB/s]\u001b[A\n",
      "  3%|█                                      | 9.20M/340M [00:02<01:24, 4.12MB/s]\u001b[A\n",
      "  3%|█                                      | 9.65M/340M [00:02<01:21, 4.23MB/s]\u001b[A\n",
      "  3%|█▏                                     | 10.1M/340M [00:02<01:21, 4.23MB/s]\u001b[A\n",
      "  3%|█▏                                     | 10.5M/340M [00:02<01:21, 4.22MB/s]\u001b[A\n",
      "  3%|█▎                                     | 10.9M/340M [00:02<01:22, 4.18MB/s]\u001b[A\n",
      "  3%|█▎                                     | 11.4M/340M [00:03<01:20, 4.26MB/s]\u001b[A\n",
      "  4%|█▎                                     | 11.9M/340M [00:03<01:16, 4.47MB/s]\u001b[A\n",
      "  4%|█▍                                     | 12.4M/340M [00:03<01:17, 4.45MB/s]\u001b[A\n",
      "  4%|█▍                                     | 12.9M/340M [00:03<01:14, 4.63MB/s]\u001b[A\n",
      "  4%|█▌                                     | 13.3M/340M [00:03<01:15, 4.54MB/s]\u001b[A\n",
      "  4%|█▌                                     | 13.9M/340M [00:03<01:14, 4.58MB/s]\u001b[A\n",
      "  4%|█▋                                     | 14.4M/340M [00:03<01:13, 4.67MB/s]\u001b[A\n",
      "  4%|█▋                                     | 14.9M/340M [00:03<01:12, 4.71MB/s]\u001b[A\n",
      "  5%|█▊                                     | 15.4M/340M [00:03<01:10, 4.85MB/s]\u001b[A\n",
      "  5%|█▊                                     | 15.9M/340M [00:04<01:13, 4.63MB/s]\u001b[A\n",
      "  5%|█▉                                     | 16.4M/340M [00:04<01:13, 4.62MB/s]\u001b[A\n",
      "  5%|█▉                                     | 16.9M/340M [00:04<01:09, 4.88MB/s]\u001b[A\n",
      "  5%|█▉                                     | 17.4M/340M [00:04<01:09, 4.85MB/s]\u001b[A\n",
      "  5%|██                                     | 17.9M/340M [00:04<01:20, 4.19MB/s]\u001b[A\n",
      "  5%|██                                     | 18.3M/340M [00:04<01:25, 3.93MB/s]\u001b[A\n",
      "  5%|██▏                                    | 18.7M/340M [00:04<01:23, 4.01MB/s]\u001b[A\n",
      "  6%|██▏                                    | 19.1M/340M [00:04<01:26, 3.87MB/s]\u001b[A\n",
      "  6%|██▏                                    | 19.4M/340M [00:04<01:40, 3.35MB/s]\u001b[A\n",
      "  6%|██▎                                    | 19.9M/340M [00:05<01:37, 3.45MB/s]\u001b[A\n",
      "  6%|██▎                                    | 20.4M/340M [00:05<01:25, 3.93MB/s]\u001b[A\n",
      "  6%|██▍                                    | 20.8M/340M [00:05<01:24, 3.95MB/s]\u001b[A\n",
      "  6%|██▍                                    | 21.3M/340M [00:05<01:20, 4.18MB/s]\u001b[A\n",
      "  6%|██▌                                    | 21.8M/340M [00:05<01:16, 4.38MB/s]\u001b[A\n",
      "  7%|██▌                                    | 22.3M/340M [00:05<01:14, 4.45MB/s]\u001b[A\n",
      "  7%|██▌                                    | 22.8M/340M [00:05<01:12, 4.57MB/s]\u001b[A\n",
      "  7%|██▋                                    | 23.3M/340M [00:05<01:12, 4.61MB/s]\u001b[A\n",
      "  7%|██▋                                    | 23.7M/340M [00:05<01:13, 4.51MB/s]\u001b[A\n",
      "  7%|██▊                                    | 24.2M/340M [00:06<01:14, 4.47MB/s]\u001b[A\n",
      "  7%|██▊                                    | 24.7M/340M [00:06<01:13, 4.51MB/s]\u001b[A\n",
      "  7%|██▉                                    | 25.2M/340M [00:06<01:13, 4.51MB/s]\u001b[A\n",
      "  8%|██▉                                    | 25.7M/340M [00:06<01:13, 4.47MB/s]\u001b[A\n",
      "  8%|██▉                                    | 26.1M/340M [00:06<01:14, 4.42MB/s]\u001b[A\n",
      "  8%|███                                    | 26.5M/340M [00:06<01:14, 4.42MB/s]\u001b[A\n",
      "  8%|███                                    | 27.1M/340M [00:06<01:09, 4.69MB/s]\u001b[A\n",
      "  8%|███▏                                   | 27.6M/340M [00:06<01:08, 4.82MB/s]\u001b[A\n",
      "  8%|███▏                                   | 28.1M/340M [00:06<01:09, 4.72MB/s]\u001b[A\n",
      "  8%|███▎                                   | 28.7M/340M [00:07<01:04, 5.07MB/s]\u001b[A\n",
      "  9%|███▎                                   | 29.2M/340M [00:07<01:05, 4.96MB/s]\u001b[A\n",
      "  9%|███▍                                   | 29.8M/340M [00:07<00:59, 5.48MB/s]\u001b[A\n",
      "  9%|███▍                                   | 30.4M/340M [00:07<01:02, 5.19MB/s]\u001b[A\n",
      "  9%|███▌                                   | 30.9M/340M [00:07<01:09, 4.64MB/s]\u001b[A\n",
      "  9%|███▌                                   | 31.5M/340M [00:07<01:06, 4.89MB/s]\u001b[A\n",
      "  9%|███▋                                   | 31.9M/340M [00:07<01:06, 4.88MB/s]\u001b[A\n",
      " 10%|███▋                                   | 32.5M/340M [00:07<01:03, 5.10MB/s]\u001b[A\n",
      " 10%|███▊                                   | 33.0M/340M [00:08<01:06, 4.85MB/s]\u001b[A\n",
      " 10%|███▊                                   | 33.5M/340M [00:08<01:05, 4.88MB/s]\u001b[A\n",
      " 10%|███▉                                   | 34.0M/340M [00:08<01:06, 4.84MB/s]\u001b[A\n",
      " 10%|███▉                                   | 34.5M/340M [00:08<01:06, 4.81MB/s]\u001b[A\n",
      " 10%|████                                   | 34.9M/340M [00:08<01:08, 4.69MB/s]\u001b[A\n",
      " 10%|████                                   | 35.4M/340M [00:08<01:07, 4.73MB/s]\u001b[A\n",
      " 11%|████                                   | 35.9M/340M [00:08<01:07, 4.71MB/s]\u001b[A\n",
      " 11%|████▏                                  | 36.5M/340M [00:08<01:03, 5.02MB/s]\u001b[A\n",
      " 11%|████▏                                  | 37.0M/340M [00:08<01:13, 4.29MB/s]\u001b[A\n",
      " 11%|████▎                                  | 37.4M/340M [00:09<01:18, 4.06MB/s]\u001b[A\n",
      " 11%|████▎                                  | 37.8M/340M [00:09<01:29, 3.55MB/s]\u001b[A\n",
      " 11%|████▍                                  | 38.2M/340M [00:09<01:29, 3.55MB/s]\u001b[A\n",
      " 11%|████▍                                  | 38.7M/340M [00:09<01:20, 3.94MB/s]\u001b[A\n",
      " 12%|████▍                                  | 39.1M/340M [00:09<01:18, 4.01MB/s]\u001b[A\n",
      " 12%|████▌                                  | 39.6M/340M [00:09<01:14, 4.23MB/s]\u001b[A\n",
      " 12%|████▌                                  | 40.0M/340M [00:09<01:14, 4.23MB/s]\u001b[A\n",
      " 12%|████▋                                  | 40.5M/340M [00:09<01:14, 4.21MB/s]\u001b[A\n",
      " 12%|████▋                                  | 41.1M/340M [00:09<01:04, 4.88MB/s]\u001b[A\n",
      " 12%|████▊                                  | 41.6M/340M [00:10<01:05, 4.79MB/s]\u001b[A\n",
      " 12%|████▊                                  | 42.0M/340M [00:10<01:05, 4.74MB/s]\u001b[A\n",
      " 12%|████▊                                  | 42.5M/340M [00:10<01:05, 4.73MB/s]\u001b[A\n",
      " 13%|████▉                                  | 43.0M/340M [00:10<01:01, 5.10MB/s]\u001b[A\n",
      " 13%|████▉                                  | 43.6M/340M [00:10<01:00, 5.10MB/s]\u001b[A\n",
      " 13%|█████                                  | 44.2M/340M [00:10<00:56, 5.47MB/s]\u001b[A\n",
      " 13%|█████▏                                 | 44.9M/340M [00:10<00:54, 5.70MB/s]\u001b[A\n",
      " 13%|█████▏                                 | 45.4M/340M [00:10<00:56, 5.46MB/s]\u001b[A\n",
      " 14%|█████▎                                 | 45.9M/340M [00:10<00:57, 5.38MB/s]\u001b[A\n",
      " 14%|█████▎                                 | 46.5M/340M [00:11<01:00, 5.08MB/s]\u001b[A\n",
      " 14%|█████▍                                 | 46.9M/340M [00:11<01:03, 4.85MB/s]\u001b[A\n",
      " 14%|█████▍                                 | 47.6M/340M [00:11<00:59, 5.16MB/s]\u001b[A\n",
      " 14%|█████▌                                 | 48.1M/340M [00:11<01:00, 5.06MB/s]\u001b[A\n",
      " 14%|█████▌                                 | 48.6M/340M [00:11<01:04, 4.72MB/s]\u001b[A\n",
      " 14%|█████▋                                 | 49.1M/340M [00:11<01:03, 4.82MB/s]\u001b[A\n",
      " 15%|█████▋                                 | 49.5M/340M [00:11<01:05, 4.69MB/s]\u001b[A\n",
      " 15%|█████▋                                 | 50.0M/340M [00:11<01:05, 4.63MB/s]\u001b[A\n",
      " 15%|█████▊                                 | 50.7M/340M [00:11<00:56, 5.34MB/s]\u001b[A\n",
      " 15%|█████▊                                 | 51.2M/340M [00:12<01:00, 4.98MB/s]\u001b[A\n",
      " 15%|█████▉                                 | 51.7M/340M [00:12<01:06, 4.53MB/s]\u001b[A\n",
      " 15%|█████▉                                 | 52.1M/340M [00:12<01:06, 4.54MB/s]\u001b[A\n",
      " 15%|██████                                 | 52.6M/340M [00:12<01:06, 4.51MB/s]\u001b[A\n",
      " 16%|██████                                 | 53.0M/340M [00:12<01:09, 4.35MB/s]\u001b[A\n",
      " 16%|██████▏                                | 53.4M/340M [00:12<01:09, 4.31MB/s]\u001b[A\n",
      " 16%|██████▏                                | 53.8M/340M [00:12<01:09, 4.32MB/s]\u001b[A\n",
      " 16%|██████▏                                | 54.3M/340M [00:12<01:11, 4.17MB/s]\u001b[A\n",
      " 16%|██████▎                                | 54.7M/340M [00:12<01:14, 4.02MB/s]\u001b[A\n",
      " 16%|██████▎                                | 55.1M/340M [00:13<01:13, 4.09MB/s]\u001b[A\n",
      " 16%|██████▎                                | 55.5M/340M [00:13<01:15, 3.96MB/s]\u001b[A\n",
      " 16%|██████▍                                | 55.9M/340M [00:13<01:11, 4.16MB/s]\u001b[A\n",
      " 17%|██████▍                                | 56.4M/340M [00:13<01:08, 4.35MB/s]\u001b[A\n",
      " 17%|██████▌                                | 56.8M/340M [00:13<01:07, 4.40MB/s]\u001b[A\n",
      " 17%|██████▌                                | 57.5M/340M [00:13<00:58, 5.05MB/s]\u001b[A\n",
      " 17%|██████▋                                | 58.0M/340M [00:13<01:04, 4.58MB/s]\u001b[A\n",
      " 17%|██████▋                                | 58.4M/340M [00:13<01:04, 4.61MB/s]\u001b[A\n",
      " 17%|██████▊                                | 58.9M/340M [00:13<01:04, 4.59MB/s]\u001b[A\n",
      " 17%|██████▊                                | 59.4M/340M [00:14<01:03, 4.64MB/s]\u001b[A\n",
      " 18%|██████▊                                | 59.8M/340M [00:14<01:03, 4.63MB/s]\u001b[A\n",
      " 18%|██████▉                                | 60.3M/340M [00:14<01:05, 4.48MB/s]\u001b[A\n",
      " 18%|██████▉                                | 60.8M/340M [00:14<01:06, 4.38MB/s]\u001b[A\n",
      " 18%|███████                                | 61.3M/340M [00:14<01:04, 4.57MB/s]\u001b[A\n",
      " 18%|███████                                | 61.7M/340M [00:14<01:02, 4.67MB/s]\u001b[A\n",
      " 18%|███████▏                               | 62.2M/340M [00:14<01:05, 4.43MB/s]\u001b[A\n",
      " 18%|███████▏                               | 62.6M/340M [00:14<01:08, 4.25MB/s]\u001b[A\n",
      " 19%|███████▏                               | 63.2M/340M [00:14<01:01, 4.73MB/s]\u001b[A\n",
      " 19%|███████▎                               | 63.6M/340M [00:15<01:03, 4.53MB/s]\u001b[A\n",
      " 19%|███████▎                               | 64.1M/340M [00:15<01:06, 4.37MB/s]\u001b[A\n",
      " 19%|███████▍                               | 64.5M/340M [00:15<01:08, 4.23MB/s]\u001b[A\n",
      " 19%|███████▍                               | 65.0M/340M [00:15<01:05, 4.39MB/s]\u001b[A\n",
      " 19%|███████▌                               | 65.5M/340M [00:15<01:06, 4.32MB/s]\u001b[A\n",
      " 19%|███████▌                               | 65.9M/340M [00:15<01:07, 4.24MB/s]\u001b[A\n",
      " 20%|███████▌                               | 66.4M/340M [00:15<01:04, 4.46MB/s]\u001b[A\n",
      " 20%|███████▋                               | 67.0M/340M [00:15<00:58, 4.88MB/s]\u001b[A\n",
      " 20%|███████▋                               | 67.4M/340M [00:15<00:59, 4.80MB/s]\u001b[A\n",
      " 20%|███████▊                               | 68.0M/340M [00:15<00:55, 5.14MB/s]\u001b[A\n",
      " 20%|███████▊                               | 68.5M/340M [00:16<00:58, 4.87MB/s]\u001b[A\n",
      " 20%|███████▉                               | 69.0M/340M [00:16<01:01, 4.60MB/s]\u001b[A\n",
      " 20%|███████▉                               | 69.4M/340M [00:16<01:03, 4.50MB/s]\u001b[A\n",
      " 21%|████████                               | 69.9M/340M [00:16<01:05, 4.36MB/s]\u001b[A\n",
      " 21%|████████                               | 70.3M/340M [00:16<01:07, 4.20MB/s]\u001b[A\n",
      " 21%|████████                               | 70.7M/340M [00:16<01:07, 4.16MB/s]\u001b[A\n",
      " 21%|████████▏                              | 71.1M/340M [00:16<01:10, 4.02MB/s]\u001b[A\n",
      " 21%|████████▏                              | 71.6M/340M [00:16<01:09, 4.03MB/s]\u001b[A\n",
      " 21%|████████▎                              | 72.0M/340M [00:17<01:13, 3.81MB/s]\u001b[A\n",
      " 21%|████████▎                              | 72.4M/340M [00:17<01:09, 4.03MB/s]\u001b[A\n",
      " 22%|████████▍                              | 73.1M/340M [00:17<00:56, 4.92MB/s]\u001b[A\n",
      " 22%|████████▍                              | 73.6M/340M [00:17<00:57, 4.90MB/s]\u001b[A\n",
      " 22%|████████▍                              | 74.1M/340M [00:17<00:57, 4.86MB/s]\u001b[A\n",
      " 22%|████████▌                              | 74.6M/340M [00:17<00:57, 4.82MB/s]\u001b[A\n",
      " 22%|████████▌                              | 75.0M/340M [00:17<00:58, 4.72MB/s]\u001b[A\n",
      " 22%|████████▋                              | 75.5M/340M [00:17<01:05, 4.25MB/s]\u001b[A\n",
      " 22%|████████▋                              | 75.9M/340M [00:17<01:06, 4.17MB/s]\u001b[A\n",
      " 22%|████████▊                              | 76.4M/340M [00:18<01:03, 4.37MB/s]\u001b[A\n",
      " 23%|████████▊                              | 76.9M/340M [00:18<01:01, 4.48MB/s]\u001b[A\n",
      " 23%|████████▊                              | 77.3M/340M [00:18<01:01, 4.48MB/s]\u001b[A\n",
      " 23%|████████▉                              | 77.8M/340M [00:18<01:01, 4.48MB/s]\u001b[A\n",
      " 23%|████████▉                              | 78.2M/340M [00:18<01:01, 4.45MB/s]\u001b[A\n",
      " 23%|█████████                              | 78.7M/340M [00:18<00:58, 4.69MB/s]\u001b[A\n",
      " 23%|█████████                              | 79.2M/340M [00:18<00:58, 4.69MB/s]\u001b[A\n",
      " 23%|█████████▏                             | 79.6M/340M [00:18<01:05, 4.18MB/s]\u001b[A\n",
      " 24%|█████████▏                             | 80.0M/340M [00:18<01:05, 4.18MB/s]\u001b[A\n",
      " 24%|█████████▏                             | 80.6M/340M [00:19<01:01, 4.43MB/s]\u001b[A\n",
      " 24%|█████████▎                             | 81.0M/340M [00:19<01:01, 4.40MB/s]\u001b[A\n",
      " 24%|█████████▎                             | 81.4M/340M [00:19<01:01, 4.40MB/s]\u001b[A\n",
      " 24%|█████████▍                             | 81.9M/340M [00:19<01:01, 4.40MB/s]\u001b[A\n",
      " 24%|█████████▍                             | 82.3M/340M [00:19<01:04, 4.18MB/s]\u001b[A\n",
      " 24%|█████████▍                             | 82.7M/340M [00:19<01:07, 4.00MB/s]\u001b[A\n",
      " 24%|█████████▌                             | 83.1M/340M [00:19<01:07, 4.01MB/s]\u001b[A\n",
      " 25%|█████████▌                             | 83.7M/340M [00:19<00:59, 4.54MB/s]\u001b[A\n",
      " 25%|█████████▋                             | 84.2M/340M [00:19<01:00, 4.41MB/s]\u001b[A\n",
      " 25%|█████████▋                             | 84.7M/340M [00:19<00:58, 4.54MB/s]\u001b[A\n",
      " 25%|█████████▊                             | 85.1M/340M [00:20<01:05, 4.06MB/s]\u001b[A\n",
      " 25%|█████████▊                             | 85.5M/340M [00:20<01:09, 3.84MB/s]\u001b[A\n",
      " 25%|█████████▊                             | 86.0M/340M [00:20<01:02, 4.23MB/s]\u001b[A\n",
      " 25%|█████████▉                             | 86.4M/340M [00:20<01:02, 4.23MB/s]\u001b[A\n",
      " 26%|█████████▉                             | 86.9M/340M [00:20<00:59, 4.46MB/s]\u001b[A\n",
      " 26%|██████████                             | 87.3M/340M [00:20<00:59, 4.45MB/s]\u001b[A\n",
      " 26%|██████████                             | 87.8M/340M [00:20<00:57, 4.57MB/s]\u001b[A\n",
      " 26%|██████████▏                            | 88.3M/340M [00:20<00:57, 4.61MB/s]\u001b[A\n",
      " 26%|██████████▏                            | 88.8M/340M [00:20<00:58, 4.48MB/s]\u001b[A\n",
      " 26%|██████████▏                            | 89.2M/340M [00:21<01:00, 4.34MB/s]\u001b[A\n",
      " 26%|██████████▎                            | 89.6M/340M [00:21<01:02, 4.21MB/s]\u001b[A\n",
      " 26%|██████████▎                            | 90.0M/340M [00:21<01:02, 4.21MB/s]\u001b[A\n",
      " 27%|██████████▎                            | 90.4M/340M [00:21<01:02, 4.20MB/s]\u001b[A\n",
      " 27%|██████████▍                            | 91.0M/340M [00:21<00:55, 4.71MB/s]\u001b[A\n",
      " 27%|██████████▍                            | 91.5M/340M [00:21<00:55, 4.69MB/s]\u001b[A\n",
      " 27%|██████████▌                            | 91.9M/340M [00:21<00:56, 4.65MB/s]\u001b[A\n",
      " 27%|██████████▌                            | 92.4M/340M [00:21<00:59, 4.38MB/s]\u001b[A\n",
      " 27%|██████████▋                            | 92.8M/340M [00:21<01:01, 4.20MB/s]\u001b[A\n",
      " 27%|██████████▋                            | 93.2M/340M [00:22<01:01, 4.20MB/s]\u001b[A\n",
      " 28%|██████████▋                            | 93.6M/340M [00:22<01:02, 4.11MB/s]\u001b[A\n",
      " 28%|██████████▊                            | 94.1M/340M [00:22<01:00, 4.27MB/s]\u001b[A\n",
      " 28%|██████████▊                            | 94.8M/340M [00:22<00:51, 5.02MB/s]\u001b[A\n",
      " 28%|██████████▉                            | 95.4M/340M [00:22<00:46, 5.47MB/s]\u001b[A\n",
      " 28%|███████████                            | 96.0M/340M [00:22<00:44, 5.70MB/s]\u001b[A\n",
      " 28%|███████████                            | 96.6M/340M [00:22<00:44, 5.74MB/s]\u001b[A\n",
      " 29%|███████████▏                           | 97.2M/340M [00:22<00:45, 5.61MB/s]\u001b[A\n",
      " 29%|███████████▏                           | 97.7M/340M [00:22<00:47, 5.39MB/s]\u001b[A\n",
      " 29%|███████████▎                           | 98.2M/340M [00:23<00:54, 4.62MB/s]\u001b[A\n",
      " 29%|███████████▎                           | 98.7M/340M [00:23<01:01, 4.13MB/s]\u001b[A\n",
      " 29%|███████████▎                           | 99.2M/340M [00:23<00:58, 4.33MB/s]\u001b[A\n",
      " 29%|███████████▍                           | 99.6M/340M [00:23<00:57, 4.36MB/s]\u001b[A\n",
      " 29%|███████████▊                            | 100M/340M [00:23<00:56, 4.44MB/s]\u001b[A\n",
      " 30%|███████████▊                            | 101M/340M [00:23<00:56, 4.46MB/s]\u001b[A\n",
      " 30%|███████████▉                            | 101M/340M [00:23<00:56, 4.44MB/s]\u001b[A\n",
      " 30%|███████████▉                            | 102M/340M [00:23<00:53, 4.69MB/s]\u001b[A\n",
      " 30%|███████████▉                            | 102M/340M [00:23<00:53, 4.66MB/s]\u001b[A\n",
      " 30%|████████████                            | 103M/340M [00:24<00:51, 4.86MB/s]\u001b[A\n",
      " 30%|████████████                            | 103M/340M [00:24<00:52, 4.77MB/s]\u001b[A\n",
      " 30%|████████████▏                           | 104M/340M [00:24<00:48, 5.13MB/s]\u001b[A\n",
      " 31%|████████████▏                           | 104M/340M [00:24<00:49, 5.00MB/s]\u001b[A\n",
      " 31%|████████████▎                           | 105M/340M [00:24<00:50, 4.93MB/s]\u001b[A\n",
      " 31%|████████████▎                           | 105M/340M [00:24<00:54, 4.56MB/s]\u001b[A\n",
      " 31%|████████████▍                           | 105M/340M [00:24<00:56, 4.34MB/s]\u001b[A\n",
      " 31%|████████████▍                           | 106M/340M [00:24<00:56, 4.34MB/s]\u001b[A\n",
      " 31%|████████████▌                           | 106M/340M [00:24<00:58, 4.18MB/s]\u001b[A\n",
      " 31%|████████████▌                           | 107M/340M [00:25<00:56, 4.33MB/s]\u001b[A\n",
      " 32%|████████████▌                           | 107M/340M [00:25<00:55, 4.41MB/s]\u001b[A\n",
      " 32%|████████████▋                           | 108M/340M [00:25<00:51, 4.70MB/s]\u001b[A\n",
      " 32%|████████████▋                           | 108M/340M [00:25<01:01, 3.96MB/s]\u001b[A\n",
      " 32%|████████████▊                           | 109M/340M [00:25<01:00, 3.98MB/s]\u001b[A\n",
      " 32%|████████████▉                           | 109M/340M [00:25<00:45, 5.33MB/s]\u001b[A\n",
      " 33%|█████████████                           | 111M/340M [00:25<00:30, 7.76MB/s]\u001b[A\n",
      " 33%|█████████████▏                          | 112M/340M [00:26<00:43, 5.45MB/s]\u001b[A\n",
      " 34%|█████████████▌                          | 115M/340M [00:26<00:18, 13.0MB/s]\u001b[A\n",
      " 34%|█████████████▊                          | 117M/340M [00:26<00:17, 13.2MB/s]\u001b[A\n",
      " 35%|█████████████▉                          | 118M/340M [00:26<00:17, 13.4MB/s]\u001b[A\n",
      " 35%|██████████████                          | 120M/340M [00:26<00:19, 11.5MB/s]\u001b[A\n",
      " 36%|██████████████▎                         | 122M/340M [00:26<00:16, 14.1MB/s]\u001b[A\n",
      " 36%|██████████████▌                         | 124M/340M [00:26<00:16, 14.1MB/s]\u001b[A\n",
      " 37%|██████████████▋                         | 125M/340M [00:26<00:16, 14.1MB/s]\u001b[A\n",
      " 37%|██████████████▉                         | 127M/340M [00:26<00:16, 13.9MB/s]\u001b[A\n",
      " 38%|███████████████                         | 128M/340M [00:27<00:17, 12.5MB/s]\u001b[A\n",
      " 38%|███████████████▏                        | 129M/340M [00:27<00:20, 11.0MB/s]\u001b[A\n",
      " 38%|███████████████▎                        | 130M/340M [00:27<00:21, 10.0MB/s]\u001b[A\n",
      " 39%|███████████████▍                        | 131M/340M [00:27<00:26, 8.17MB/s]\u001b[A\n",
      " 39%|███████████████▌                        | 132M/340M [00:27<00:33, 6.53MB/s]\u001b[A\n",
      " 39%|███████████████▌                        | 133M/340M [00:28<00:35, 6.06MB/s]\u001b[A\n",
      " 39%|███████████████▋                        | 133M/340M [00:28<01:27, 2.47MB/s]\u001b[A\n",
      " 39%|███████████████▊                        | 134M/340M [00:29<01:37, 2.22MB/s]\u001b[A\n",
      " 39%|███████████████▊                        | 134M/340M [00:29<01:39, 2.17MB/s]\u001b[A\n",
      " 40%|███████████████▊                        | 135M/340M [00:29<01:37, 2.21MB/s]\u001b[A\n",
      " 40%|███████████████▊                        | 135M/340M [00:29<01:34, 2.27MB/s]\u001b[A\n",
      " 40%|███████████████▉                        | 135M/340M [00:29<01:32, 2.32MB/s]\u001b[A\n",
      " 40%|███████████████▉                        | 135M/340M [00:29<01:30, 2.37MB/s]\u001b[A\n",
      " 40%|███████████████▉                        | 136M/340M [00:29<01:26, 2.47MB/s]\u001b[A\n",
      " 40%|████████████████                        | 136M/340M [00:30<01:20, 2.65MB/s]\u001b[A\n",
      " 40%|████████████████                        | 136M/340M [00:30<01:14, 2.87MB/s]\u001b[A\n",
      " 40%|████████████████                        | 137M/340M [00:30<01:11, 2.96MB/s]\u001b[A\n",
      " 40%|████████████████                        | 137M/340M [00:30<01:07, 3.18MB/s]\u001b[A\n",
      " 40%|████████████████▏                       | 137M/340M [00:30<01:04, 3.28MB/s]\u001b[A\n",
      " 41%|████████████████▏                       | 138M/340M [00:30<01:01, 3.45MB/s]\u001b[A\n",
      " 41%|████████████████▎                       | 138M/340M [00:30<00:58, 3.60MB/s]\u001b[A\n",
      " 41%|████████████████▎                       | 139M/340M [00:30<00:57, 3.67MB/s]\u001b[A\n",
      " 41%|████████████████▎                       | 139M/340M [00:30<00:56, 3.72MB/s]\u001b[A\n",
      " 41%|████████████████▍                       | 139M/340M [00:30<00:54, 3.87MB/s]\u001b[A\n",
      " 41%|████████████████▍                       | 140M/340M [00:31<00:52, 3.96MB/s]\u001b[A\n",
      " 41%|████████████████▍                       | 140M/340M [00:31<00:57, 3.66MB/s]\u001b[A\n",
      " 41%|████████████████▌                       | 140M/340M [00:31<00:57, 3.67MB/s]\u001b[A\n",
      " 41%|████████████████▌                       | 141M/340M [00:31<00:51, 4.06MB/s]\u001b[A\n",
      " 42%|████████████████▋                       | 141M/340M [00:31<00:48, 4.30MB/s]\u001b[A\n",
      " 42%|████████████████▋                       | 142M/340M [00:31<00:45, 4.60MB/s]\u001b[A\n",
      " 42%|████████████████▊                       | 143M/340M [00:31<00:42, 4.91MB/s]\u001b[A\n",
      " 42%|████████████████▊                       | 143M/340M [00:31<00:40, 5.14MB/s]\u001b[A\n",
      " 42%|████████████████▉                       | 144M/340M [00:31<00:38, 5.33MB/s]\u001b[A\n",
      " 42%|████████████████▉                       | 144M/340M [00:32<00:37, 5.43MB/s]\u001b[A\n",
      " 43%|█████████████████                       | 145M/340M [00:32<00:37, 5.43MB/s]\u001b[A\n",
      " 43%|█████████████████                       | 145M/340M [00:32<00:36, 5.58MB/s]\u001b[A\n",
      " 43%|█████████████████▏                      | 146M/340M [00:32<00:36, 5.57MB/s]\u001b[A\n",
      " 43%|█████████████████▏                      | 146M/340M [00:32<00:38, 5.24MB/s]\u001b[A\n",
      " 43%|█████████████████▎                      | 147M/340M [00:32<00:38, 5.29MB/s]\u001b[A\n",
      " 43%|█████████████████▎                      | 147M/340M [00:32<00:36, 5.59MB/s]\u001b[A\n",
      " 44%|█████████████████▍                      | 148M/340M [00:32<00:34, 5.83MB/s]\u001b[A\n",
      " 44%|█████████████████▍                      | 149M/340M [00:32<00:33, 6.08MB/s]\u001b[A\n",
      " 44%|█████████████████▌                      | 149M/340M [00:32<00:31, 6.33MB/s]\u001b[A\n",
      " 44%|█████████████████▋                      | 150M/340M [00:33<00:30, 6.46MB/s]\u001b[A\n",
      " 44%|█████████████████▋                      | 151M/340M [00:33<00:30, 6.56MB/s]\u001b[A\n",
      " 45%|█████████████████▊                      | 151M/340M [00:33<00:29, 6.69MB/s]\u001b[A\n",
      " 45%|█████████████████▉                      | 152M/340M [00:33<00:28, 6.84MB/s]\u001b[A\n",
      " 45%|█████████████████▉                      | 153M/340M [00:33<00:27, 7.09MB/s]\u001b[A\n",
      " 45%|██████████████████                      | 154M/340M [00:33<00:26, 7.31MB/s]\u001b[A\n",
      " 45%|██████████████████▏                     | 154M/340M [00:33<00:26, 7.38MB/s]\u001b[A\n",
      " 46%|██████████████████▏                     | 155M/340M [00:33<00:25, 7.50MB/s]\u001b[A\n",
      " 46%|██████████████████▎                     | 156M/340M [00:33<00:25, 7.73MB/s]\u001b[A\n",
      " 46%|██████████████████▍                     | 157M/340M [00:33<00:25, 7.67MB/s]\u001b[A\n",
      " 46%|██████████████████▌                     | 157M/340M [00:34<00:24, 7.78MB/s]\u001b[A\n",
      " 46%|██████████████████▌                     | 158M/340M [00:34<00:24, 7.86MB/s]\u001b[A\n",
      " 47%|██████████████████▋                     | 159M/340M [00:34<00:23, 8.03MB/s]\u001b[A\n",
      " 47%|██████████████████▊                     | 160M/340M [00:34<00:23, 8.21MB/s]\u001b[A\n",
      " 47%|██████████████████▉                     | 161M/340M [00:34<00:22, 8.49MB/s]\u001b[A\n",
      " 47%|██████████████████▉                     | 162M/340M [00:34<00:21, 8.62MB/s]\u001b[A\n",
      " 48%|███████████████████                     | 162M/340M [00:34<00:21, 8.80MB/s]\u001b[A\n",
      " 48%|███████████████████▏                    | 163M/340M [00:34<00:20, 8.92MB/s]\u001b[A\n",
      " 48%|███████████████████▎                    | 164M/340M [00:34<00:20, 8.98MB/s]\u001b[A\n",
      " 49%|███████████████████▍                    | 165M/340M [00:34<00:20, 9.06MB/s]\u001b[A\n",
      " 49%|███████████████████▌                    | 166M/340M [00:35<00:20, 9.06MB/s]\u001b[A\n",
      " 49%|███████████████████▋                    | 167M/340M [00:35<00:19, 9.18MB/s]\u001b[A\n",
      " 49%|███████████████████▋                    | 168M/340M [00:35<00:19, 9.27MB/s]\u001b[A\n",
      " 50%|███████████████████▊                    | 169M/340M [00:35<00:19, 9.39MB/s]\u001b[A\n",
      " 50%|███████████████████▉                    | 170M/340M [00:35<00:18, 9.64MB/s]\u001b[A\n",
      " 50%|████████████████████                    | 171M/340M [00:35<00:18, 9.74MB/s]\u001b[A\n",
      " 50%|████████████████████▏                   | 172M/340M [00:35<00:17, 9.87MB/s]\u001b[A\n",
      " 51%|████████████████████▎                   | 173M/340M [00:35<00:17, 10.2MB/s]\u001b[A\n",
      " 51%|████████████████████▍                   | 174M/340M [00:35<00:17, 10.2MB/s]\u001b[A\n",
      " 51%|████████████████████▌                   | 175M/340M [00:35<00:16, 10.2MB/s]\u001b[A\n",
      " 52%|████████████████████▋                   | 176M/340M [00:36<00:16, 10.2MB/s]\u001b[A\n",
      " 52%|████████████████████▊                   | 177M/340M [00:36<00:16, 10.3MB/s]\u001b[A\n",
      " 52%|████████████████████▉                   | 178M/340M [00:36<00:19, 8.91MB/s]\u001b[A\n",
      " 52%|████████████████████▉                   | 179M/340M [00:36<00:20, 8.08MB/s]\u001b[A\n",
      " 53%|█████████████████████                   | 179M/340M [00:36<00:21, 7.88MB/s]\u001b[A\n",
      " 53%|█████████████████████▏                  | 180M/340M [00:36<00:20, 8.26MB/s]\u001b[A\n",
      " 53%|█████████████████████▎                  | 181M/340M [00:36<00:20, 8.21MB/s]\u001b[A\n",
      " 53%|█████████████████████▍                  | 182M/340M [00:36<00:19, 8.34MB/s]\u001b[A\n",
      " 54%|█████████████████████▍                  | 183M/340M [00:37<00:19, 8.35MB/s]\u001b[A\n",
      " 54%|█████████████████████▌                  | 183M/340M [00:37<00:19, 8.41MB/s]\u001b[A\n",
      " 54%|█████████████████████▋                  | 184M/340M [00:37<00:19, 8.42MB/s]\u001b[A\n",
      " 54%|█████████████████████▊                  | 185M/340M [00:37<00:19, 8.49MB/s]\u001b[A\n",
      " 55%|█████████████████████▉                  | 186M/340M [00:37<00:18, 8.58MB/s]\u001b[A\n",
      " 55%|█████████████████████▉                  | 187M/340M [00:37<00:18, 8.92MB/s]\u001b[A\n",
      " 55%|██████████████████████                  | 188M/340M [00:37<00:17, 9.16MB/s]\u001b[A\n",
      " 56%|██████████████████████▏                 | 189M/340M [00:37<00:17, 9.10MB/s]\u001b[A\n",
      " 56%|██████████████████████▎                 | 190M/340M [00:37<00:16, 9.29MB/s]\u001b[A\n",
      " 56%|██████████████████████▍                 | 191M/340M [00:37<00:16, 9.49MB/s]\u001b[A\n",
      " 56%|██████████████████████▌                 | 192M/340M [00:38<00:16, 9.53MB/s]\u001b[A\n",
      " 57%|██████████████████████▋                 | 193M/340M [00:38<00:15, 9.70MB/s]\u001b[A\n",
      " 57%|██████████████████████▊                 | 193M/340M [00:38<00:15, 9.66MB/s]\u001b[A\n",
      " 57%|██████████████████████▊                 | 194M/340M [00:38<00:15, 9.78MB/s]\u001b[A\n",
      " 57%|██████████████████████▉                 | 195M/340M [00:38<00:15, 10.0MB/s]\u001b[A\n",
      " 58%|███████████████████████                 | 196M/340M [00:38<00:14, 10.2MB/s]\u001b[A\n",
      " 58%|███████████████████████▏                | 197M/340M [00:38<00:14, 10.2MB/s]\u001b[A\n",
      " 58%|███████████████████████▎                | 198M/340M [00:38<00:14, 10.3MB/s]\u001b[A\n",
      " 59%|███████████████████████▍                | 200M/340M [00:38<00:14, 10.4MB/s]\u001b[A\n",
      " 59%|███████████████████████▌                | 200M/340M [00:38<00:15, 9.36MB/s]\u001b[A\n",
      " 59%|███████████████████████▋                | 201M/340M [00:39<00:16, 8.57MB/s]\u001b[A\n",
      " 59%|███████████████████████▊                | 202M/340M [00:39<00:17, 8.11MB/s]\u001b[A\n",
      " 60%|███████████████████████▉                | 203M/340M [00:39<00:17, 8.37MB/s]\u001b[A\n",
      " 60%|███████████████████████▉                | 204M/340M [00:39<00:17, 8.40MB/s]\u001b[A\n",
      " 60%|████████████████████████                | 205M/340M [00:39<00:16, 8.43MB/s]\u001b[A\n",
      " 60%|████████████████████████▏               | 206M/340M [00:39<00:16, 8.30MB/s]\u001b[A\n",
      " 61%|████████████████████████▎               | 206M/340M [00:39<00:16, 8.26MB/s]\u001b[A\n",
      " 61%|████████████████████████▍               | 207M/340M [00:39<00:16, 8.53MB/s]\u001b[A\n",
      " 61%|████████████████████████▍               | 208M/340M [00:39<00:16, 8.53MB/s]\u001b[A\n",
      " 61%|████████████████████████▌               | 209M/340M [00:40<00:16, 8.49MB/s]\u001b[A\n",
      " 62%|████████████████████████▋               | 210M/340M [00:40<00:15, 8.56MB/s]\u001b[A\n",
      " 62%|████████████████████████▊               | 211M/340M [00:40<00:15, 8.78MB/s]\u001b[A\n",
      " 62%|████████████████████████▊               | 211M/340M [00:40<00:15, 8.88MB/s]\u001b[A\n",
      " 62%|████████████████████████▉               | 212M/340M [00:40<00:15, 8.85MB/s]\u001b[A\n",
      " 63%|█████████████████████████               | 213M/340M [00:40<00:15, 8.70MB/s]\u001b[A\n",
      " 63%|█████████████████████████▏              | 214M/340M [00:40<00:15, 8.33MB/s]\u001b[A\n",
      " 63%|█████████████████████████▎              | 215M/340M [00:40<00:17, 7.51MB/s]\u001b[A\n",
      " 63%|█████████████████████████▎              | 216M/340M [00:40<00:19, 6.68MB/s]\u001b[A\n",
      " 64%|█████████████████████████▍              | 216M/340M [00:41<00:20, 6.22MB/s]\u001b[A\n",
      " 64%|█████████████████████████▌              | 217M/340M [00:41<00:21, 6.04MB/s]\u001b[A\n",
      " 64%|█████████████████████████▌              | 217M/340M [00:41<00:22, 5.71MB/s]\u001b[A\n",
      " 64%|█████████████████████████▋              | 218M/340M [00:41<00:26, 4.90MB/s]\u001b[A\n",
      " 64%|█████████████████████████▋              | 219M/340M [00:41<00:26, 4.88MB/s]\u001b[A\n",
      " 64%|█████████████████████████▊              | 219M/340M [00:41<00:25, 4.96MB/s]\u001b[A\n",
      " 65%|█████████████████████████▊              | 219M/340M [00:41<00:26, 4.82MB/s]\u001b[A\n",
      " 65%|█████████████████████████▉              | 220M/340M [00:41<00:24, 5.20MB/s]\u001b[A\n",
      " 65%|█████████████████████████▉              | 221M/340M [00:42<00:22, 5.51MB/s]\u001b[A\n",
      " 65%|██████████████████████████              | 221M/340M [00:42<00:23, 5.36MB/s]\u001b[A\n",
      " 65%|██████████████████████████              | 222M/340M [00:42<00:22, 5.59MB/s]\u001b[A\n",
      " 65%|██████████████████████████▏             | 222M/340M [00:42<00:22, 5.41MB/s]\u001b[A\n",
      " 66%|██████████████████████████▏             | 223M/340M [00:42<00:23, 5.24MB/s]\u001b[A\n",
      " 66%|██████████████████████████▎             | 223M/340M [00:42<00:23, 5.16MB/s]\u001b[A\n",
      " 66%|██████████████████████████▎             | 224M/340M [00:42<00:23, 5.21MB/s]\u001b[A\n",
      " 66%|██████████████████████████▍             | 224M/340M [00:42<00:22, 5.37MB/s]\u001b[A\n",
      " 66%|██████████████████████████▍             | 225M/340M [00:42<00:22, 5.40MB/s]\u001b[A\n",
      " 66%|██████████████████████████▌             | 226M/340M [00:42<00:21, 5.50MB/s]\u001b[A\n",
      " 66%|██████████████████████████▌             | 226M/340M [00:43<00:21, 5.60MB/s]\u001b[A\n",
      " 67%|██████████████████████████▋             | 227M/340M [00:43<00:20, 5.83MB/s]\u001b[A\n",
      " 67%|██████████████████████████▋             | 227M/340M [00:43<00:19, 5.94MB/s]\u001b[A\n",
      " 67%|██████████████████████████▊             | 228M/340M [00:43<00:19, 6.02MB/s]\u001b[A\n",
      " 67%|██████████████████████████▉             | 229M/340M [00:43<00:18, 6.21MB/s]\u001b[A\n",
      " 67%|██████████████████████████▉             | 229M/340M [00:43<00:18, 6.29MB/s]\u001b[A\n",
      " 68%|███████████████████████████             | 230M/340M [00:43<00:18, 6.25MB/s]\u001b[A\n",
      " 68%|███████████████████████████             | 230M/340M [00:43<00:18, 6.31MB/s]\u001b[A\n",
      " 68%|███████████████████████████▏            | 231M/340M [00:43<00:18, 6.34MB/s]\u001b[A\n",
      " 68%|███████████████████████████▏            | 232M/340M [00:43<00:17, 6.39MB/s]\u001b[A\n",
      " 68%|███████████████████████████▎            | 232M/340M [00:44<00:17, 6.56MB/s]\u001b[A\n",
      " 69%|███████████████████████████▍            | 233M/340M [00:44<00:16, 6.77MB/s]\u001b[A\n",
      " 69%|███████████████████████████▍            | 234M/340M [00:44<00:16, 6.76MB/s]\u001b[A\n",
      " 69%|███████████████████████████▌            | 234M/340M [00:44<00:15, 6.93MB/s]\u001b[A\n",
      " 69%|███████████████████████████▋            | 235M/340M [00:44<00:15, 7.22MB/s]\u001b[A\n",
      " 69%|███████████████████████████▋            | 236M/340M [00:44<00:14, 7.46MB/s]\u001b[A\n",
      " 70%|███████████████████████████▊            | 237M/340M [00:44<00:14, 7.48MB/s]\u001b[A\n",
      " 70%|███████████████████████████▉            | 237M/340M [00:44<00:16, 6.43MB/s]\u001b[A\n",
      " 70%|███████████████████████████▉            | 238M/340M [00:44<00:18, 5.78MB/s]\u001b[A\n",
      " 70%|████████████████████████████            | 239M/340M [00:45<00:16, 6.37MB/s]\u001b[A\n",
      " 70%|████████████████████████████▏           | 240M/340M [00:45<00:15, 6.89MB/s]\u001b[A\n",
      " 71%|████████████████████████████▎           | 240M/340M [00:45<00:14, 7.11MB/s]\u001b[A\n",
      " 71%|████████████████████████████▎           | 241M/340M [00:45<00:14, 7.32MB/s]\u001b[A\n",
      " 71%|████████████████████████████▍           | 242M/340M [00:45<00:13, 7.70MB/s]\u001b[A\n",
      " 71%|████████████████████████████▌           | 243M/340M [00:45<00:12, 7.95MB/s]\u001b[A\n",
      " 72%|████████████████████████████▋           | 244M/340M [00:45<00:12, 7.99MB/s]\u001b[A\n",
      " 72%|████████████████████████████▋           | 244M/340M [00:45<00:13, 7.68MB/s]\u001b[A\n",
      " 72%|████████████████████████████▊           | 245M/340M [00:45<00:13, 7.51MB/s]\u001b[A\n",
      " 72%|████████████████████████████▉           | 246M/340M [00:46<00:13, 7.29MB/s]\u001b[A\n",
      " 72%|████████████████████████████▉           | 246M/340M [00:46<00:13, 7.14MB/s]\u001b[A\n",
      " 73%|█████████████████████████████           | 247M/340M [00:46<00:13, 7.12MB/s]\u001b[A\n",
      " 73%|█████████████████████████████▏          | 248M/340M [00:46<00:13, 7.02MB/s]\u001b[A\n",
      " 73%|█████████████████████████████▏          | 249M/340M [00:46<00:13, 7.18MB/s]\u001b[A\n",
      " 73%|█████████████████████████████▎          | 249M/340M [00:46<00:13, 7.31MB/s]\u001b[A\n",
      " 74%|█████████████████████████████▍          | 250M/340M [00:46<00:12, 7.28MB/s]\u001b[A\n",
      " 74%|█████████████████████████████▍          | 251M/340M [00:46<00:12, 7.35MB/s]\u001b[A\n",
      " 74%|█████████████████████████████▌          | 252M/340M [00:46<00:12, 7.40MB/s]\u001b[A\n",
      " 74%|█████████████████████████████▋          | 252M/340M [00:46<00:12, 7.52MB/s]\u001b[A\n",
      " 74%|█████████████████████████████▊          | 253M/340M [00:47<00:11, 7.63MB/s]\u001b[A\n",
      " 75%|█████████████████████████████▊          | 254M/340M [00:47<00:11, 7.72MB/s]\u001b[A\n",
      " 75%|█████████████████████████████▉          | 255M/340M [00:47<00:11, 7.89MB/s]\u001b[A\n",
      " 75%|██████████████████████████████          | 255M/340M [00:47<00:11, 7.98MB/s]\u001b[A\n",
      " 75%|██████████████████████████████▏         | 256M/340M [00:47<00:10, 8.15MB/s]\u001b[A\n",
      " 76%|██████████████████████████████▏         | 257M/340M [00:47<00:10, 8.39MB/s]\u001b[A\n",
      " 76%|██████████████████████████████▎         | 258M/340M [00:47<00:10, 8.51MB/s]\u001b[A\n",
      " 76%|██████████████████████████████▍         | 259M/340M [00:47<00:09, 8.60MB/s]\u001b[A\n",
      " 76%|██████████████████████████████▌         | 260M/340M [00:47<00:09, 8.79MB/s]\u001b[A\n",
      " 77%|██████████████████████████████▋         | 261M/340M [00:47<00:09, 8.95MB/s]\u001b[A\n",
      " 77%|██████████████████████████████▊         | 261M/340M [00:48<00:09, 8.94MB/s]\u001b[A\n",
      " 77%|██████████████████████████████▊         | 262M/340M [00:48<00:09, 8.33MB/s]\u001b[A\n",
      " 77%|██████████████████████████████▉         | 263M/340M [00:48<00:11, 7.04MB/s]\u001b[A\n",
      " 78%|███████████████████████████████         | 264M/340M [00:48<00:12, 6.56MB/s]\u001b[A\n",
      " 78%|███████████████████████████████         | 264M/340M [00:48<00:12, 6.20MB/s]\u001b[A\n",
      " 78%|███████████████████████████████▏        | 265M/340M [00:48<00:12, 6.06MB/s]\u001b[A\n",
      " 78%|███████████████████████████████▎        | 266M/340M [00:48<00:11, 7.00MB/s]\u001b[A\n",
      " 79%|███████████████████████████████▍        | 267M/340M [00:48<00:09, 7.80MB/s]\u001b[A\n",
      " 79%|███████████████████████████████▌        | 268M/340M [00:49<00:08, 8.41MB/s]\u001b[A\n",
      " 79%|███████████████████████████████▋        | 269M/340M [00:49<00:08, 8.89MB/s]\u001b[A\n",
      " 79%|███████████████████████████████▋        | 270M/340M [00:49<00:07, 9.23MB/s]\u001b[A\n",
      " 80%|███████████████████████████████▊        | 271M/340M [00:49<00:07, 9.59MB/s]\u001b[A\n",
      " 80%|███████████████████████████████▉        | 272M/340M [00:49<00:07, 9.76MB/s]\u001b[A\n",
      " 80%|████████████████████████████████        | 273M/340M [00:49<00:07, 10.0MB/s]\u001b[A\n",
      " 81%|████████████████████████████████▏       | 274M/340M [00:49<00:06, 10.4MB/s]\u001b[A\n",
      " 81%|████████████████████████████████▎       | 275M/340M [00:49<00:06, 10.5MB/s]\u001b[A\n",
      " 81%|████████████████████████████████▍       | 276M/340M [00:49<00:06, 10.6MB/s]\u001b[A\n",
      " 81%|████████████████████████████████▌       | 277M/340M [00:49<00:06, 10.9MB/s]\u001b[A\n",
      " 82%|████████████████████████████████▋       | 278M/340M [00:50<00:05, 11.0MB/s]\u001b[A\n",
      " 82%|████████████████████████████████▊       | 279M/340M [00:50<00:05, 10.9MB/s]\u001b[A\n",
      " 82%|████████████████████████████████▉       | 280M/340M [00:50<00:05, 11.0MB/s]\u001b[A\n",
      " 83%|█████████████████████████████████       | 281M/340M [00:50<00:05, 11.2MB/s]\u001b[A\n",
      " 83%|█████████████████████████████████▏      | 283M/340M [00:50<00:05, 11.2MB/s]\u001b[A\n",
      " 83%|█████████████████████████████████▎      | 284M/340M [00:50<00:06, 9.63MB/s]\u001b[A\n",
      " 84%|█████████████████████████████████▍      | 285M/340M [00:50<00:07, 7.65MB/s]\u001b[A\n",
      " 84%|█████████████████████████████████▌      | 286M/340M [00:50<00:06, 8.62MB/s]\u001b[A\n",
      " 84%|█████████████████████████████████▋      | 287M/340M [00:51<00:06, 9.28MB/s]\u001b[A\n",
      " 85%|█████████████████████████████████▊      | 288M/340M [00:51<00:05, 9.96MB/s]\u001b[A\n",
      " 85%|█████████████████████████████████▉      | 289M/340M [00:51<00:05, 10.3MB/s]\u001b[A\n",
      " 85%|██████████████████████████████████▏     | 290M/340M [00:51<00:04, 10.9MB/s]\u001b[A\n",
      " 86%|██████████████████████████████████▎     | 291M/340M [00:51<00:04, 11.2MB/s]\u001b[A\n",
      " 86%|██████████████████████████████████▍     | 292M/340M [00:51<00:04, 11.2MB/s]\u001b[A\n",
      " 86%|██████████████████████████████████▌     | 294M/340M [00:51<00:04, 11.4MB/s]\u001b[A\n",
      " 87%|██████████████████████████████████▋     | 295M/340M [00:51<00:04, 11.8MB/s]\u001b[A\n",
      " 87%|██████████████████████████████████▊     | 296M/340M [00:51<00:03, 11.9MB/s]\u001b[A\n",
      " 87%|██████████████████████████████████▉     | 297M/340M [00:51<00:03, 12.0MB/s]\u001b[A\n",
      " 88%|███████████████████████████████████     | 298M/340M [00:52<00:03, 11.9MB/s]\u001b[A\n",
      " 88%|███████████████████████████████████▏    | 299M/340M [00:52<00:03, 12.0MB/s]\u001b[A\n",
      " 88%|███████████████████████████████████▎    | 301M/340M [00:52<00:03, 12.2MB/s]\u001b[A\n",
      " 89%|███████████████████████████████████▌    | 302M/340M [00:52<00:03, 12.2MB/s]\u001b[A\n",
      " 89%|███████████████████████████████████▋    | 303M/340M [00:52<00:03, 12.1MB/s]\u001b[A\n",
      " 89%|███████████████████████████████████▊    | 304M/340M [00:52<00:03, 12.1MB/s]\u001b[A\n",
      " 90%|███████████████████████████████████▉    | 305M/340M [00:52<00:03, 11.9MB/s]\u001b[A\n",
      " 90%|████████████████████████████████████    | 306M/340M [00:52<00:02, 12.0MB/s]\u001b[A\n",
      " 90%|████████████████████████████████████▏   | 308M/340M [00:52<00:03, 9.06MB/s]\u001b[A\n",
      " 91%|████████████████████████████████████▎   | 309M/340M [00:53<00:04, 7.80MB/s]\u001b[A\n",
      " 91%|████████████████████████████████████▍   | 309M/340M [00:53<00:04, 7.10MB/s]\u001b[A\n",
      " 91%|████████████████████████████████████▍   | 310M/340M [00:53<00:05, 5.93MB/s]\u001b[A\n",
      " 91%|████████████████████████████████████▌   | 311M/340M [00:53<00:04, 6.82MB/s]\u001b[A\n",
      " 92%|████████████████████████████████████▋   | 312M/340M [00:53<00:04, 6.97MB/s]\u001b[A\n",
      " 92%|████████████████████████████████████▊   | 313M/340M [00:53<00:04, 7.16MB/s]\u001b[A\n",
      " 92%|████████████████████████████████████▊   | 313M/340M [00:53<00:03, 7.34MB/s]\u001b[A\n",
      " 92%|████████████████████████████████████▉   | 314M/340M [00:54<00:03, 7.35MB/s]\u001b[A\n",
      " 93%|█████████████████████████████████████   | 315M/340M [00:54<00:03, 7.41MB/s]\u001b[A\n",
      " 93%|█████████████████████████████████████▏  | 316M/340M [00:54<00:03, 7.66MB/s]\u001b[A\n",
      " 93%|█████████████████████████████████████▏  | 316M/340M [00:54<00:03, 7.86MB/s]\u001b[A\n",
      " 93%|█████████████████████████████████████▎  | 317M/340M [00:54<00:03, 7.96MB/s]\u001b[A\n",
      " 94%|█████████████████████████████████████▍  | 318M/340M [00:54<00:02, 8.15MB/s]\u001b[A\n",
      " 94%|█████████████████████████████████████▌  | 319M/340M [00:54<00:02, 8.00MB/s]\u001b[A\n",
      " 94%|█████████████████████████████████████▌  | 320M/340M [00:54<00:02, 8.32MB/s]\u001b[A\n",
      " 94%|█████████████████████████████████████▋  | 321M/340M [00:54<00:02, 8.40MB/s]\u001b[A\n",
      " 95%|█████████████████████████████████████▊  | 321M/340M [00:55<00:02, 6.87MB/s]\u001b[A\n",
      " 95%|█████████████████████████████████████▉  | 322M/340M [00:55<00:02, 7.18MB/s]\u001b[A\n",
      " 95%|█████████████████████████████████████▉  | 323M/340M [00:55<00:02, 7.08MB/s]\u001b[A\n",
      " 95%|██████████████████████████████████████  | 324M/340M [00:55<00:02, 7.02MB/s]\u001b[A\n",
      " 95%|██████████████████████████████████████▏ | 324M/340M [00:55<00:02, 7.06MB/s]\u001b[A\n",
      " 96%|██████████████████████████████████████▏ | 325M/340M [00:55<00:02, 7.02MB/s]\u001b[A\n",
      " 96%|██████████████████████████████████████▎ | 326M/340M [00:55<00:02, 7.05MB/s]\u001b[A\n",
      " 96%|██████████████████████████████████████▍ | 326M/340M [00:55<00:02, 7.03MB/s]\u001b[A\n",
      " 96%|██████████████████████████████████████▍ | 327M/340M [00:55<00:01, 7.27MB/s]\u001b[A\n",
      " 96%|██████████████████████████████████████▌ | 328M/340M [00:55<00:01, 7.41MB/s]\u001b[A\n",
      " 97%|██████████████████████████████████████▋ | 329M/340M [00:56<00:01, 7.52MB/s]\u001b[A\n",
      " 97%|██████████████████████████████████████▋ | 329M/340M [00:56<00:01, 7.61MB/s]\u001b[A\n",
      " 97%|██████████████████████████████████████▊ | 330M/340M [00:56<00:01, 7.27MB/s]\u001b[A\n",
      " 97%|██████████████████████████████████████▉ | 331M/340M [00:56<00:01, 7.25MB/s]\u001b[A\n",
      " 97%|██████████████████████████████████████▉ | 331M/340M [00:56<00:01, 6.81MB/s]\u001b[A\n",
      " 98%|███████████████████████████████████████ | 332M/340M [00:56<00:01, 6.64MB/s]\u001b[A\n",
      " 98%|███████████████████████████████████████▏| 333M/340M [00:56<00:01, 6.64MB/s]\u001b[A\n",
      " 98%|███████████████████████████████████████▏| 333M/340M [00:56<00:01, 6.58MB/s]\u001b[A\n",
      " 98%|███████████████████████████████████████▎| 334M/340M [00:56<00:00, 6.53MB/s]\u001b[A\n",
      " 98%|███████████████████████████████████████▎| 335M/340M [00:57<00:00, 6.17MB/s]\u001b[A\n",
      " 99%|███████████████████████████████████████▍| 335M/340M [00:57<00:01, 4.94MB/s]\u001b[A\n",
      " 99%|███████████████████████████████████████▍| 336M/340M [00:57<00:00, 5.04MB/s]\u001b[A\n",
      " 99%|███████████████████████████████████████▌| 336M/340M [00:57<00:00, 5.12MB/s]\u001b[A\n",
      " 99%|███████████████████████████████████████▌| 337M/340M [00:57<00:00, 5.18MB/s]\u001b[A\n",
      " 99%|███████████████████████████████████████▋| 337M/340M [00:57<00:00, 5.45MB/s]\u001b[A\n",
      " 99%|███████████████████████████████████████▋| 338M/340M [00:57<00:00, 5.48MB/s]\u001b[A\n",
      "100%|███████████████████████████████████████▊| 338M/340M [00:57<00:00, 5.64MB/s]\u001b[A\n",
      "100%|███████████████████████████████████████▉| 339M/340M [00:57<00:00, 5.62MB/s]\u001b[A\n",
      "100%|███████████████████████████████████████▉| 340M/340M [00:58<00:00, 5.60MB/s]\u001b[A\n",
      "                                                                                \u001b[A"
     ]
    },
    {
     "name": "stdout",
     "output_type": "stream",
     "text": [
      "Found: S3A_OL_2_WRR____20210717T095732_20210717T104152_20210718T152419_2660_074_122______MAR_O_NT_003.SEN3.zip\n",
      "Unzipping of product S3A_OL_2_WRR____20210717T095732_20210717T104152_20210718T152419_2660_074_122______MAR_O_NT_003.SEN3.zip finished.\n"
     ]
    },
    {
     "name": "stderr",
     "output_type": "stream",
     "text": [
      "                                                                                \r"
     ]
    },
    {
     "name": "stdout",
     "output_type": "stream",
     "text": [
      "Found: S3A_OL_2_WFR____20210717T101015_20210717T101315_20210718T221347_0179_074_122_1980_MAR_O_NT_003.SEN3.zip\n",
      "Unzipping of product S3A_OL_2_WFR____20210717T101015_20210717T101315_20210718T221347_0179_074_122_1980_MAR_O_NT_003.SEN3.zip finished.\n"
     ]
    }
   ],
   "source": [
    "for query in queries:\n",
    "    matches = c.search(query)\n",
    "    matches.download()\n",
    "    for match in matches.results:\n",
    "        fdst = f\"{match['id']}.zip\"\n",
    "        print(f\"Found: {fdst}\")        \n",
    "        with zipfile.ZipFile(fdst, 'r') as zip_ref:\n",
    "            zip_ref.extractall(download_dir)\n",
    "            print(f'Unzipping of product {fdst} finished.')\n",
    "        os.remove(fdst)"
   ]
  },
  {
   "cell_type": "markdown",
   "metadata": {},
   "source": [
    "You can now continue to work through the rest of the notebooks in this repository and learn more about working with OLCI data."
   ]
  },
  {
   "cell_type": "markdown",
   "metadata": {},
   "source": [
    "<hr>\n",
    "<a href=\"../Index.ipynb\" target=\"_blank\"><< Index</a>\n",
    "<br>\n",
    "<a href=\"./1_2_OLCI_file_structure.ipynb\" target=\"_blank\">Understanding OLCI product structure >></a>\n",
    "<hr>\n",
    "\n",
    "<a href=\"https://gitlab.eumetsat.int/eumetlab/ocean\" target=\"_blank\">View on GitLab</a> | <a href=\"https://training.eumetsat.int/\" target=\"_blank\">EUMETSAT Training</a> | <a href=mailto:ops@eumetsat.int target=\"_blank\">Contact helpdesk for support </a> | <a href=mailto:training@eumetsat.int target=\"_blank\">Contact our training team to collaborate on and reuse this material</a></span></p>"
   ]
  }
 ],
 "metadata": {
  "author": "Ben Loveday, Hayley Evers-King",
  "content_type": "Software & code",
  "data_access": "WEkEO",
  "deployment": {
   "eumetsat": {
    "binder": {
     "link": "https://mybinder.org/v2/git/https%3A%2F%2Fgitlab.eumetsat.int%2Feumetlab%2Foceans%2Focean-training%2Fsensors%2Flearn-olci/HEAD?urlpath=%2Ftree%2F1_OLCI_introductory%2F1_1a_OLCI_data_access_Data_Store.ipynb",
     "service_contact": "ops@eumetsat.int",
     "service_provider": "EUMETSAT"
    },
    "git": {
     "link": "https://gitlab.eumetsat.int/eumetlab/oceans/ocean-training/sensors/learn-olci/-/blob/main/1_OLCI_introductory/1_1b_OLCI_data_access_HDA.ipynb",
     "service_contact": "ops@eumetsat.int",
     "service_provider": "EUMETSAT"
    }
   },
   "wekeo": {
    "git": {
     "link": "https://github.com/wekeo/learn-olci/blob/main/1_OLCI_introductory/1_1b_OLCI_data_access_HDA.ipynb",
     "service_contact": "ops@eumetsat.int",
     "service_provider": "EUMETSAT"
    },
    "url": {
     "link": "https://jupyterhub-wekeo.apps.eumetsat.dpi.wekeo.eu/hub/user-redirect/lab/tree/public/wekeo4oceans/learn-olci/1_OLCI_introductory/1_1b_OLCI_data_access_HDA.ipynb",
     "service_contact": "ops@eumetsat.int",
     "service_provider": "EUMETSAT"
    }
   }
  },
  "description": "This Jupyter Notebook shows how to access Sentinel-3 Ocean and Land Colour Instrument (OLCI) data via the WEkEO catalogue using the Harmonised Data Access (HDA) adaptor.",
  "image": "../img/thumbs/1_1b_OLCI_data_access_HDA_thumb.png",
  "kernelspec": {
   "display_name": "Python 3 (ipykernel)",
   "language": "python",
   "name": "python3"
  },
  "language_info": {
   "codemirror_mode": {
    "name": "ipython",
    "version": 3
   },
   "file_extension": ".py",
   "mimetype": "text/x-python",
   "name": "python",
   "nbconvert_exporter": "python",
   "pygments_lexer": "ipython3",
   "version": "3.10.14"
  },
  "license": "MIT",
  "metadata_schema_version": "2.0.0",
  "originator": "EUMETSAT",
  "tags": {
   "data_provider": "EUMETSAT",
   "orbit": "",
   "satellite": "Sentinel-3",
   "sensor": "OLCI (Sentinel-3)",
   "service": "Ocean colour",
   "subtheme": [
    "Ocean biogeochemistry",
    "Water quality",
    "Ocean dynamics"
   ],
   "theme": "Marine",
   "variable": [
    "Top-of-atmosphere radiance",
    "Water leaving reflectance",
    "Chlorophyll concentration",
    "Photosynthetically active radiation",
    "Diffuse attentuation coefficient",
    "Coloured dissolved organic matter absorption coefficient",
    "Total suspended matter concentration",
    "Ocean colour"
   ]
  },
  "title": "Accessing Sentinel-3 OLCI data via the WEkEO HDA adaptor",
  "version": "2.0.0",
  "version_date": "2024-07-01"
 },
 "nbformat": 4,
 "nbformat_minor": 4
}
