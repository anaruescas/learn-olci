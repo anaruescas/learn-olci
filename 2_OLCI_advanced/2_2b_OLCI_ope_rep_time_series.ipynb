{
 "cells": [
  {
   "cell_type": "markdown",
   "metadata": {},
   "source": [
    "<img src='https://gitlab.eumetsat.int/eumetlab/oceans/ocean-training/tools/frameworks/-/raw/main/img/Standard_banner.png' align='right' width='100%'/>"
   ]
  },
  {
   "cell_type": "markdown",
   "metadata": {},
   "source": [
    "<a href=\"../Index.ipynb\" target=\"_blank\"><< Index</a>\n",
    "<br>\n",
    "<a href=\"./2_2a_acquire_OLCI_time_series.ipynb\" target=\"_blank\"><< OLCI data access: Acquiring a regional times series</a>&nbsp;&nbsp;&nbsp;&nbsp;&nbsp;<a href=\"./2_3a_OLCI_SNAP_batch_processing_subset_reproj_flag_CHL.ipynb\" target=\"_blank\">OLCI SNAP processing: subsetting, reprojection and flagging >></a>"
   ]
  },
  {
   "cell_type": "markdown",
   "metadata": {},
   "source": [
    "<font color=\"#138D75\">**Copernicus Marine Training Service**</font> <br>\n",
    "**Copyright:** 2024 EUMETSAT <br>\n",
    "**License:** MIT <br>\n",
    "**Authors:** Ben Loveday (EUMETSAT/Innoflair UG), Hayley Evers-King (EUMETSAT)"
   ]
  },
  {
   "cell_type": "markdown",
   "metadata": {},
   "source": [
    "<html>\n",
    "    <div style=\"float:left\"><a href=\"https://gitlab.eumetsat.int/eumetlab/oceans/ocean-training/sensors/learn-olci\"><img src=\"https://img.shields.io/badge/open-EUMETLAB-E67E22.svg?style=flat&logo=data:image/png;base64,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\" alt=\"Open in EUMETLAB\"></a></div>\n",
    "    <div style=\"float:left\"><p>&emsp;</p></div>\n",
    "  </div>\n",
    "  <div style=\"width:100%\">\n",
    "    <div style=\"float:left\"><a href=\"https://user.eumetsat.int/search-view?term=learn%20olci&sort=score%20desc&facets=%7B%22contentTypes%22:%5B%22Resources%7CSoftware%20%26%20code%22%5D,%22org-satellite-sensor%22:%5B%22EUMETSAT%7CSentinel-3%7COLCI%22%5D,%22theme%22:%5B%22Marine%22,%22Marine%7CMaritime%20safety%22,%22Marine%7COcean%20biogeochemistry%22,%22Marine%7COcean%20dynamics%22,%22Marine%7CWater%20quality%22%5D%7D\"><img src=\"https://img.shields.io/badge/open-USER PORTAL-154360.svg?style=flat&logo=data:image/png;base64,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\" alt=\"Open in user portal\"></a></div>\n",
    "    <div style=\"float:left\"><p>&emsp;</p></div>\n",
    "  </div>\n",
    "  <div style=\"width:100%\">\n",
    "    <div style=\"float:left\"><a href=\"https://mybinder.org/v2/git/https%3A%2F%2Fgitlab.eumetsat.int%2Feumetlab%2Foceans%2Focean-training%2Fsensors%2Flearn-olci/HEAD?urlpath=%2Ftree%2F2_OLCI_advanced%2F2_2b_OLCI_ope_rep_time_series.ipynb\"><img src=\"https://mybinder.org/badge_logo.svg\" alt=\"Launch on Binder\"></a></div>\n",
    "    <div style=\"float:left\"><p>&emsp;</p></div>\n",
    "  </div>\n",
    "  <div style=\"width:100%\">\n",
    "    <div style=\"float:left\"><a href=\"https://jupyterhub.prod.wekeo2.eu/hub/user-redirect/lab/tree/public/wekeo4oceans/learn-olci/2_OLCI_advanced/2_2b_OLCI_ope_rep_time_series.ipynb\"><img src=\"https://img.shields.io/badge/launch-WEKEO-1a4696.svg?style=flat&logo=data:image/png;base64,iVBORw0KGgoAAAANSUhEUgAAAA8AAAAMCAMAAACKnBfWAAAABGdBTUEAALGPC/xhBQAAACBjSFJNAAB6JgAAgIQAAPoAAACA6AAAdTAAAOpgAAA6mAAAF3CculE8AAABwlBMVEUAYbdepNtBc7VCdLhNhMQkXKpsn9RWltFZl9VlpNI3aK9fpNtMd7ZznM8pg8o4WJc2TZFHY6MmQYptiLxnqt5hptxfpNtfpNtfpNtgpdtip9x2uullqN1fpNtdo9pepdtanNQ9a65Bc7dCeb5nqt5fpNslUpssW6RMgcBTjstWldJhptxdo9phoNdkpdtfpNtoqNxepNplo9hepNthnNNfpdtelM1hptxSgL5dj8hoqt5fpNsjRYgjPog8WqBHa61TfLplqN1fpdtfpdxam9IyTIw2TZFGYaBoqt5hptxfpdtepNpfpNtgpdtjp9x5vu5do9pHgb5co9pepNtHgbwWN4AVP5AhU6JLgL9dl89epNphpttgpdtipttnqd1ho9glSIkWM3snSokeTJdHda9cksphndRmqNyTweaWxOePv+WfyemAs91QYphFUmpuclhKYHRwh5V8pNNdls6iyuq72fCNvuWIueCIlbtTW2hwcFNTY2lmfpSBpNJZj8lsq91xr99nqdx4suBrqds7V5AlNm85S20lRIJVcZxZgr1Uh8NcotpbotpdpNtGfrcTKnAOKXsYOYo4XKRJcbNHfbf////t/CgnAAAAUHRSTlMAAAAAAAAAAAAAAAAAAAAAAAAAAByF2PfyxGAJLcH+9pQvJgsav/7s57hBf/3gQdO69vH18dK4fN0+GLz96uSzPCq99JArIgkagNTz7r9bB4DtcFsAAAABYktHRJUIYHqDAAAAB3RJTUUH5wIKESIRAg6dCwAAALtJREFUCNdjYGAUERUTl5CUkmZiZmFlY2CUkZULAAJ5BUUlZXYOBhXVADAIVFPX0NTiZNDWAXKCgkNCw8IjInX1GPSjomNi4+ITEpOSU1LTDBgM0zMys7JzcvPyCwqLio0YjKNKSstKyisqq6prautMGEwD6hsam5pbWtvaOzq7zBjMdbq7g3p6+/onTJw02cKSwcoaYt8UG1s7ewcuBm5HJ7B7nF1c3dx5eBn4uD08vbx9fP38+QUEhYQB5Z40RP8+e1wAAAAldEVYdGRhdGU6Y3JlYXRlADIwMjMtMDItMTBUMTc6MzM6NDUrMDA6MDCCLR1xAAAAJXRFWHRkYXRlOm1vZGlmeQAyMDIzLTAyLTEwVDE3OjI2OjU5KzAwOjAw393bowAAAABJRU5ErkJggg==\" alt=\"Launch on WEkEO\"></a></div>\n",
    "    <div style=\"float:left\"><p>&emsp;</p></div>\n",
    "  </div> \n",
    "</html>"
   ]
  },
  {
   "cell_type": "markdown",
   "metadata": {},
   "source": [
    "<div class=\"alert alert-block alert-success\">\n",
    "<h3>Learn OLCI: Advanced</h3></div>"
   ]
  },
  {
   "cell_type": "markdown",
   "metadata": {},
   "source": [
    "<div class=\"alert alert-block alert-warning\">\n",
    "    \n",
    "<b>PREREQUISITES </b>\n",
    "    \n",
    "Users should review the following notebooks for more information on setting up a credentials files for using the eumdac python library to retrieve OLCI data from the Data Store:\n",
    "    \n",
    "- **<a href=\"../1_OLCI_introductory/1_1a_OLCI_data_access_Data_Store.ipynb\">1_1a_OLCI_data_access_Data_Store.ipynb</a>**\n",
    "\n",
    "</div>\n",
    "<hr>"
   ]
  },
  {
   "cell_type": "markdown",
   "metadata": {},
   "source": [
    "# 2.2b Acquiring OLCI timeseries from operational and reprocessed collections\n",
    "\n",
    "### Data used\n",
    "\n",
    "| Dataset | EUMETSAT Data Store<br>collection ID| EUMETSAT collection<br>description | WEkEO dataset ID | WEkEO description |\n",
    "|:--------------------:|:-----------------------:|:-------------:|:-----------------:|:-----------------:|\n",
    "| Sentinel-3 OLCI level 1b full resolution | EO:EUM:DAT:0409 | <a href=\"https://user.eumetsat.int/catalogue/EO:EUM:DAT:SENTINEL-3:OL_1_EFR___NTC\" target=\"_blank\">Description</a> | EO:EUM:DAT:SENTINEL-3:OL_1_EFR___ | <a href=\"https://www.wekeo.eu/data?view=dataset&dataset=EO%3AEUM%3ADAT%3ASENTINEL-3%3AOL_1_EFR___\" target=\"_blank\">Description</a> |\n",
    "| Sentinel-3 OLCI level 2 full resolution BC003 reprocessing | EO:EUM:DAT:0556 | <a href=\"https://user.eumetsat.int/catalogue/EO:EUM:DAT:0556\" target=\"_blank\">Description</a> | EO:EUM:DAT:SENTINEL-3:0556 | <a href=\"https://www.wekeo.eu/data?view=dataset&dataset=EO%3AEUM%3ADAT%3ASENTINEL-3%3A0556\" target=\"_blank\">Description</a> |\n",
    "\n",
    "### Learning outcomes\n",
    "\n",
    "At the end of this notebook you will know;\n",
    "* <font color=\"#138D75\">**Search**</font> for a time series of operational and reprocessed L2 OLCI data for your region of interest using the EUMETSAT Data Store API client (`eumdac`)\n",
    "* Truncate your operational time series according to available reprocessed data\n",
    "* <font color=\"#138D75\">**Download**</font> this time series\n",
    "\n",
    "### Outline\n",
    "\n",
    "The EUMETSAT Data Store offers many ways to interact with data in order to refine searches. Many of these methods are supported by the EUMETSAT Data Access Client (`eumdac`). In this notebook we will showcase some of the possibilities for using `eumdac` to better interact with OLCI collections. This notebook assumes that you already have an understanding of the available Data Store interfaces, which you can gain by running the **<a href=\"../1_OLCI_introductory/1_1a_OLCI_data_access_Data_Store.ipynb\">1_1a_OLCI_data_access_Data_Store</a>** notebook.\n",
    "\n",
    "\n",
    "<div class=\"alert alert-info\" role=\"alert\">\n",
    "\n",
    "## <a id='TOC-TOP'></a>Contents\n",
    "\n",
    "</div>\n",
    "    \n",
    "1. [Step 1: Authenticating the API](#section1)\n",
    "1. [Step 2: Creating a search by collection](#section2)\n",
    "1. [Step 3: Filtering by space](#section3)\n",
    "1. [Step 4: Filtering the operational collection by timeliness](#section4)\n",
    "1. [Step 5: Filtering the operational collection by time](#section5) \n",
    "1. [Step 6: Removing operational NTC duplicates](#section6)\n",
    "1. [Step 7: Downloading the full sequence](#section7)\n",
    "\n",
    "<hr>"
   ]
  },
  {
   "cell_type": "code",
   "execution_count": 1,
   "metadata": {},
   "outputs": [],
   "source": [
    "import datetime              # a libary that allows us to work with dates and times\n",
    "import os                    # a library that allows us access to basic operating system commands like making directories\n",
    "from pathlib import Path     # a library that helps construct system path objects\n",
    "from shapely import geometry # a library that support construction of geometry objects\n",
    "import shutil                # a library that allows us access to basic operating system commands like copy\n",
    "import zipfile               # a library that allows us to unzip zip-files.\n",
    "import eumdac                # a tool that helps us download via the eumetsat/data-store\n",
    "\n",
    "# Create a download directory for our SLSTR products\n",
    "download_dir = os.path.join(os.getcwd(), \"products\")\n",
    "os.makedirs(download_dir, exist_ok=True)"
   ]
  },
  {
   "cell_type": "markdown",
   "metadata": {},
   "source": [
    "<div class=\"alert alert-info\" role=\"alert\">\n",
    "\n",
    "## <a id='section1'></a>Step 1: Authenticating the API\n",
    "[Back to top](#TOC-TOP)\n",
    "\n",
    "</div>"
   ]
  },
  {
   "cell_type": "markdown",
   "metadata": {},
   "source": [
    "Before we use the Data Store to download data, we must first authenticate our access and retrieve an access token. More **essential** information on setting this up can be found in the **<a href=\"../1_OLCI_introductory/1_1a_OLCI_data_access_Data_Store.ipynb\">1_1a_OLCI_data_access_Data_Store</a>** notebook."
   ]
  },
  {
   "cell_type": "code",
   "execution_count": 2,
   "metadata": {},
   "outputs": [
    {
     "name": "stdout",
     "output_type": "stream",
     "text": [
      "This token '7d25a5ff-e16c-341e-8439-7e8eeaf76d27' expires 2024-07-18 14:27:16.660612\n"
     ]
    }
   ],
   "source": [
    "# load credentials\n",
    "credentials_file = os.path.join(os.path.expanduser(\"~\"),'.eumdac','credentials')\n",
    "credentials = Path(credentials_file).read_text().split(',')\n",
    "token = eumdac.AccessToken((credentials[0], credentials[1]))\n",
    "print(f\"This token '{token}' expires {token.expiration}\")\n",
    "\n",
    "# create data store object\n",
    "datastore = eumdac.DataStore(token)"
   ]
  },
  {
   "cell_type": "markdown",
   "metadata": {},
   "source": [
    "<div class=\"alert alert-info\" role=\"alert\">\n",
    "\n",
    "## <a id='section2'></a>Step 2: Creating a search by collection\n",
    "[Back to top](#TOC-TOP)\n",
    "\n",
    "</div>"
   ]
  },
  {
   "cell_type": "markdown",
   "metadata": {},
   "source": [
    "We will work with the OLCI Level-2 full resolution data throughout this notebook. The collection IDs for this data type is `EO:EUM:DAT:0407` for operational products and `EO:EUM:DAT:0556` for baseline collection BC003 reprocessed products. You can find this information on the Data Store (https://data.eumetsat.int/), or ask the `eumdac` client to tell you all the avaiable collections by calling the `eumdac.DataStore(token).collections` method."
   ]
  },
  {
   "cell_type": "code",
   "execution_count": 3,
   "metadata": {},
   "outputs": [],
   "source": [
    "# set collection ID for OLCI L2 WFR Operational\n",
    "collectionID_OPE = 'EO:EUM:DAT:0407'\n",
    "\n",
    "# set collection ID for OLCI L2 WFR reprocessing BC003\n",
    "collectionID_REP = 'EO:EUM:DAT:0556'"
   ]
  },
  {
   "cell_type": "markdown",
   "metadata": {},
   "source": [
    "To filter by collection, we simply provide the collectionID to the `datastore.get_collection method` for our operational and reprocessing selections."
   ]
  },
  {
   "cell_type": "code",
   "execution_count": 4,
   "metadata": {},
   "outputs": [
    {
     "name": "stdout",
     "output_type": "stream",
     "text": [
      "OLCI Level 2 Ocean Colour Full Resolution - Sentinel-3\n",
      "---\n",
      "OLCI (Ocean and Land Colour Instrument) Ocean Colour Geophysical Products. Full Resolution: 300m at nadir. All Sentinel-3 NRT products are available at pick-up point in less than 3h. Level 2 marine products include the following: * water-leaving reflectances in 16 bands, Oa**_reflectance (Baseline Atmospheric Correction (BAC) algorithm, bands: 400, 412, 442, 490, 510, 560, 620, 665, 674, 681, 709, 754, 779, 865, 885, 1024 nanometer (nm)); *algal pigment concentration in clear waters, chl_oc4me (BAC and maximum band ratio algorithm, log10 scaled); *algal pigment concentration in turbid waters, chl_nn (neural net algorithm, log10 scaled); *total suspended matter concentration, tsm_nn (neural net algorithm, log10 scaled); *diffuse attenuation coefficient Kd of downward irradiance at 490 nm, trsp (BAC and M07 algorithm, log10 scaled); *absorption coefficient at 443 nm of coloured detrital and dissolved organic matter, iop_nn (neural net algorithm, log10 scaled); *instantaneous photosynthetically active radiation, PAR (BAC and clear-sky ocean algorithm); *aerosol optical thickness T865 and aerosol Angstrom exponent A865, w_aer (BAC algorithm, A for bands 779 and 865 nm) *integrated water vapour column, iwv (1D-Var algorithm). The geophysical products are accompanied by error estimate products. Pixel classification, quality and science flags, as well as meteorological, geometry and geolocation data at tie points are provided. - All Sentinel-3 NRT products are available at pick-up point in less than 3h - All Sentinel-3 Non Time Critical (NTC) products are available at pick-up point in less than 30 days Sentinel-3 is part of a series of Sentinel satellites, under the umbrella of the EU Copernicus programme.\n",
      "\n",
      "\n",
      "OLCI Level 2 Ocean Colour Full Resolution (version BC003) - Sentinel-3 - Reprocessed\n",
      "---\n",
      "OLCI Level 2 Marine products provide spectral information on the colour of the oceans (water reflectances). These radiometric products are used to estimate geophysical parameters e.g. estimates of phytoplankton biomass through determining the Chlorophyll-a (Chl) concentration. In coastal areas, they also allow monitoring of the sediment load via the Total Suspended Matter (TSM) product. Full resolution products are at a nominal 300m resolution. This collection contains reprocessed data from baseline collection 003. Operational data can be found in the corresponding collection.\n"
     ]
    }
   ],
   "source": [
    "# Use collection ID\n",
    "selected_collection_OPE = datastore.get_collection(collectionID_OPE)\n",
    "print(f\"{selected_collection_OPE.title}\\n---\\n{selected_collection_OPE.abstract}\")\n",
    "\n",
    "print(\"\\n\")\n",
    "\n",
    "selected_collection_REP = datastore.get_collection(collectionID_REP)\n",
    "print(f\"{selected_collection_REP.title}\\n---\\n{selected_collection_REP.abstract}\")"
   ]
  },
  {
   "cell_type": "markdown",
   "metadata": {},
   "source": [
    "*Note: can can see a full range of the search options available in a collection object by using the `selected_collection.search_options` method*"
   ]
  },
  {
   "cell_type": "markdown",
   "metadata": {},
   "source": [
    "<div class=\"alert alert-info\" role=\"alert\">\n",
    "\n",
    "## <a id='section4'></a>Step 3: Filtering by space\n",
    "[Back to top](#TOC-TOP)\n",
    "\n",
    "</div>"
   ]
  },
  {
   "cell_type": "markdown",
   "metadata": {},
   "source": [
    "We can also add geographical filtering by passing in a <a href=\"https://en.wikipedia.org/wiki/Well-known_text_representation_of_geometry\" target=\"_blank\">Well Known Text</a> (WKT) format region of interest into the **geo** argument of the `.search()` method. The box below defines our WKT using the `shapely` geometry library, which is useful as it gives us a polygon object that we later use to compare our ROI area with the granules we are looking at."
   ]
  },
  {
   "cell_type": "code",
   "execution_count": 5,
   "metadata": {},
   "outputs": [],
   "source": [
    "# space/time filter the collection for products.\n",
    "# In this case a 1x1 degree box around the Acqua Alta Oceanographic Tower (AAOT).\n",
    "north = 45.00\n",
    "south = 46.00\n",
    "east = 12.00\n",
    "west = 13.00\n",
    "ROI = [[west, south], [east, south], [east, north], [west, north], [west, south]]\n",
    "ROI_WKT = geometry.Polygon([[p[0], p[1]] for p in ROI])"
   ]
  },
  {
   "cell_type": "markdown",
   "metadata": {},
   "source": [
    "Now lets use this polygon to refine our search..."
   ]
  },
  {
   "cell_type": "code",
   "execution_count": 6,
   "metadata": {},
   "outputs": [
    {
     "name": "stdout",
     "output_type": "stream",
     "text": [
      "Found 2159 reprocessed products\n",
      "Found 1792 operational products\n"
     ]
    }
   ],
   "source": [
    "products_REP = selected_collection_REP.search(\n",
    "    geo=ROI_WKT)\n",
    "print(f\"Found {len(products_REP)} reprocessed products\")\n",
    "\n",
    "products_OPE = selected_collection_OPE.search(\n",
    "    geo=ROI_WKT)\n",
    "print(f\"Found {len(products_OPE)} operational products\")"
   ]
  },
  {
   "cell_type": "markdown",
   "metadata": {},
   "source": [
    "<div class=\"alert alert-info\" role=\"alert\">\n",
    "\n",
    "## <a id='section4'></a>Step 4: Filtering the operational collection by timeliness\n",
    "[Back to top](#TOC-TOP)\n",
    "\n",
    "</div>"
   ]
  },
  {
   "cell_type": "markdown",
   "metadata": {},
   "source": [
    "If we are combinging operational and reprocessing products, we are often onlt interested in Non Time-Critical (NTC) OLCI products. We can add this filter to our search as follows."
   ]
  },
  {
   "cell_type": "code",
   "execution_count": 7,
   "metadata": {},
   "outputs": [
    {
     "name": "stdout",
     "output_type": "stream",
     "text": [
      "Found 1742 operational non-time critical products\n"
     ]
    }
   ],
   "source": [
    "products_OPE = selected_collection_OPE.search(\n",
    "    geo=ROI_WKT, \n",
    "    timeliness='NT')\n",
    "print(f\"Found {len(products_OPE)} operational non-time critical products\")"
   ]
  },
  {
   "cell_type": "markdown",
   "metadata": {},
   "source": [
    "<div class=\"alert alert-info\" role=\"alert\">\n",
    "\n",
    "## <a id='section5'></a>Step 5: Filtering the operational collection by time\n",
    "[Back to top](#TOC-TOP)\n",
    "\n",
    "</div>"
   ]
  },
  {
   "cell_type": "markdown",
   "metadata": {},
   "source": [
    "If our reprocessing and operational records overlap we only wish to retain the former. Put another way, we only want to include the operational products that were created after the end of the reprocessing was completed. We can do this by filtering the operational collection by date, limiting it to dates after the last available reprocessed products to now."
   ]
  },
  {
   "cell_type": "code",
   "execution_count": 8,
   "metadata": {},
   "outputs": [
    {
     "name": "stdout",
     "output_type": "stream",
     "text": [
      "The last available reprocessing products is at 20210428T094703\n"
     ]
    }
   ],
   "source": [
    "latest = products_REP.first()\n",
    "file_tags = str(latest).split('_')\n",
    "file_tags = [i for i in file_tags if i]\n",
    "latest_date = file_tags[4]\n",
    "print(f\"The last available reprocessing products is at {latest_date}\")"
   ]
  },
  {
   "cell_type": "code",
   "execution_count": 9,
   "metadata": {},
   "outputs": [
    {
     "name": "stdout",
     "output_type": "stream",
     "text": [
      "Found 1742 matching products that occur after the end of the reprocessing\n"
     ]
    }
   ],
   "source": [
    "products_OPE = selected_collection_OPE.search(\n",
    "    geo=ROI_WKT,\n",
    "    dtstart=datetime.datetime.strptime(latest_date,\"%Y%m%dT%H%M%S\")+datetime.timedelta(seconds=1),\n",
    "    timeliness='NT')\n",
    "print(f\"Found {len(products_OPE)} matching products that occur after the end of the reprocessing\")"
   ]
  },
  {
   "cell_type": "markdown",
   "metadata": {},
   "source": [
    "<div class=\"alert alert-info\" role=\"alert\">\n",
    "\n",
    "## <a id='section6'></a>Step 6: Removing operational NTC duplicates\n",
    "[Back to top](#TOC-TOP)\n",
    "\n",
    "</div>"
   ]
  },
  {
   "cell_type": "markdown",
   "metadata": {},
   "source": [
    "Sometimes, during NTC processing, we have to revisit some granules to process them further. This is typically due to missing ancillary data that we have to wait for. In this case, we first pass and final pass products are both on the system. We only want the latter, final, product, which always has a later time. The box below will filter for the latest options only, taking advantage of the Data Stores default to show most recent products first."
   ]
  },
  {
   "cell_type": "code",
   "execution_count": 10,
   "metadata": {},
   "outputs": [
    {
     "name": "stdout",
     "output_type": "stream",
     "text": [
      "Found 1739 products\n"
     ]
    }
   ],
   "source": [
    "processed_list = []\n",
    "final_products_OPE = []\n",
    "for product_OPE in products_OPE:\n",
    "    file_tags = str(product_OPE).split('_')\n",
    "    file_tags = [i for i in file_tags if i]\n",
    "    granule_start = file_tags[4]\n",
    "    if granule_start not in processed_list:\n",
    "        final_products_OPE.append(product_OPE)\n",
    "        processed_list.append(granule_start)\n",
    "        \n",
    "print(f\"Found {len(final_products_OPE)} products\")"
   ]
  },
  {
   "cell_type": "markdown",
   "metadata": {},
   "source": [
    "<div class=\"alert alert-info\" role=\"alert\">\n",
    "\n",
    "## <a id='section7'></a>Step 7: Downloading the full sequence\n",
    "[Back to top](#TOC-TOP)\n",
    "\n",
    "</div>"
   ]
  },
  {
   "cell_type": "markdown",
   "metadata": {},
   "source": [
    "We now have two, mutually exclusive lists of products. We can concatenate them into a single list as follows."
   ]
  },
  {
   "cell_type": "code",
   "execution_count": 11,
   "metadata": {},
   "outputs": [],
   "source": [
    "# first we convert our REP search results to a product list so that we can concatenate the two records\n",
    "final_products_REP = [item for item in products_REP]\n",
    "\n",
    "# then we concatenate the lists\n",
    "final_products = final_products_OPE + final_products_REP"
   ]
  },
  {
   "cell_type": "markdown",
   "metadata": {},
   "source": [
    "If we want to run a quick check on the last available reprocessed product, and first available operational product to ensure that we have no large gaps, we can easily do so."
   ]
  },
  {
   "cell_type": "code",
   "execution_count": 12,
   "metadata": {},
   "outputs": [
    {
     "name": "stdout",
     "output_type": "stream",
     "text": [
      "The last available reprocessed product is:\n",
      "S3A_OL_2_WFR____20210428T094703_20210428T095003_20220308T095437_0179_071_136______MAR_R_NT_003.SEN3\n",
      "\n",
      "\n",
      "The first available operational product is:\n",
      "S3A_OL_2_WFR____20210429T092052_20210429T092352_20210430T193628_0179_071_150_2160_MAR_O_NT_003.SEN3\n"
     ]
    }
   ],
   "source": [
    "print(f\"The last available reprocessed product is:\\n{str(final_products_REP[0])}\")\n",
    "print(\"\\n\")\n",
    "print(f\"The first available operational product is:\\n{str(final_products_OPE[-1])}\")"
   ]
  },
  {
   "cell_type": "markdown",
   "metadata": {},
   "source": [
    "If we are happy with our time series, then we can go ahead and download it."
   ]
  },
  {
   "cell_type": "code",
   "execution_count": 13,
   "metadata": {},
   "outputs": [
    {
     "name": "stdout",
     "output_type": "stream",
     "text": [
      "Download 0: S3A_OL_2_WFR____20240715T090937_20240715T091237_20240716T160307_0179_114_321_2160_MAR_O_NT_003.SEN3\n",
      "Downloading S3A_OL_2_WFR____20240715T090937_20240715T091237_20240716T160307_0179_114_321_2160_MAR_O_NT_003.SEN3.zip.\n",
      "Download of product S3A_OL_2_WFR____20240715T090937_20240715T091237_20240716T160307_0179_114_321_2160_MAR_O_NT_003.SEN3.zip finished.\n",
      "Unzipping of product /Users/benloveday/Code/Git_Reps/CMTS/internal/sensors/learn-olci/2_OLCI_advanced/products/S3A_OL_2_WFR____20240715T090937_20240715T091237_20240716T160307_0179_114_321_2160_MAR_O_NT_003.SEN3.zip finished.\n",
      "Download 1: S3A_OL_2_WFR____20240714T093547_20240714T093847_20240715T164454_0179_114_307_2160_MAR_O_NT_003.SEN3\n",
      "Downloading S3A_OL_2_WFR____20240714T093547_20240714T093847_20240715T164454_0179_114_307_2160_MAR_O_NT_003.SEN3.zip.\n",
      "Download of product S3A_OL_2_WFR____20240714T093547_20240714T093847_20240715T164454_0179_114_307_2160_MAR_O_NT_003.SEN3.zip finished.\n",
      "Unzipping of product /Users/benloveday/Code/Git_Reps/CMTS/internal/sensors/learn-olci/2_OLCI_advanced/products/S3A_OL_2_WFR____20240714T093547_20240714T093847_20240715T164454_0179_114_307_2160_MAR_O_NT_003.SEN3.zip finished.\n",
      "Download 2: S3B_OL_2_WFR____20240714T085700_20240714T090000_20240715T163632_0179_095_164_2160_MAR_O_NT_003.SEN3\n",
      "Downloading S3B_OL_2_WFR____20240714T085700_20240714T090000_20240715T163632_0179_095_164_2160_MAR_O_NT_003.SEN3.zip.\n",
      "Download of product S3B_OL_2_WFR____20240714T085700_20240714T090000_20240715T163632_0179_095_164_2160_MAR_O_NT_003.SEN3.zip finished.\n",
      "Unzipping of product /Users/benloveday/Code/Git_Reps/CMTS/internal/sensors/learn-olci/2_OLCI_advanced/products/S3B_OL_2_WFR____20240714T085700_20240714T090000_20240715T163632_0179_095_164_2160_MAR_O_NT_003.SEN3.zip finished.\n"
     ]
    }
   ],
   "source": [
    "max_products = 3\n",
    "for final_product, count in zip(final_products, range(len(final_products))):\n",
    "    if count >= max_products:\n",
    "        continue\n",
    "    print(f\"Download {count}: {final_product}\")\n",
    "    with final_product.open() as fsrc, open(os.path.join(download_dir, fsrc.name), mode='wb') as fdst:\n",
    "        print(f'Downloading {fsrc.name}.')\n",
    "        shutil.copyfileobj(fsrc, fdst)\n",
    "        print(f'Download of product {fsrc.name} finished.')\n",
    "\n",
    "    with zipfile.ZipFile(fdst.name, 'r') as zip_ref:\n",
    "        for file in zip_ref.namelist():\n",
    "            if file.startswith(str(final_product)):\n",
    "                zip_ref.extract(file, download_dir)\n",
    "        print(f'Unzipping of product {fdst.name} finished.')\n",
    "\n",
    "    os.remove(fdst.name)"
   ]
  },
  {
   "cell_type": "markdown",
   "metadata": {},
   "source": [
    "<hr>\n",
    "<a href=\"../Index.ipynb\" target=\"_blank\"><< Index</a>\n",
    "<br>\n",
    "<a href=\"./2_2a_acquire_OLCI_time_series.ipynb\" target=\"_blank\"><< OLCI data access: Acquiring a regional times series</a>&nbsp;&nbsp;&nbsp;&nbsp;&nbsp;<a href=\"./2_3a_OLCI_SNAP_batch_processing_subset_reproj_flag_CHL.ipynb\" target=\"_blank\">OLCI SNAP processing: subsetting, reprojection and flagging >></a>\n",
    "<hr>\n",
    "<a href=\"https://gitlab.eumetsat.int/eumetlab/ocean\" target=\"_blank\">View on GitLab</a> | <a href=\"https://training.eumetsat.int/\" target=\"_blank\">EUMETSAT Training</a> | <a href=mailto:ops@eumetsat.int target=\"_blank\">Contact helpdesk for support </a> | <a href=mailto:training@eumetsat.int target=\"_blank\">Contact our training team to collaborate on and reuse this material</a></span></p>"
   ]
  }
 ],
 "metadata": {
  "author": "Ben Loveday, Hayley Evers-King",
  "content_type": "Software & code",
  "data_access": "Data Store",
  "deployment": {
   "eumetsat": {
    "binder": {
     "link": "https://mybinder.org/v2/git/https%3A%2F%2Fgitlab.eumetsat.int%2Feumetlab%2Foceans%2Focean-training%2Fsensors%2Flearn-olci/HEAD?urlpath=%2Ftree%2F2_OLCI_advanced%2F2_2b_OLCI_ope_rep_time_series.ipynb",
     "service_contact": "ops@eumetsat.int",
     "service_provider": "EUMETSAT"
    },
    "git": {
     "link": "https://gitlab.eumetsat.int/eumetlab/oceans/ocean-training/sensors/learn-olci/-/blob/main/2_OLCI_advanced/2_2b_OLCI_ope_rep_time_series.ipynb",
     "service_contact": "ops@eumetsat.int",
     "service_provider": "EUMETSAT"
    }
   },
   "wekeo": {
    "git": {
     "link": "",
     "service_contact": "ops@eumetsat.int",
     "service_provider": "EUMETSAT"
    },
    "url": {
     "link": "",
     "service_contact": "ops@eumetsat.int",
     "service_provider": "EUMETSAT"
    }
   }
  },
  "description": "This Jupyter Notebook shows how to access a pan-collection time series of best quality Sentinel-3 Ocean and Land Colour Instrument (OLCI) data via the EUMETSAT Data Store.",
  "image": "../img/thumbs/2_2b_OLCI_ope_rep_time_series_thumb.png",
  "kernelspec": {
   "display_name": "Python 3 (ipykernel)",
   "language": "python",
   "name": "python3"
  },
  "language_info": {
   "codemirror_mode": {
    "name": "ipython",
    "version": 3
   },
   "file_extension": ".py",
   "mimetype": "text/x-python",
   "name": "python",
   "nbconvert_exporter": "python",
   "pygments_lexer": "ipython3",
   "version": "3.10.14"
  },
  "license": "MIT",
  "metadata_schema_version": "2.0.0",
  "originator": "EUMETSAT",
  "tags": {
   "data_provider": "EUMETSAT",
   "orbit": "",
   "satellite": "Sentinel-3",
   "sensor": "OLCI (Sentinel-3)",
   "service": "Ocean colour",
   "subtheme": [
    "Ocean biogeochemistry",
    "Water quality",
    "Ocean dynamics"
   ],
   "theme": "Marine",
   "variable": [
    "Top-of-atmosphere radiance",
    "Water leaving reflectance",
    "Chlorophyll concentration",
    "Photosynthetically active radiation",
    "Diffuse attentuation coefficient",
    "Coloured dissolved organic matter absorption coefficient",
    "Total suspended matter concentration",
    "Ocean colour"
   ]
  },
  "title": "Accessing a best-quality OLCI time series via EUMETSAT Data Store",
  "version": "2.0.0",
  "version_date": "2024-07-01"
 },
 "nbformat": 4,
 "nbformat_minor": 4
}
