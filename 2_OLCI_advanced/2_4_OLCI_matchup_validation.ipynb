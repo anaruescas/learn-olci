{
 "cells": [
  {
   "cell_type": "markdown",
   "metadata": {},
   "source": [
    "<img src='https://gitlab.eumetsat.int/eumetlab/oceans/ocean-training/tools/frameworks/-/raw/main/img/Standard_banner.png' align='right' width='100%'/>"
   ]
  },
  {
   "cell_type": "markdown",
   "metadata": {},
   "source": [
    "<a href=\"../Index.ipynb\" target=\"_blank\"><< Index</a>\n",
    "<br>\n",
    "<a href=\"./2_3b_OLCI_SNAP_batch_processing_C2RCC.ipynb\" target=\"_blank\"><< OLCI SNAP processing: IdePiX and C2RCC</a>"
   ]
  },
  {
   "cell_type": "markdown",
   "metadata": {},
   "source": [
    "<font color=\"#138D75\">**Copernicus Marine Training Service**</font> <br>\n",
    "**Copyright:** 2024 EUMETSAT <br>\n",
    "**License:** MIT <br>\n",
    "**Authors:** Ben Loveday (EUMETSAT/Innoflair UG), Hayley Evers-King (EUMETSAT), Juan Ignacio-Gossn (EUMETSAT)"
   ]
  },
  {
   "cell_type": "markdown",
   "metadata": {},
   "source": [
    "<html>\n",
    "    <div style=\"float:left\"><a href=\"https://gitlab.eumetsat.int/eumetlab/oceans/ocean-training/sensors/learn-olci\"><img src=\"https://img.shields.io/badge/open-EUMETLAB-E67E22.svg?style=flat&logo=data:image/png;base64,UklGRtgXAABXRUJQVlA4WAoAAAAYAAAA/wAA/wAAQUxQSLQMAAAB8IdtkyFN/v9FPx7bs8bM2npmbQ3Wto3BsbZt27Ztj+eFsc3qUndVd8WiuyozIjL7vz0iwoHbSJKSAKsW6L56tosPwL8r2ubI2285uMlm5Pa+4a5TOgtm61n4t//fwF70/h7/dsVgsfRZhhXO7Wwr6n/BCotbSuVOrPIyW3EoVvm+UOrmVzPJVrxVTdRNJoMwxYF2ol2A1Z4kk7vSuNxOHIYpfCDzN21WGmPsxCtpFDqJvGZMdW0b0ZLHNI+RyM3pjLQRQzCVNyUyJZ2fbcSz6fjt5LEpppP0tw9NKzHdQ+VxbQZ4vn3YFzN4WR6TsvjWPjyeRb5FGgMwi3Iv29CwBLMcIo3LMsEzbcPumMmz0hidzWe24cFsVjTKYq0km7gbG3LXhNnuI4sRqOBJdmEQKvCYLH5W4QO7cJcKS+ol0T+lFrG2kbomVHE3SZyPSh5jE7ZBJR6QxDdqvGUTblZjfp0cepXU8NtZhClq4CA5nIGKHmoPNkVF7pTDZ6q8bA+uVWVWTgpdI1XyLdZgkiq4tRRORGWH2IKBqMzNUvhAnWdtweXqTBFCx4I6KxotwRh1cFMZHI0a7mMH1kYNrpHBmzo8ZgdG6DBRxjjLr0bU2kb6mlDYgPBQ1HI3G9A/0eIyCbysxwM24HzUYrSocZbq2sYCfKsHrsXPYNR0kPn0Kmkygp9ndLnLfM5ATX5mp3FFNeLWNpLXhMIGhPugtlubTrcYdT2Pm8f0udl0TkJtvuGOsi3WZ4rpfKBPqRcvuyGBm5pNpwLqewYvD1BwrdkcgwR8xjzOomCS4VFDCqKunLQiiQPZkLomFDYgvJOGy/gQvyaUkMLNzaRhtMm8TEOho4SoodC1jYw1IY1HM46zqBhhctSQiDf5mEzFzwZHDVWQNSDcBDWQEkKUuCYUNiC8hgw8z9yoIRkvczGRjm9M5TE68i3cUUOKtY2Z1C9BOgdzRw0lr22414SEPMMUNaTkMzN5gJIVjbxRQ9FrG2lrQmEDwhFI6kmWiBoKGxD+RMv7RkYNaVlczznOolrbWCFqKGxAeB4Se7R5bI3E3M8QNaTmTfO4mZr5dZLGWZYIIU6hBlsFjbMsEULcFMm5U9A4yxIhxGvpmZmjjhrSk28xPmoobEB4IjI42CwGIAM30/I+B8+YxWUcTCGOGupgiRDiaA5wEyFRQ5EhRGFrQiEhxDd5eMwkRiALE1nGWdRrG6OihjwOEDHOEhpCFLEmFDYgfImL+02KGjIxWsQ4yxIhxG8UEDYgHIxstppCrxIbw8mihnzcaQpnIBs/kY+zONY2hvAZH0l/9qihJUKI3SLk8zwaHuXkZjM4ERn5hj1qaIkQ4gcKCBsQ7oqsbsIG95pQ2IDwfl6uMYGjkZVPKfbnz+Nlogm8qYKsAWErMjtAPu185PVE1qihJUKIhyIz77NGDS0RQnyZm0JHxnGW9BAi55pQ2IDwJn6GGxg1FDYgnMzPT9J5RgVZA8JN5q1id+X0+aKds2gVuwuHakYNoxDZ9VC0LrIbBS/pRg2DmP+pkY3PTpJHp0V3nJVnpxxIphSw4+gOCC9DEQffZrVX0h0Q/vEPcWCx0mNvuoqVA0LtcVZYZCYONTD9Ix372gPC4dXvnDJ3aaU6/QvlUYKoocNd2oq8/oCwX8rbLWF+hFFBKglvnd5Q7EoQNYwC5tJK2/SG8n6CcRZ3++XZBMVP0rw6NXqWMj6lrBSLFmo6HYoB4emZ91ToxtgH45YpBoSfZv9Ks55hnTosUgwIu0YKXRojhcgiJ6qd9FY04yyvxNl6WOB83e/Qm4iiho5dSlfUEScTjbMSxisPY5vUQUwzIDwKlYwCi5RBwtcEhEQDwjdUH23EV9qjLqve4Ylk46x8wlaWrIFDNSA8RON+85W2qN1EmUvJooYlj631tMSlQ43vjT8yaHZ0eqgC2/ek8bX2LsRkLbqooR/boAzKTOj1DcMJx1mODfC5jnQDwsbluvefqzSkZvzAJP3S2Fv/42v8Joy5Gi5Nz6WMGgYRD6bUjD+YXytGDSW1X77ptUPwwvQkjRo6IloPYbsxRLxTTleKGspqv1yj6zAiCSHSRg2LocknHgNxQBpCbKV68WPmswXuxhbRKZxIHDV0zC09sUd8jzpqmGfA2HP8Em0IcSvSDzO5QTUyx5giVopHUUcNw0jIRvydL1G+T98gjxq6ZXLMrB3Sh9QWYBPix8Q0KZcSY5H57XgIwDXUezHJWw9TasaB+UsAE5DWYkhdyq5FTAqc5vVR9utaDmRHDUVMigaPZOhpqFtPObXY3vDxt5HhwF5K+uYSMSmeNIaBOGAOIcr65ZKQFHCpL8mRy/RNqmOe9fnnPE9GmbQ0iTxyMOs2ZNGhDSFy19KP+PaOTE9HnrSUvRWQFDwJ/sBK5bY3nilw/WFmUVvYkWmkFcSsIURRb1r2pPAJAHAJ8phn3bDdZYmzwacq/21SFn7wZdfM/xR4vAEq3GdhNTJ/5QuR7BPOf4p4J6dFjj9CDgsF+a1H2isrci46ZiCkmRvO0h54JfGlK7njSO5phgy3nIwMOuJDiK7g45IDIdv2T7O0X8LLIJHbcH3RB5Q82hHbfvmMW6EDweiSOlB07V8Y3hoxUVmWTJnhTT1jO1C38Rb6ZyhPVXLVQhuuFzuClnssQGodwa2nJ3QSchLo2vMDakqe3AyWK3ISNnp90Dd3QYG8/ZJaBmWBDVdyVzOQuMX/yKe8QvEFdhyL9wMq2z2FtOaFlq68a/i0DxB6xCrig8hNGEtLwkSj6oDUtX4mJQ4k4ktruKZuA9Q23Ej6ixZEAltPV1gS7oUOwODu82Sl/DxqCpGoC+WPAx67v4eEOuJKX1QS9vf1gMvc+SEdJU/aiScoCZ3c3gSMbkbYghRDWWcXi3IarkX7AK9tHyP8pMSiSk9Ow/VJL2D38JV0326i8KVcQ3F4DgS4xo9CDklAO6wU0nBN3Rpk2HBDiYg4kLNxhezwfrY9iHGXuUhjGInBF9FwOceCJLu/Q/YvTyFlHEq40G/rgCxz5xC1II6Q1sMV0HCVb20EcW46iX8vqEtY8zdcC/cCibZ9lL39KpOV5YB9T/+HPUGoB6/g3hPvk9Xck57ixTkQ6+rfk3QfAkqP+RombwGSrb+mRHFgDyEmAe+k9+n2INydZ1O0X9yly5qrdI4C+XZ9izMF4RLBmfT4eR0wwrMCvmFQVKCp+S5UvrkRDHFj/RbEYS1dvrX2/D3AHFseYkvBeSSwjbg/6AFGefBy7RQkYwjRZ2q4CufnwDD7f4t6BjHbxmPKVf5vczDP+qs0Pwh5tjNcnmt4sh0Y6Y6zOQ6FSP+EI16w8ggw1S6vaxH7PK2Hz5Gr/GlNMNgztL4NwyJL6dLv0Cvd0ABGu8EEpF4lhDEHea1mYzcw3ZYHElTXYSiDhPr4bjewgEOW6ewloC9d4oYrPC8HVrD/V4iUzVJY1oP2DyX/3RRsYf0V6m+NIFYq9WrSPZmPtQOL2DoTVc0Tt54eZcO18jCwi51fQ1Ud2gyWS9hw/bAGWMdTVN9PJZ+yDMtkk6zS9Q1gITcYpzwlJMQna7jm7gJ2svm+RDWXSVe6VB3HO93AWg5eikrmyTZhTHMMzwab2fdLxQMVPk28YNImYDfrLo1UiAOi1tMlGeE90gas5/YzKIalHskuibLSnVt+CNjQTi8TDMtdxZqg4fp+dbCkJ6s8rw7Fiacd4ShdXQ/WdMAYlbCM/tnFom68YM7OYFOb70myn9aCdunpNlxvdgHLuv8ShV9RXXy9X+rgLLCvfT7DLPOaw8WooHUNEzcCG1t3SZR50Nu4Og1X8lAbsLTbTssgDrTwNVZqy4eBve34kvoqOgmzIynqP1Hf9Aere7yr3Ex4mbXyheKr6sHyrv8Hpuqol75qizprENjfpjsTtb2o5YyyHCg2XG90gZrgvovUFpN+Rq22p94/DWqFvT9L3xOvVnpKk5pxG0LtsG5EUaH7iEOlNsxJuysPtEBNcZupCocgtVaY1C4dArXGDs9lt19uKtm5yq/7QQ3yuHxW+xUV0uqspEZ8eR3UJNf9PWuY5Kdssy40sxVqlU23ldOfYS+FjO+jVztBDXPvRVUpuow9TX7qD7J3KtQ2e35c1V6lbrzUhmvsQKh15oYXU95lflWd0nAl97RADXSrKdXfMoUo5cSpaDYOhNpoh2ew6pn2/sGvbri+6AM106Odyi4jqKgrI4rRZXVQQ13nl4onO4z/oaITnbEd1FYbby3/82FzK1IIecSXO0HNdc8F6KD/zzaP3klQi+35UeKGZXSDePQAqM3mLnQDNygEdzdDzXbLcavy0/eDWm6725/vA//uKQBWUDggPAoAAPBFAJ0BKgABAAE+bTSVR6QjIiEoslpAgA2JTdwtc8mjKF8D/Lf2r9wvDE2X2T+3fsD/dP3W6j/iXwt/WP2o651C3o17c/xv8Z+KfaG8wL+Ff3n/Y/3brEeYD90PVV/1nrg/Yj9dP6P8gH89/3/WRft57An7TerD/1f2x+Bb9xv3G+AT9n////5vcA/+fqAf8f//9i/2Q/kP4O/sr9vyj2HFcv7T8XM9h/Pk+J6ElIZi+xLCNNaKV5rQqmL3U2nDaS84mc3h+tMupX2TLcxmPXJajazk21ZMloVnUzr4NTYDtXslmPPUItzGZQqYZ5YBbj0VSdiYu0A/IPWlFJfhYnqP0ZO+SQhujgJm5XH1Cd9nkKrwQi26/wfkCmYBhkP5gedq1U5+SozvL6Aaz3fWlm7gnnl0cdP9nlPzED2X5EixmoH5tK+dKEHT6cL9hGHzb5BJ8UWQMIsmDEiCqfrFOSvKh9aFVgEmers4IQT27mjxZkAvnxy2VKgWSVjA1x7/mdOZwkq66XfjT3ImXIs+v6oPfZGhfnWwmoc8rNuUkcC7WDayAF9PrHq2TprYnIta7VXKU1fCFLeic7WhtKD6orLDOaNDlZuSckHnR7qiu1rr7XemsL7oaguoys8WQuvSX4N+eyUTRKlZ9WdRzqSM5tHzB77m5rueYrP0IAqQGobXvMzUzGbNBGdxXWhVwxuYeqKkWFkVDZnpcX1m2GbrkmxGuV5rQrOvDePaghaezLICdHvE/uY1NgAA/vYdiQmhg2iSju0DQxZX6/523yUm+IrvR8WMO0PbSUlWkdBUDNwsi03ysmBm9kOSmaRTwOs4XWOlUiQiVcpTaF9pqbKve+jtmhwmUqek/HQfBqwElo89ir52AbGk6/8AWa2chPvPP/Hv/nDLcNw/G9PGEHUo07kACDinb/eAjKT34AWSdsczIZQfdki9b9eRQwT/0Oe9WfqXDd8BkfC9295z+WBh6zBUVxzRsfqewKNKsszK4vs0gfo4b24Sg+Bepd/Syy1yRV+vyDd/Wk9iUff2Bu3L4rEKZBA+3+kIVABUBIBI0A5lcX2aQP0cN7cJQfAvUu/pZZa5Iq+1e1abYJyzZenWmt1pGX1p4XG93oI5KQWN6AQL+Yn5pEaH0otwsV9nj8wkxGIYFvgbrUBvxBL33QJsdjam9ePKx7E+Bc5cJNnELO8S6Xs2jiXurWuoI52IppeRQwT/vyfUxFpiSYtM1VXVSnNtkuTnJQ02zFT8BWPGVYUDbRuejvs2of7wEZSj2tkjMa2IWtoDG7DT5fajTtmyqlguI+/sKzxrk146s8Yw9oUPbTHQN6fnW8R4GfQ4TK5W5PKvrvX1gzIl1jYrtAvP91g4DsUGD5l9Ezf4rflqkYJfsa5jGHtCh6HS8S3FbrIpFzmsqcZXCt+/o4b24Sg+Bepd/S1tyuBNXvP+nK+1GjYr77WYsGWOQkl8TruGheAKWAJGdtPG4scP41Ix/buUbw5L1srHeYn0a6Acb+akTN7bGu7mmbBznuq5G/8s9SvF50UAXqzaOmdn8TxB+HBTKDhk435TQRnDRogHC2093ifvE3qWdQrrqu3pHevMS7t4s943pvGP9IJBp+PszhLClfmwDIevOc3lA/hT2SZser7EV6p7UzMg3ekg9+zkbCzmusqv/xAhMH36Bhd5IdBq01KDrGus+bHb7FoGoQRMgceDIvxxd7LQiw3TeMX7R4Vpq/wMAuNS/6IJOOup6j6176ZYnE1cHM/5+bOqgaIwPB25nqaajBMfEvI31sS1/cUmP+u3WhL3W3DLBF6eobjwyRa4XcBuWI94keIi7ZkGqqLpkIT59tSGz6R09BT9lO2XsagweuiyMoeLXwxCbgreiD20Uf2NQnLV0mOYXr2R/jbIaiM9n1dMN78/ooQmW7VzcrinYO1y3G2iSIiSJy7KK4lDE48hyx3+Ngu63kvq8YMRYllRpbsLwR8ajfca+8y2KUv2B244jc5Ki6aoVM2YjR+lxwSRxz3vhUPWazdQWXVyF6QKCglcITcFjBhKxd0LUjXWSZGopiaOD+F3PRdOltPXE8Gn4xHwW4S8otZEAxYrxPwGgwyMghBkg0rhEoheQKxNt9J1+DKMh3B/7mxjZoZwmPa6OaNXzaFWmUldn+Mm84Mc1ociFO+rjQDGf3XCeL0m/ZGsa/frE/ore4r/4Q1hEdqxYfJM1TcagLxzOTAkkKSx8JJI3Vd75rKZeeA3A35cK0K6EfRwNe7urXIh91Hdvrc9KrD3aYey+zPM2enN3BYx+xXwh7t3hR00NvdKsSubWKRbi+HMzmNo0u8zKgef/F6+txfusoR7yZ0XCsBLqj4K7Tx2NY01lcS2thnvIjxHW1tY6LaVAf04mD3nkVWdHSvArtDcFMoaqtPkI3YxjPzkrdc2lKk2AoemYnJ/yJhLyc/udxXsFU34aa5p4lEA/ZzZYFw5xOnoZFvcOZq4mUC39aKOrgrLSJfSpJYobTV6Pcf945EWsb2OqYaz6wZkMqudUdm5Vo+oDiwVGjjK2SwbKOchHe3BaCvyOJRD3Ek+z63L5H88rXvpsMx+7ibCV9gNmPGiR3XLuRqEmV3IlPsH36Z9TaZppv1luRUUzNOgn3DwdYCHZbZyJlH/C5NFQdEqnJpoT2AWZo7YJPo0H2SinnAfsyWrB3IHRhtEJ5OIiHX81/UMtMXDUewyhQGdGEg1NUCBGnIvT4jSf1IVKgxn++SHF4L29dn9pOCMQAOPDWHPFkCec82TgqX18UXqkG23ESgLP1VP+yp7A9WzAMB1LYAQWx2hbBy5e6LozfiicCkRihcYCkEr0X/bbowGZIbkFS796hWqiWlJMcKsXEeyWXgBP63Ac6ae0DovMw9TJXWSqFNTF/EocFoxd1Qo3kkhenfPjLhbiOtQUbj+t5B76WOP4euyRx+XljHSuNenwM9fO864yGVNYO1BXF9GiW2G6dr6LedT6AAimwF3Qv8acPzIC3RVPmqcfQCpN/ZcHxJrmV5hIQl8azSoR9YNP5QPhqGU0VUL0b7Bh8S9Qbv4Hsm1GBrM6yq4ben5duBFxsT2kkx3Yp0xbWI/+/TcEUtTmib3RyNwwlI1B+kTRUNocp9E/YBNgNA5vBHDAQs8bGKOvtrBnPEoF5aRs306VLFGzfcenYXMlSNj8hFVx+T03vNeTD11y8Bg61fiMKdd4AAEYSVhkdxcQ1AA103Saj60E+B2uMCOlzfj77ptMBUZlQPGG4Usoy31T30QrPx+51jRZwvgEIq64w+MUv4190YgZFzcywLlBYbEBUj9yZ5vRc+4NrA612Nv8Gw/tZ57FVbhFWjujzpJdFVcndV4fVpnXhd5oUFbRsQldH/5onwfHsPk+VNQBoAAIqwwnR5jI5neQjPJCPiTXNxGLdK8ARBAX4Ay2xdmmThvUejkzxZGUjY2A4PLR/8RPhYXwtk4fEnjn7v3c3VepsgQbxUR5/oF4G2Oz9MAAABFWElGugAAAEV4aWYAAElJKgAIAAAABgASAQMAAQAAAAEAAAAaAQUAAQAAAFYAAAAbAQUAAQAAAF4AAAAoAQMAAQAAAAIAAAATAgMAAQAAAAEAAABphwQAAQAAAGYAAAAAAAAASAAAAAEAAABIAAAAAQAAAAYAAJAHAAQAAAAwMjEwAZEHAAQAAAABAgMAAKAHAAQAAAAwMTAwAaADAAEAAAD//wAAAqAEAAEAAAAAAQAAA6AEAAEAAAAAAQAAAAAAAA==\" alt=\"Open in EUMETLAB\"></a></div>\n",
    "    <div style=\"float:left\"><p>&emsp;</p></div>\n",
    "  </div>\n",
    "  <div style=\"width:100%\">\n",
    "    <div style=\"float:left\"><a href=\"https://user.eumetsat.int/search-view?term=learn%20olci&sort=score%20desc&facets=%7B%22contentTypes%22:%5B%22Resources%7CSoftware%20%26%20code%22%5D,%22org-satellite-sensor%22:%5B%22EUMETSAT%7CSentinel-3%7COLCI%22%5D,%22theme%22:%5B%22Marine%22,%22Marine%7CMaritime%20safety%22,%22Marine%7COcean%20biogeochemistry%22,%22Marine%7COcean%20dynamics%22,%22Marine%7CWater%20quality%22%5D%7D\"><img src=\"https://img.shields.io/badge/open-USER PORTAL-154360.svg?style=flat&logo=data:image/png;base64,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\" alt=\"Open in user portal\"></a></div>\n",
    "    <div style=\"float:left\"><p>&emsp;</p></div>\n",
    "  </div>\n",
    "  <div style=\"width:100%\">\n",
    "    <div style=\"float:left\"><a href=\"https://mybinder.org/v2/git/https%3A%2F%2Fgitlab.eumetsat.int%2Feumetlab%2Foceans%2Focean-training%2Fsensors%2Flearn-olci/HEAD?urlpath=%2Ftree%2F2_OLCI_advanced%2F2_4_OLCI_matchup_validation.ipynb\"><img src=\"https://mybinder.org/badge_logo.svg\" alt=\"Launch on Binder\"></a></div>\n",
    "    <div style=\"float:left\"><p>&emsp;</p></div>\n",
    "  </div>\n",
    "  <div style=\"width:100%\">\n",
    "    <div style=\"float:left\"><a href=\"https://jupyterhub.prod.wekeo2.eu/hub/user-redirect/lab/tree/public/wekeo4oceans/learn-olci/2_OLCI_advanced/2_4_OLCI_matchup_validation.ipynb\"><img src=\"https://img.shields.io/badge/launch-WEKEO-1a4696.svg?style=flat&logo=data:image/png;base64,iVBORw0KGgoAAAANSUhEUgAAAA8AAAAMCAMAAACKnBfWAAAABGdBTUEAALGPC/xhBQAAACBjSFJNAAB6JgAAgIQAAPoAAACA6AAAdTAAAOpgAAA6mAAAF3CculE8AAABwlBMVEUAYbdepNtBc7VCdLhNhMQkXKpsn9RWltFZl9VlpNI3aK9fpNtMd7ZznM8pg8o4WJc2TZFHY6MmQYptiLxnqt5hptxfpNtfpNtfpNtgpdtip9x2uullqN1fpNtdo9pepdtanNQ9a65Bc7dCeb5nqt5fpNslUpssW6RMgcBTjstWldJhptxdo9phoNdkpdtfpNtoqNxepNplo9hepNthnNNfpdtelM1hptxSgL5dj8hoqt5fpNsjRYgjPog8WqBHa61TfLplqN1fpdtfpdxam9IyTIw2TZFGYaBoqt5hptxfpdtepNpfpNtgpdtjp9x5vu5do9pHgb5co9pepNtHgbwWN4AVP5AhU6JLgL9dl89epNphpttgpdtipttnqd1ho9glSIkWM3snSokeTJdHda9cksphndRmqNyTweaWxOePv+WfyemAs91QYphFUmpuclhKYHRwh5V8pNNdls6iyuq72fCNvuWIueCIlbtTW2hwcFNTY2lmfpSBpNJZj8lsq91xr99nqdx4suBrqds7V5AlNm85S20lRIJVcZxZgr1Uh8NcotpbotpdpNtGfrcTKnAOKXsYOYo4XKRJcbNHfbf////t/CgnAAAAUHRSTlMAAAAAAAAAAAAAAAAAAAAAAAAAAByF2PfyxGAJLcH+9pQvJgsav/7s57hBf/3gQdO69vH18dK4fN0+GLz96uSzPCq99JArIgkagNTz7r9bB4DtcFsAAAABYktHRJUIYHqDAAAAB3RJTUUH5wIKESIRAg6dCwAAALtJREFUCNdjYGAUERUTl5CUkmZiZmFlY2CUkZULAAJ5BUUlZXYOBhXVADAIVFPX0NTiZNDWAXKCgkNCw8IjInX1GPSjomNi4+ITEpOSU1LTDBgM0zMys7JzcvPyCwqLio0YjKNKSstKyisqq6prautMGEwD6hsam5pbWtvaOzq7zBjMdbq7g3p6+/onTJw02cKSwcoaYt8UG1s7ewcuBm5HJ7B7nF1c3dx5eBn4uD08vbx9fP38+QUEhYQB5Z40RP8+e1wAAAAldEVYdGRhdGU6Y3JlYXRlADIwMjMtMDItMTBUMTc6MzM6NDUrMDA6MDCCLR1xAAAAJXRFWHRkYXRlOm1vZGlmeQAyMDIzLTAyLTEwVDE3OjI2OjU5KzAwOjAw393bowAAAABJRU5ErkJggg==\" alt=\"Launch on WEkEO\"></a></div>\n",
    "    <div style=\"float:left\"><p>&emsp;</p></div>\n",
    "  </div> \n",
    "</html>"
   ]
  },
  {
   "cell_type": "markdown",
   "metadata": {},
   "source": [
    "<div class=\"alert alert-block alert-success\">\n",
    "<h3>Learn OLCI: Advanced</h3></div>"
   ]
  },
  {
   "cell_type": "markdown",
   "metadata": {},
   "source": [
    "<div class=\"alert alert-block alert-warning\">\n",
    "    \n",
    "<b>PREREQUISITES </b>\n",
    "    \n",
    "This notebook has the following prerequisites:\n",
    "- **<a href=\"https://eoportal.eumetsat.int/\" target=\"_blank\">A EUMETSAT Earth Observation Portal account</a>** to enable you to download products from the EUMETSAT Data Store.\n",
    "\n",
    "There are no prerequisite notebooks for this module.\n",
    "</div>\n",
    "<hr>"
   ]
  },
  {
   "cell_type": "markdown",
   "metadata": {},
   "source": [
    "# 2.4 OLCI validation with the ThoMaS match-up toolkit\n",
    "\n",
    "### Data used\n",
    "\n",
    "| Dataset | EUMETSAT Data Store<br>collection ID| EUMETSAT collection<br>description | WEkEO dataset ID | WEkEO description |\n",
    "|:--------------------:|:-----------------------:|:-------------:|:-----------------:|:-----------------:|\n",
    "| Sentinel-3 OLCI level-2 full resolution | EO:EUM:DAT:0407 | <a href=\"https://user.eumetsat.int/catalogue/EO:EUM:DAT:SENTINEL-3:OL_2_WFR___NTC\" target=\"_blank\">Description</a> | EO:EUM:DAT:SENTINEL-3:OL_2_WFR___ | <a href=\"https://www.wekeo.eu/data?view=dataset&dataset=EO%3AEUM%3ADAT%3ASENTINEL-3%3AOL_2_WFR___\" target=\"_blank\">Description</a> |\n",
    "| Sentinel-3 OLCI level-1B full resolution | EO:EUM:DAT:0409 | <a href=\"https://user.eumetsat.int/catalogue/EO:EUM:DAT:SENTINEL-3:OL_1_EFR___NTC\" target=\"_blank\">Description</a> | EO:EUM:DAT:SENTINEL-3:OL_1_EFR___ | <a href=\"https://www.wekeo.eu/data?view=dataset&dataset=EO%3AEUM%3ADAT%3ASENTINEL-3%3AOL_1_EFR___\" target=\"_blank\">Description</a> |\n",
    "| Sentinel-3 OLCI level-2 full resolution BC003 reprocessing | EO:EUM:DAT:0556 | <a href=\"https://user.eumetsat.int/catalogue/EO:EUM:DAT:0556\" target=\"_blank\">Description</a> | EO:EUM:DAT:SENTINEL-3:0556 | <a href=\"https://www.wekeo.eu/data?view=dataset&dataset=EO%3AEUM%3ADAT%3ASENTINEL-3%3A0556\" target=\"_blank\">Description</a> |\n",
    "| Sentinel-3 OLCI level-1B full resolution BC002 reprocessing | EO:EUM:DAT:0577 | <a href=\"https://user.eumetsat.int/catalogue/EO:EUM:DAT:0577\" target=\"_blank\">Description</a> | EO:EUM:DAT:SENTINEL-3:0577 | <a href=\"https://www.wekeo.eu/data?view=dataset&dataset=EO%3AEUM%3ADAT%3ASENTINEL-3%3A0577\" target=\"_blank\">Description</a> |\n",
    "\n",
    "### Learning outcomes\n",
    "\n",
    "At the end of this notebook you will know;\n",
    "* how to use the ThoMaS toolkit to perform OLCI match-up validation extractions and analyses\n",
    "\n",
    "### Outline\n",
    "\n",
    "Validation studies are essential to ensuring satellite sensor performance and a necessary part of algorithm development. For ocean colour studies, match-up analyses are a key part of validation. The ThoMaS (Tool to generate Matchups of OC products with Sentinel-3/OLCI) package provides a comprehensive set of tools to help with the validation of OLCI products, supporting many common workfows including;\n",
    "* satellite data acquisition\n",
    "* mini file extraction\n",
    "* *in situ* data management\n",
    "* BRDF correction\n",
    "\n",
    "ThoMaS is written in Python and is made available through a **<a href=\"https://gitlab.eumetsat.int/eumetlab/oceans/ocean-science-studies/ThoMaS\" target=\"_blank\">EUMETSAT Gitlab repository</a>**. The package can be used from the command line, or imported as a Python library, as done here. This notebook contains 3 examples of how to use ThoMaS in various ways, but the capability shown is not exhaustive. Many more command-line examples are included in the repository, and we encourage users to familiarise themselves with both the **<a href=\"https://gitlab.eumetsat.int/eumetlab/oceans/ocean-science-studies/ThoMaS/-/blob/main/README.md\" target=\"_blank\">project README</a>** and **<a href=\"https://gitlab.eumetsat.int/eumetlab/oceans/ocean-science-studies/ThoMaS/-/blob/main/README_examples.md\" target=\"_blank\"> example README</a>** for more information.\n",
    "\n",
    "The examples given here should give you some insight into what ThoMaS can do, but we encourage you to build on these to facilitate your own validation workflows.\n",
    "\n",
    "<div class=\"alert alert-info\" role=\"alert\">\n",
    "\n",
    "## <a id='TOC-TOP'></a>Contents\n",
    "\n",
    "</div>\n",
    "\n",
    "0. [Defining functions](#section0)\n",
    "1. [Getting the ThoMaS toolkit](#section1)\n",
    "1. [Configuring ThoMaS](#section2)\n",
    "1. [Example 1: Single location extraction at WCO L4](#section3)\n",
    "1. [Example 2: Full match-up exercise at the Venice AERONET-OC station](#section4)\n",
    "1. [Example 3: Full match-up exercise with in situ hyperspectral R$_{rs}$](#section5)\n",
    "2. [What next?](#section6)\n",
    "\n",
    "<hr>"
   ]
  },
  {
   "cell_type": "markdown",
   "metadata": {},
   "source": [
    "We begin by importing all of the libraries that we need to run this notebook. If you have built your python environment (`cmts_learn_olci`) using the file provided in this repository, then you should have everything you need. For more information on building environment, please see the repository **<a href=\"../README.md\" target=\"_blank\">README</a>**."
   ]
  },
  {
   "cell_type": "code",
   "execution_count": 1,
   "metadata": {},
   "outputs": [],
   "source": [
    "import os\n",
    "import sys\n",
    "import pandas as pd\n",
    "import shutil\n",
    "import numpy as np"
   ]
  },
  {
   "cell_type": "markdown",
   "metadata": {},
   "source": [
    "<div class=\"alert alert-warning\" role=\"alert\">\n",
    "\n",
    "## <a id='section0'></a>Defining functions\n",
    "[Back to top](#TOC-TOP)\n",
    "\n",
    "</div>"
   ]
  },
  {
   "cell_type": "markdown",
   "metadata": {},
   "source": [
    "Before we go any further we are going to define a quick function that helps us to write our configuration options to a file.\n",
    "\n",
    "*Note: We don't need to write our configurations in python, we could always just write the configuration file directly and point ThoMaS to it*"
   ]
  },
  {
   "cell_type": "code",
   "execution_count": 2,
   "metadata": {},
   "outputs": [],
   "source": [
    "# Write config_params sections into config_file.ini\n",
    "def write_config_file(path_to_config_file,config_params):\n",
    "    with open(path_to_config_file, 'w') as text_file:\n",
    "        for section,section_params in config_params.items():\n",
    "            text_file.write('\\n[%s]\\n' % (section))\n",
    "            for param, value in section_params.items():\n",
    "                text_file.write('%s: %s\\n' % (param, value))"
   ]
  },
  {
   "cell_type": "markdown",
   "metadata": {},
   "source": [
    "<div class=\"alert alert-info\" role=\"alert\">\n",
    "\n",
    "## <a id='section1'></a>Getting the ThoMaS toolkit\n",
    "[Back to top](#TOC-TOP)\n",
    "\n",
    "</div>"
   ]
  },
  {
   "cell_type": "markdown",
   "metadata": {},
   "source": [
    "The first thing we need to do is retrieve the tool kit itself. We can do this using the external `! git clone` command. This will create a directory called **ThoMaS** in this path and make the code available for import."
   ]
  },
  {
   "cell_type": "code",
   "execution_count": 3,
   "metadata": {},
   "outputs": [
    {
     "name": "stdout",
     "output_type": "stream",
     "text": [
      "ThoMaS is already installed.\n"
     ]
    }
   ],
   "source": [
    "if os.path.exists(os.path.join(\"ThoMaS\", \"main.py\")):\n",
    "    print(\"ThoMaS is already installed.\")\n",
    "else:\n",
    "    ! git clone https://gitlab.eumetsat.int/eumetlab/oceans/ocean-science-studies/ThoMaS.git"
   ]
  },
  {
   "cell_type": "markdown",
   "metadata": {},
   "source": [
    "<div class=\"alert alert-info\" role=\"alert\">\n",
    "\n",
    "## <a id='section2'></a>Configuring and loading ThoMaS\n",
    "[Back to top](#TOC-TOP)\n",
    "\n",
    "</div>"
   ]
  },
  {
   "cell_type": "markdown",
   "metadata": {},
   "source": [
    "Before you use ThoMas, you must ensure that you have have completed the following two steps:\n",
    "1. Ensure that you have all the Python dependencies you need to run ThoMaS. If you have installed and activated the **cmts_learn_olci** environment then you are all set.\n",
    "1. Ensure that ThoMaS can access the EUMETSAT Data Store, which you can do by completing the \"**EUMDAC**\" section of the <a href=\"../working-with-python/API_authentication.ipynb\" target=\"_blank\"> set credentials notebook</a>.\n",
    "\n",
    "ThoMaS can be used from the <a href=\"https://gitlab.eumetsat.int/eumetlab/oceans/ocean-science-studies/ThoMaS/-/blob/main/README_examples.md\" target=\"_blank\">command line</a>, but here we will use it as a Python library. Lets import ThoMaS into our notebook."
   ]
  },
  {
   "cell_type": "code",
   "execution_count": 4,
   "metadata": {},
   "outputs": [],
   "source": [
    "sys.path.append(\"ThoMaS\")\n",
    "from main import ThoMaS_main as ThoMaS"
   ]
  },
  {
   "cell_type": "markdown",
   "metadata": {},
   "source": [
    "Now we should have ThoMaS imported and configured for use, so we can proceed with our examples."
   ]
  },
  {
   "cell_type": "markdown",
   "metadata": {},
   "source": [
    "<div class=\"alert alert-info\" role=\"alert\">\n",
    "\n",
    "## <a id='section3'></a>Example 1: Single location extraction at WCO L4\n",
    "[Back to top](#TOC-TOP)\n",
    "\n",
    "</div>\n",
    "\n",
    "<div class=\"alert alert-success\" role=\"alert\">\n",
    "\n",
    "Run ThoMaS for:\n",
    "\n",
    "1. Single location\n",
    "1. Single time window\n",
    "1. Only satellite download, minifiles creation and extractions (EDB)\n",
    "\n",
    "</div>"
   ]
  },
  {
   "cell_type": "markdown",
   "metadata": {},
   "source": [
    "#### Description\n",
    "<hr>\n",
    "In this case we are going to look at extracting data over a single time window over a static mooring. We are only going to acquire the Sentinel-3 OLCI data and process it to minifiles and then perform extraction using the EUMETSAT standard protocol. We are not going to compare the results with *in situ* data. Below are our requirements for this workflow:\n",
    "\n",
    "1. I want to download Sentinel-3 OLCI data overpassing the point location of the <a href=\"https://www.westernchannelobservatory.org.uk/buoys.php\" target=\"_blank\">**Western Channel Observatory L4 station**</a> (50.15 N, -4.13 W), considering the first 10 days of June 2023.\n",
    "1. I want data from Sentinel-3A only\n",
    "1. I only want full resolution level-2 data from the most recent collection OL__L2M.003 (Colection 3)\n",
    "1. I just want to obtain the S3 files (SatData), minifiles and extractions, I have my own scripts to compute the statistics of the comparison with insitu.\n",
    "1. In particular, I want to test EUMETSAT's standard extraction protocol, and I want to test window size 3x3.\n",
    "1. I want everything related to the run to be stored at in the \"WCO_L4\" directory.\n",
    "\n",
    "<hr>"
   ]
  },
  {
   "cell_type": "markdown",
   "metadata": {},
   "source": [
    "Lets start by defining an output path for our analysis. Everything we do will be stored in this directory."
   ]
  },
  {
   "cell_type": "code",
   "execution_count": null,
   "metadata": {},
   "outputs": [],
   "source": [
    "output_path = os.path.join(os.getcwd(), \"WCO_L4\")\n",
    "if not os.path.exists(output_path):\n",
    "    os.mkdir(output_path)"
   ]
  },
  {
   "cell_type": "markdown",
   "metadata": {},
   "source": [
    "Now we are going to define a configuration file that sets the parameters for our analysis. We will create this as a dictionary."
   ]
  },
  {
   "cell_type": "code",
   "execution_count": null,
   "metadata": {},
   "outputs": [],
   "source": [
    "# Build your config_file.ini\n",
    "path_to_config_file = os.path.join(output_path, 'config_file.ini')\n",
    "config_params = {}"
   ]
  },
  {
   "cell_type": "markdown",
   "metadata": {},
   "source": [
    "The first section of our configuration are our global settings. A key to this is the definition of our \"global workflow\". This defines the processing steps that we want to perform on our data. In this case, we specify that we want to download satellite data (SatData), we want to generate minifiles (minifiles) and we want to create our extraction data base (EDB). Each of these steps requires another configuration file section, which we will come to later."
   ]
  },
  {
   "cell_type": "code",
   "execution_count": null,
   "metadata": {},
   "outputs": [],
   "source": [
    "# global\n",
    "config_params['global'] = {}\n",
    "config_params['global']['path_output'] = output_path\n",
    "config_params['global']['SetID'] = 'Western_channel_observatory_L4'\n",
    "\n",
    "# workflow\n",
    "config_params['workflow'] = {}\n",
    "config_params['workflow']['workflow'] = 'SatData, minifiles, EDB'"
   ]
  },
  {
   "cell_type": "markdown",
   "metadata": {},
   "source": [
    "Now we will define the parameters for each of our workflow sections, stating with our satellite data. Here we will entire all the relevant parameters that will determine the data we will use."
   ]
  },
  {
   "cell_type": "code",
   "execution_count": null,
   "metadata": {},
   "outputs": [],
   "source": [
    "# satellite\n",
    "config_params['satellite'] = {}\n",
    "config_params['satellite']['satellite_path-to-SatData'] = os.path.join(output_path, 'SatData')\n",
    "config_params['satellite']['satellite_source'] = 'EUMETSATdataStore'\n",
    "config_params['satellite']['satellite_collections'] = 'operational'\n",
    "config_params['satellite']['satellite_platforms'] = 'S3A'\n",
    "config_params['satellite']['satellite_resolutions'] = 'FR'"
   ]
  },
  {
   "cell_type": "markdown",
   "metadata": {},
   "source": [
    "Next, lets define our minifile extraction window."
   ]
  },
  {
   "cell_type": "code",
   "execution_count": null,
   "metadata": {},
   "outputs": [],
   "source": [
    "# minifiles\n",
    "config_params['minifiles'] = {}\n",
    "config_params['minifiles']['minifiles_winSize'] = 3"
   ]
  },
  {
   "cell_type": "markdown",
   "metadata": {},
   "source": [
    "Lastly, we will define the specifics of our extraction protocol for selecting data."
   ]
  },
  {
   "cell_type": "code",
   "execution_count": null,
   "metadata": {},
   "outputs": [],
   "source": [
    "# EDB\n",
    "config_params['EDB'] = {}\n",
    "config_params['EDB']['EDB_protocols_L2'] = 'EUMETSAT_standard_L2'\n",
    "config_params['EDB']['EDB_winSizes'] = 3"
   ]
  },
  {
   "cell_type": "markdown",
   "metadata": {},
   "source": [
    "Now we have everything defined, we will write our parameters to our config file."
   ]
  },
  {
   "cell_type": "code",
   "execution_count": null,
   "metadata": {},
   "outputs": [],
   "source": [
    "write_config_file(path_to_config_file, config_params)"
   ]
  },
  {
   "cell_type": "markdown",
   "metadata": {},
   "source": [
    "The last thing we need to do is define the specifics of our extraction site; e.g. location and time window. We do this in a second file, as below."
   ]
  },
  {
   "cell_type": "code",
   "execution_count": null,
   "metadata": {},
   "outputs": [],
   "source": [
    "# Define the path\n",
    "path_to_latLonTimeRanges = os.path.join(output_path, 'latLonTimeRanges.csv')\n",
    "\n",
    "# Define the necessary inputs\n",
    "latLonTime = pd.DataFrame(columns = ['StationID', 'Lat', 'Lon', 'time_start', 'time_stop'])\n",
    "latLonTime.loc[0, 'StationID'] = 'Western_channel_observatory_L4'\n",
    "latLonTime.loc[0, 'Lat'] = 50.15\n",
    "latLonTime.loc[0, 'Lon'] = -4.13\n",
    "latLonTime.loc[0, 'time_start'] = '2023-05-26T00:00:00'\n",
    "latLonTime.loc[0, 'time_stop'] = '2023-06-06T00:00:00'\n",
    "\n",
    "# Store as csv file\n",
    "latLonTime.to_csv(path_to_latLonTimeRanges, index=False)"
   ]
  },
  {
   "cell_type": "markdown",
   "metadata": {},
   "source": [
    "Now everything is defined we can run ThoMaS. The only thing we need to do is pass the tool kit the path to our configuration file."
   ]
  },
  {
   "cell_type": "code",
   "execution_count": null,
   "metadata": {},
   "outputs": [],
   "source": [
    "# Run ThoMaS and check all the outputs in the output directory\n",
    "ThoMaS(path_to_config_file)"
   ]
  },
  {
   "cell_type": "markdown",
   "metadata": {},
   "source": [
    "If all went well, in our experiment directory you should now have several folders that contain the outputs from the ThoMaS analysis.\n",
    "* SatData contains the full downloaded products\n",
    "* SatDataLists contains information on the inventory of downloaded data\n",
    "* minifiles contains the extracted minifiles\n",
    "* minifilesLists contains information on the inventory of downloaded data\n",
    "* EDB, the most important folder, contains the results of the extractions we made from the minifiles."
   ]
  },
  {
   "cell_type": "markdown",
   "metadata": {},
   "source": [
    "<div class=\"alert alert-info\" role=\"alert\">\n",
    "\n",
    "## <a id='section4'></a>Example 2: Full match-up exercise at the Venice AERONET-OC station\n",
    "[Back to top](#TOC-TOP)\n",
    "\n",
    "</div>\n",
    "\n",
    "<div class=\"alert alert-success\" role=\"alert\">\n",
    "\n",
    "Run ThoMaS for:\n",
    "\n",
    "1. download AERONET-OC *in situ* data for the Venice station and convert to SeaBASS/OCDB format\n",
    "1. full matchup exercise: satellite extractions + minifiles + extraction statistics + matchup statistics\n",
    "1. apply a BRDF correction\n",
    "1. use EUMETSAT standard protocol for extractions and for insitu-extraction comparison.\n",
    "\n",
    "</div>"
   ]
  },
  {
   "cell_type": "markdown",
   "metadata": {},
   "source": [
    "#### Description\n",
    "<hr>\n",
    "\n",
    "In this case we are going to look at extracting data over a single **<a href=\"https://aeronet.gsfc.nasa.gov/new_web/photo_db_v3/Venise.html\" target=\"_blank\">AERONET-OC</a>** site, as stored in a remote database. The time windows will be determined by the measurements in the database itself, we will just set time bounds for the extraction. We are going to acquire the Sentinel-3 OLCI data and perform the full comparison against the AERONET data. Below are our requirements for this workflow:\n",
    "\n",
    "1. I want to test the performance of OLCI at the AERONET-OC station Venice, during February 2021.\n",
    "1. I wish to get matchups between this Venice subset and S3A/OLCI standard FR L2,\n",
    "    1. From the current collection OL__L2M.003\n",
    "    1. using the standard extraction protocol from EUMETSAT,\n",
    "    1. an extraction window of 5x5,\n",
    "    1. using an insitu-satellite time difference threshold of 1 hour (3600 seconds).\n",
    "1. I am not interested in getting ancillary data from ECMWF for to the insitu data.\n",
    "1. I want to apply the Morel et al. 2002 BRDF correction to both satellite and insitu.\n",
    "1. If I have several insitu measurements corresponding to one single SatData within the time window that you selected, but you wish to keep only the closest in time with ./Venice/SatData\n",
    "1. All the other outputs (IDB, minifiles, EDB, MDB, etc.) to be stored in the \"Venice\" directory.\n",
    "\n",
    "<hr>"
   ]
  },
  {
   "cell_type": "markdown",
   "metadata": {},
   "source": [
    "We are going to perform exactly the same steps as we did in example 1, beginning with defining our output path."
   ]
  },
  {
   "cell_type": "code",
   "execution_count": 5,
   "metadata": {},
   "outputs": [],
   "source": [
    "# Define and create the path to your main output directory for this exercise.\n",
    "output_path = os.path.join(os.getcwd(), \"Venice\")\n",
    "if not os.path.exists(output_path):\n",
    "    os.mkdir(output_path)"
   ]
  },
  {
   "cell_type": "markdown",
   "metadata": {},
   "source": [
    "And as before we will define a configuration file. However, there are some differences to before. We need to define how we work with *in situ* data, specifically for AERONET-OC, and define how we handle the in situ data in our match up database (MDB).\n",
    "\n",
    "*Note: The AERONET-OC site is called Veni**s**e and not Veni**c**e!*"
   ]
  },
  {
   "cell_type": "code",
   "execution_count": 6,
   "metadata": {},
   "outputs": [],
   "source": [
    "# Build your config_file.ini\n",
    "path_to_config_file = os.path.join(output_path, 'config_file.ini')\n",
    "config_params = {}\n",
    "\n",
    "# global\n",
    "config_params['global'] = {}\n",
    "config_params['global']['path_output'] = output_path\n",
    "config_params['global']['SetID'] = 'Venice'\n",
    "config_params['global']['workflow'] = 'insitu, SatData, minifiles, EDB, MDB'\n",
    "\n",
    "# AERONETOC\n",
    "config_params['AERONETOC'] = {}\n",
    "config_params['AERONETOC']['AERONETOC_pathRaw'] = os.path.join(output_path, 'Venice', 'AERONET_OC_raw')\n",
    "config_params['AERONETOC']['AERONETOC_dateStart'] = '2021-05-01T00:00:00'\n",
    "config_params['AERONETOC']['AERONETOC_dateEnd'] = '2021-06-01T00:00:00'\n",
    "config_params['AERONETOC']['AERONETOC_dataQuality'] = 2\n",
    "config_params['AERONETOC']['AERONETOC_station'] = 'Venise'\n",
    "\n",
    "# insitu\n",
    "config_params['insitu'] = {}\n",
    "config_params['insitu']['insitu_data2OCDBfile'] = 'AERONETOC'\n",
    "config_params['insitu']['insitu_input'] = os.path.join(output_path, 'Venice_OCDB.csv')\n",
    "config_params['insitu']['insitu_satelliteTimeToleranceSeconds'] = 3600\n",
    "config_params['insitu']['insitu_getAncillary'] = False \n",
    "config_params['insitu']['insitu_BRDF'] = 'M02'\n",
    "\n",
    "# satellite\n",
    "config_params['satellite'] = {}\n",
    "config_params['satellite']['satellite_path-to-SatData'] = os.path.join(output_path, 'SatData')\n",
    "config_params['satellite']['satellite_source'] = 'EUMETSATdataStore'\n",
    "config_params['satellite']['satellite_collections'] = 'operational'\n",
    "config_params['satellite']['satellite_platforms'] = 'S3A'\n",
    "config_params['satellite']['satellite_resolutions'] = 'FR'\n",
    "config_params['satellite']['satellite_BRDF'] = 'M02'\n",
    "\n",
    "# minifiles\n",
    "config_params['minifiles'] = {}\n",
    "config_params['minifiles']['minifiles_winSize'] = 5\n",
    "\n",
    "# EDB\n",
    "config_params['EDB'] = {}\n",
    "config_params['EDB']['EDB_protocols_L2'] = 'EUMETSAT_standard_L2'\n",
    "config_params['EDB']['EDB_winSizes'] = 5\n",
    "\n",
    "# MDB\n",
    "config_params['MDB'] = {}\n",
    "config_params['MDB']['MDB_time-interpolation'] = 'insitu2satellite_NN'\n",
    "config_params['MDB']['MDB_stats_plots'] = True\n",
    "config_params['MDB']['MDB_stats_protocol'] = 'EUMETSAT_standard_L2'\n",
    "\n",
    "# Write config_params sections into config_file.ini\n",
    "write_config_file(path_to_config_file, config_params)"
   ]
  },
  {
   "cell_type": "markdown",
   "metadata": {},
   "source": [
    "Lets run this configuration and then check our outputs."
   ]
  },
  {
   "cell_type": "code",
   "execution_count": 7,
   "metadata": {},
   "outputs": [
    {
     "name": "stdout",
     "output_type": "stream",
     "text": [
      "\n",
      "Running Venice\n",
      "\n",
      "Building satellite_datasets file from specified options in config_file...\n",
      "\n",
      "Step insitu\n",
      "Creating IDB (in situ database) netcdf file and calculating timeRanges and satellite datasets from input SeaBASS/OCDB file (in situ)\n",
      "creating IDB: Venice\n",
      "Downloading AERONET-OC data from https://aeronet.gsfc.nasa.gov/data_push/V3/LWN/LWN_Level%%s_All_Points_V3.tar.gz and converting to OCDB/SeaBASS format!\n",
      "Sanitised file successfully saved: /Users/benloveday/Code/Git_Reps/CMTS/internal/sensors/learn-olci/2_OLCI_advanced/Venice/Venice_OCDB_sanitised.csv\n",
      "Spectral matching not supported for multispectral sza, skipping...\n",
      "Spectral matching not supported for multispectral saa, skipping...\n",
      "Spectral matching not supported for multispectral Lt, skipping...\n",
      "Spectral matching not supported for multispectral Lsky, skipping...\n",
      "Spectral matching not supported for multispectral Rho, skipping...\n",
      "Spectral matching not supported for multispectral aot, skipping...\n",
      "Spectral matching not supported for multispectral o3ot, skipping...\n",
      "Spectral matching not supported for multispectral rot, skipping...\n",
      "Spectral matching not supported for multispectral no2ot, skipping...\n",
      "Spectral matching not supported for multispectral wvot, skipping...\n",
      "Spectral matching not supported for multispectral Lw, skipping...\n",
      "Spectral matching not supported for multispectral Lwnex, skipping...\n",
      "Venice_OCDB_sanitised.csv: BRDF correction M02 already applied to in situ data according to SeaBASS header.\n",
      "\n",
      "Step SatData\n",
      "Downloading and/or creating lists of satellite data\n",
      "S3A_OL_2_WFR____20210503T091708_20210503T092008_20210504T215329_0179_071_207_2160_MAR_O_NT_003.SEN3: Successfully downloaded\n",
      "Already exists!: /Users/benloveday/Code/Git_Reps/CMTS/internal/sensors/learn-olci/2_OLCI_advanced/Venice/SatData/S3A_OL_2_WFR____20210503T091708_20210503T092008_20210504T215329_0179_071_207_2160_MAR_O_NT_003.SEN3\n",
      "S3A_OL_2_WFR____20210510T093550_20210510T093850_20210511T220044_0180_071_307_2160_MAR_O_NT_003.SEN3: Successfully downloaded\n",
      "Already exists!: /Users/benloveday/Code/Git_Reps/CMTS/internal/sensors/learn-olci/2_OLCI_advanced/Venice/SatData/S3A_OL_2_WFR____20210510T093550_20210510T093850_20210511T220044_0180_071_307_2160_MAR_O_NT_003.SEN3\n",
      "S3A_OL_2_WFR____20210514T093206_20210514T093506_20210515T211424_0179_071_364_2160_MAR_O_NT_003.SEN3: Successfully downloaded\n",
      "S3A_OL_2_WFR____20210526T092052_20210526T092352_20210527T231346_0179_072_150_2160_MAR_O_NT_003.SEN3: Successfully downloaded\n",
      "Already exists!: /Users/benloveday/Code/Git_Reps/CMTS/internal/sensors/learn-olci/2_OLCI_advanced/Venice/SatData/S3A_OL_2_WFR____20210526T092052_20210526T092352_20210527T231346_0179_072_150_2160_MAR_O_NT_003.SEN3\n",
      "S3A_OL_2_WFR____20210530T091707_20210530T092007_20210601T004503_0179_072_207_2160_MAR_O_NT_003.SEN3: Successfully downloaded\n",
      "Already exists!: /Users/benloveday/Code/Git_Reps/CMTS/internal/sensors/learn-olci/2_OLCI_advanced/Venice/SatData/S3A_OL_2_WFR____20210530T091707_20210530T092007_20210601T004503_0179_072_207_2160_MAR_O_NT_003.SEN3\n",
      "Writing SatDataList for set S3A_OLCI_L2_IPF_OL__L2M.003_FR_Venice to: /Users/benloveday/Code/Git_Reps/CMTS/internal/sensors/learn-olci/2_OLCI_advanced/Venice/SatDataLists/SatDataList_S3A_OLCI_L2_IPF_OL__L2M.003_FR_Venice.txt\n",
      "\n",
      "Step minifiles\n",
      "Extracting minifiles from satellite data\n",
      "Creating minifile: S3A_OL_2_WFR____20210503T091708_20210503T092008_20210504T215329_0179_071_207_2160_MAR_O_NT_003.SEN3.E01250830N4531390_5x5.nc\n",
      "Already exists!: /Users/benloveday/Code/Git_Reps/CMTS/internal/sensors/learn-olci/2_OLCI_advanced/Venice/minifiles/S3A_OL_2_WFR____20210503T091708_20210503T092008_20210504T215329_0179_071_207_2160_MAR_O_NT_003.SEN3.E01250830N4531390_5x5.nc\n",
      "Creating minifile: S3A_OL_2_WFR____20210510T093550_20210510T093850_20210511T220044_0180_071_307_2160_MAR_O_NT_003.SEN3.E01250830N4531390_5x5.nc\n",
      "Already exists!: /Users/benloveday/Code/Git_Reps/CMTS/internal/sensors/learn-olci/2_OLCI_advanced/Venice/minifiles/S3A_OL_2_WFR____20210510T093550_20210510T093850_20210511T220044_0180_071_307_2160_MAR_O_NT_003.SEN3.E01250830N4531390_5x5.nc\n",
      "Creating minifile: S3A_OL_2_WFR____20210514T093206_20210514T093506_20210515T211424_0179_071_364_2160_MAR_O_NT_003.SEN3.E01250830N4531390_5x5.nc\n",
      "Creating minifile: S3A_OL_2_WFR____20210526T092052_20210526T092352_20210527T231346_0179_072_150_2160_MAR_O_NT_003.SEN3.E01250830N4531390_5x5.nc\n",
      "Already exists!: /Users/benloveday/Code/Git_Reps/CMTS/internal/sensors/learn-olci/2_OLCI_advanced/Venice/minifiles/S3A_OL_2_WFR____20210526T092052_20210526T092352_20210527T231346_0179_072_150_2160_MAR_O_NT_003.SEN3.E01250830N4531390_5x5.nc\n",
      "Creating minifile: S3A_OL_2_WFR____20210530T091707_20210530T092007_20210601T004503_0179_072_207_2160_MAR_O_NT_003.SEN3.E01250830N4531390_5x5.nc\n",
      "Already exists!: /Users/benloveday/Code/Git_Reps/CMTS/internal/sensors/learn-olci/2_OLCI_advanced/Venice/minifiles/S3A_OL_2_WFR____20210530T091707_20210530T092007_20210601T004503_0179_072_207_2160_MAR_O_NT_003.SEN3.E01250830N4531390_5x5.nc\n",
      "\n",
      "Step EDB\n",
      "Creating EDB (extraction data base)\n",
      "creating EDB: EDB_S3A_OLCI_L2_IPF_OL__L2M.003_FR_EUMETSAT_standard_L2_5x5_Venice\n",
      "Creating EDB CSV: /Users/benloveday/Code/Git_Reps/CMTS/internal/sensors/learn-olci/2_OLCI_advanced/Venice/EDB/EDB_S3A_OLCI_L2_IPF_OL__L2M.003_FR_EUMETSAT_standard_L2_5x5_Venice.csv\n",
      "\n",
      "Step MDB\n",
      "Creating MDB (matchup data base) by merging IDB (insitu) and EDB (extraction) data bases\n",
      "Creating MDB file: /Users/benloveday/Code/Git_Reps/CMTS/internal/sensors/learn-olci/2_OLCI_advanced/Venice/MDB/MDB_S3A_OLCI_L2_IPF_OL__L2M.003_FR_EUMETSAT_standard_L2_5x5_Venice.nc!\n",
      "Rrs_620.0: cannot perform linear regression with less than 3 points\n",
      "Rrs_708.75: cannot perform linear regression with less than 3 points\n",
      "Rrs_753.75: cannot perform linear regression with less than 3 points\n",
      "Rrs_778.75: cannot perform linear regression with less than 3 points\n",
      "Rrs_1020.0: cannot perform linear regression with less than 3 points\n",
      "Creating MDB CSV: /Users/benloveday/Code/Git_Reps/CMTS/internal/sensors/learn-olci/2_OLCI_advanced/Venice/MDB/MDB_S3A_OLCI_L2_IPF_OL__L2M.003_FR_EUMETSAT_standard_L2_5x5_Venice.csv\n",
      "\n",
      "Creating MDB (matchup data base) plots\n",
      "Creating MDB plot: /Users/benloveday/Code/Git_Reps/CMTS/internal/sensors/learn-olci/2_OLCI_advanced/Venice/MDB/Rrs_400.0_S3A_OLCI_L2_IPF_OL__L2M.003_FR_EUMETSAT_standard_L2_5x5_Venice.png\n",
      "Creating MDB plot: /Users/benloveday/Code/Git_Reps/CMTS/internal/sensors/learn-olci/2_OLCI_advanced/Venice/MDB/Rrs_412.5_S3A_OLCI_L2_IPF_OL__L2M.003_FR_EUMETSAT_standard_L2_5x5_Venice.png\n",
      "Creating MDB plot: /Users/benloveday/Code/Git_Reps/CMTS/internal/sensors/learn-olci/2_OLCI_advanced/Venice/MDB/Rrs_442.5_S3A_OLCI_L2_IPF_OL__L2M.003_FR_EUMETSAT_standard_L2_5x5_Venice.png\n",
      "Creating MDB plot: /Users/benloveday/Code/Git_Reps/CMTS/internal/sensors/learn-olci/2_OLCI_advanced/Venice/MDB/Rrs_490.0_S3A_OLCI_L2_IPF_OL__L2M.003_FR_EUMETSAT_standard_L2_5x5_Venice.png\n",
      "Creating MDB plot: /Users/benloveday/Code/Git_Reps/CMTS/internal/sensors/learn-olci/2_OLCI_advanced/Venice/MDB/Rrs_510.0_S3A_OLCI_L2_IPF_OL__L2M.003_FR_EUMETSAT_standard_L2_5x5_Venice.png\n",
      "Creating MDB plot: /Users/benloveday/Code/Git_Reps/CMTS/internal/sensors/learn-olci/2_OLCI_advanced/Venice/MDB/Rrs_560.0_S3A_OLCI_L2_IPF_OL__L2M.003_FR_EUMETSAT_standard_L2_5x5_Venice.png\n",
      "Creating MDB plot: /Users/benloveday/Code/Git_Reps/CMTS/internal/sensors/learn-olci/2_OLCI_advanced/Venice/MDB/Rrs_620.0_S3A_OLCI_L2_IPF_OL__L2M.003_FR_EUMETSAT_standard_L2_5x5_Venice.png\n",
      "No matching data for band 620.0, product Rrs\n",
      "Creating MDB plot: /Users/benloveday/Code/Git_Reps/CMTS/internal/sensors/learn-olci/2_OLCI_advanced/Venice/MDB/Rrs_665.0_S3A_OLCI_L2_IPF_OL__L2M.003_FR_EUMETSAT_standard_L2_5x5_Venice.png\n",
      "Creating MDB plot: /Users/benloveday/Code/Git_Reps/CMTS/internal/sensors/learn-olci/2_OLCI_advanced/Venice/MDB/Rrs_673.75_S3A_OLCI_L2_IPF_OL__L2M.003_FR_EUMETSAT_standard_L2_5x5_Venice.png\n",
      "Creating MDB plot: /Users/benloveday/Code/Git_Reps/CMTS/internal/sensors/learn-olci/2_OLCI_advanced/Venice/MDB/Rrs_681.25_S3A_OLCI_L2_IPF_OL__L2M.003_FR_EUMETSAT_standard_L2_5x5_Venice.png\n",
      "Creating MDB plot: /Users/benloveday/Code/Git_Reps/CMTS/internal/sensors/learn-olci/2_OLCI_advanced/Venice/MDB/Rrs_708.75_S3A_OLCI_L2_IPF_OL__L2M.003_FR_EUMETSAT_standard_L2_5x5_Venice.png\n",
      "No matching data for band 708.75, product Rrs\n",
      "Creating MDB plot: /Users/benloveday/Code/Git_Reps/CMTS/internal/sensors/learn-olci/2_OLCI_advanced/Venice/MDB/Rrs_753.75_S3A_OLCI_L2_IPF_OL__L2M.003_FR_EUMETSAT_standard_L2_5x5_Venice.png\n",
      "No matching data for band 753.75, product Rrs\n",
      "Creating MDB plot: /Users/benloveday/Code/Git_Reps/CMTS/internal/sensors/learn-olci/2_OLCI_advanced/Venice/MDB/Rrs_778.75_S3A_OLCI_L2_IPF_OL__L2M.003_FR_EUMETSAT_standard_L2_5x5_Venice.png\n",
      "No matching data for band 778.75, product Rrs\n",
      "Creating MDB plot: /Users/benloveday/Code/Git_Reps/CMTS/internal/sensors/learn-olci/2_OLCI_advanced/Venice/MDB/Rrs_865.0_S3A_OLCI_L2_IPF_OL__L2M.003_FR_EUMETSAT_standard_L2_5x5_Venice.png\n",
      "Creating MDB plot: /Users/benloveday/Code/Git_Reps/CMTS/internal/sensors/learn-olci/2_OLCI_advanced/Venice/MDB/Rrs_885.0_S3A_OLCI_L2_IPF_OL__L2M.003_FR_EUMETSAT_standard_L2_5x5_Venice.png\n",
      "Creating MDB plot: /Users/benloveday/Code/Git_Reps/CMTS/internal/sensors/learn-olci/2_OLCI_advanced/Venice/MDB/Rrs_1020.0_S3A_OLCI_L2_IPF_OL__L2M.003_FR_EUMETSAT_standard_L2_5x5_Venice.png\n",
      "Creating MDB plot: /Users/benloveday/Code/Git_Reps/CMTS/internal/sensors/learn-olci/2_OLCI_advanced/Venice/MDB/chl_S3A_OLCI_L2_IPF_OL__L2M.003_FR_EUMETSAT_standard_L2_5x5_Venice.png\n",
      "Creating MDB plot: /Users/benloveday/Code/Git_Reps/CMTS/internal/sensors/learn-olci/2_OLCI_advanced/Venice/MDB/Rrs_AllBands_1_Spectra_1_satellite_S3A_OLCI_L2_IPF_OL__L2M.003_FR_EUMETSAT_standard_L2_5x5_Venice.png\n",
      "Creating MDB plot: /Users/benloveday/Code/Git_Reps/CMTS/internal/sensors/learn-olci/2_OLCI_advanced/Venice/MDB/Rrs_AllBands_1_Spectra_2_insitu_S3A_OLCI_L2_IPF_OL__L2M.003_FR_EUMETSAT_standard_L2_5x5_Venice.png\n",
      "Creating MDB plot: /Users/benloveday/Code/Git_Reps/CMTS/internal/sensors/learn-olci/2_OLCI_advanced/Venice/MDB/Rrs_AllBands_1_Spectra_3_difference_S3A_OLCI_L2_IPF_OL__L2M.003_FR_EUMETSAT_standard_L2_5x5_Venice.png\n",
      "Creating MDB plot: /Users/benloveday/Code/Git_Reps/CMTS/internal/sensors/learn-olci/2_OLCI_advanced/Venice/MDB/Rrs_AllBands_2_Scatter_S3A_OLCI_L2_IPF_OL__L2M.003_FR_EUMETSAT_standard_L2_5x5_Venice.png\n",
      "Creating MDB plot: /Users/benloveday/Code/Git_Reps/CMTS/internal/sensors/learn-olci/2_OLCI_advanced/Venice/MDB/Rrs_AllBands_3_Absolute_Deviations_S3A_OLCI_L2_IPF_OL__L2M.003_FR_EUMETSAT_standard_L2_5x5_Venice.png\n",
      "Creating MDB plot: /Users/benloveday/Code/Git_Reps/CMTS/internal/sensors/learn-olci/2_OLCI_advanced/Venice/MDB/Rrs_AllBands_4_Percentual_Deviations_S3A_OLCI_L2_IPF_OL__L2M.003_FR_EUMETSAT_standard_L2_5x5_Venice.png\n",
      "Creating MDB plot: /Users/benloveday/Code/Git_Reps/CMTS/internal/sensors/learn-olci/2_OLCI_advanced/Venice/MDB/Rrs_AllBands_5_Metrologically_Compatible_Fraction_S3A_OLCI_L2_IPF_OL__L2M.003_FR_EUMETSAT_standard_L2_5x5_Venice.png\n",
      "Creating MDB plot: /Users/benloveday/Code/Git_Reps/CMTS/internal/sensors/learn-olci/2_OLCI_advanced/Venice/MDB/Rrs_AllBands_6_Slope_S3A_OLCI_L2_IPF_OL__L2M.003_FR_EUMETSAT_standard_L2_5x5_Venice.png\n",
      "Creating MDB plot: /Users/benloveday/Code/Git_Reps/CMTS/internal/sensors/learn-olci/2_OLCI_advanced/Venice/MDB/Rrs_AllBands_7_Intercept_S3A_OLCI_L2_IPF_OL__L2M.003_FR_EUMETSAT_standard_L2_5x5_Venice.png\n",
      "Creating MDB plot: /Users/benloveday/Code/Git_Reps/CMTS/internal/sensors/learn-olci/2_OLCI_advanced/Venice/MDB/Rrs_AllBands_8_Slope_TS_S3A_OLCI_L2_IPF_OL__L2M.003_FR_EUMETSAT_standard_L2_5x5_Venice.png\n",
      "Creating MDB plot: /Users/benloveday/Code/Git_Reps/CMTS/internal/sensors/learn-olci/2_OLCI_advanced/Venice/MDB/Rrs_AllBands_9_Intercept_TS_S3A_OLCI_L2_IPF_OL__L2M.003_FR_EUMETSAT_standard_L2_5x5_Venice.png\n",
      "Creating MDB plot: /Users/benloveday/Code/Git_Reps/CMTS/internal/sensors/learn-olci/2_OLCI_advanced/Venice/MDB/Rrs_AllBands_10_R2_S3A_OLCI_L2_IPF_OL__L2M.003_FR_EUMETSAT_standard_L2_5x5_Venice.png\n",
      "Creating MDB plot: /Users/benloveday/Code/Git_Reps/CMTS/internal/sensors/learn-olci/2_OLCI_advanced/Venice/MDB/matchup-by-matchup/matchupID_S0001_I0001_station_Venice-Venise-00000_S3A_OLCI_L2_IPF_OL__L2M.003_EUMETSAT_standard_L2_Rrs.png\n",
      "Creating MDB plot: /Users/benloveday/Code/Git_Reps/CMTS/internal/sensors/learn-olci/2_OLCI_advanced/Venice/MDB/matchup-by-matchup/matchupID_S0001_I0001_station_Venice-Venise-00000_S3A_OLCI_L2_IPF_OL__L2M.003_EUMETSAT_standard_L2_RGB.png\n",
      "Creating MDB plot: /Users/benloveday/Code/Git_Reps/CMTS/internal/sensors/learn-olci/2_OLCI_advanced/Venice/MDB/matchup-by-matchup/matchupID_S0002_I0027_station_Venice-Venise-00026_S3A_OLCI_L2_IPF_OL__L2M.003_EUMETSAT_standard_L2_Rrs.png\n",
      "Creating MDB plot: /Users/benloveday/Code/Git_Reps/CMTS/internal/sensors/learn-olci/2_OLCI_advanced/Venice/MDB/matchup-by-matchup/matchupID_S0002_I0027_station_Venice-Venise-00026_S3A_OLCI_L2_IPF_OL__L2M.003_EUMETSAT_standard_L2_RGB.png\n",
      "Creating MDB plot: /Users/benloveday/Code/Git_Reps/CMTS/internal/sensors/learn-olci/2_OLCI_advanced/Venice/MDB/matchup-by-matchup/matchupID_S0003_I0035_station_Venice-Venise-00034_S3A_OLCI_L2_IPF_OL__L2M.003_EUMETSAT_standard_L2_Rrs.png\n",
      "Creating MDB plot: /Users/benloveday/Code/Git_Reps/CMTS/internal/sensors/learn-olci/2_OLCI_advanced/Venice/MDB/matchup-by-matchup/matchupID_S0003_I0035_station_Venice-Venise-00034_S3A_OLCI_L2_IPF_OL__L2M.003_EUMETSAT_standard_L2_RGB.png\n",
      "Creating MDB plot: /Users/benloveday/Code/Git_Reps/CMTS/internal/sensors/learn-olci/2_OLCI_advanced/Venice/MDB/matchup-by-matchup/matchupID_S0004_I0052_station_Venice-Venise-00051_S3A_OLCI_L2_IPF_OL__L2M.003_EUMETSAT_standard_L2_Rrs.png\n",
      "Creating MDB plot: /Users/benloveday/Code/Git_Reps/CMTS/internal/sensors/learn-olci/2_OLCI_advanced/Venice/MDB/matchup-by-matchup/matchupID_S0004_I0052_station_Venice-Venise-00051_S3A_OLCI_L2_IPF_OL__L2M.003_EUMETSAT_standard_L2_RGB.png\n",
      "\n",
      "Run \"Venice\" finished\n",
      "\n",
      "\n",
      "ThoMaS finished!\n"
     ]
    }
   ],
   "source": [
    "# Run ThoMaS and check all the outputs in the output directory\n",
    "ThoMaS(path_to_config_file)"
   ]
  },
  {
   "cell_type": "markdown",
   "metadata": {},
   "source": [
    "In this case, we have run a full analysis, so along side all of our data we have some summary plots."
   ]
  },
  {
   "cell_type": "markdown",
   "metadata": {},
   "source": [
    "<div class=\"alert alert-info\" role=\"alert\">\n",
    "\n",
    "## <a id='section5'></a>Example 3: Full match-up exercise with *in situ* hyperspectral R$_{rs}$\n",
    "[Back to top](#TOC-TOP)\n",
    "\n",
    "</div>\n",
    "\n",
    "<div class=\"alert alert-success\" role=\"alert\">\n",
    "\n",
    "Run ThoMaS for:\n",
    "\n",
    "1. full matchup exercise: satellite extractions + minifiles + extraction statistics + matchup statistics\n",
    "1. insitu data already available in SeaBASS/OCDB format\n",
    "1. apply a BRDF correction\n",
    "1. use EUMETSAT standard protocol for extractions and for insitu-extraction comparison.\n",
    "\n",
    "</div>"
   ]
  },
  {
   "cell_type": "markdown",
   "metadata": {},
   "source": [
    "#### Description\n",
    "\n",
    "<hr>\n",
    "\n",
    "In this final example we are going to perform a full analysis using a subset of data from the MOBY ocean colour database as our *in situ* data.\n",
    "\n",
    "1. You have a prepared a set of hyperspectral Rrs insitu measurements from MOBY in SeaBASS format not corrected for BRDF effects.\n",
    "1. You wish to get matchups between this MOBY subset and;\n",
    "    1. S3A/OLCI standard FR L2,\n",
    "    1. From the current collection OL__L2M.003\n",
    "    1. using the standard extraction protocol from EUMETSAT,\n",
    "    1. an extraction window of 5x5,\n",
    "    1. an insitu-satellite time difference threshold of 1 hour (3600 seconds).\n",
    "1. You are not interested in getting ancillary data from ECMWF for to the insitu data.\n",
    "1. You want to apply the <a href=\"https://opg.optica.org/ao/abstract.cfm?uri=AO-41-30-6289\" target=\"_blank\">Morel et al., 2002</a> BRDF correction to both satellite and insitu.\n",
    "1. You may have several insitu measurements corresponding to one single SatData within the time window that you selected, but you wish to keep only the closest in time with the satellite overpass.\n",
    "1. You wish: SatData to be stored at ./MOBY/SatData\n",
    "1. all the other outputs (IDB, minifiles, EDB, MDB, etc.) to be stored in the \"MOBY\" directory.\n",
    "\n",
    "<hr>"
   ]
  },
  {
   "cell_type": "markdown",
   "metadata": {},
   "source": [
    "We are going to perform similar steps to those in example 1, beginning with defining our output path."
   ]
  },
  {
   "cell_type": "code",
   "execution_count": 8,
   "metadata": {},
   "outputs": [],
   "source": [
    "# Define and create your main output path for this example:\n",
    "output_path = os.path.join(os.getcwd(), \"MOBY\")\n",
    "if not os.path.exists(output_path):\n",
    "    os.mkdir(output_path)"
   ]
  },
  {
   "cell_type": "markdown",
   "metadata": {},
   "source": [
    "Lets now copy some SEABASS/OCDB format *in situ* data into this experiment path (this is included in command line example 6)."
   ]
  },
  {
   "cell_type": "code",
   "execution_count": 9,
   "metadata": {},
   "outputs": [
    {
     "data": {
      "text/plain": [
       "'/Users/benloveday/Code/Git_Reps/CMTS/internal/sensors/learn-olci/2_OLCI_advanced/MOBY/MOBY_OCDB.csv'"
      ]
     },
     "execution_count": 9,
     "metadata": {},
     "output_type": "execute_result"
    }
   ],
   "source": [
    "# Copy the MOBY sample data (/ThoMaS/examples/examples6/MOBY_OCDB.csv) to your target output directory\n",
    "path_insitu = os.path.join(output_path, 'MOBY_OCDB.csv')\n",
    "shutil.copy(os.path.join(os.getcwd(), 'ThoMaS', 'examples', 'example6', 'MOBY', 'MOBY_OCDB.csv'), path_insitu)"
   ]
  },
  {
   "cell_type": "markdown",
   "metadata": {},
   "source": [
    "Lets take a quick look at a subset of the data...."
   ]
  },
  {
   "cell_type": "code",
   "execution_count": 10,
   "metadata": {},
   "outputs": [
    {
     "name": "stdout",
     "output_type": "stream",
     "text": [
      "Station\t\t\tDate\t\tTime\t\tStatus\n",
      "M260_2016061020d\t20160610\t21:14:37\tGood\n",
      "M260_2016071120d\t20160711\t21:14:32\tGood\n",
      "M260_2016071920d\t20160719\t21:15:05\tQuestionable\n",
      "M260_2016072220d\t20160722\t21:14:37\tQuestionable\n",
      "M260_2016080320d\t20160803\t21:14:32\tGood\n",
      "M261_2016082620d\t20160826\t21:13:24\tGood\n",
      "M261_2016093020d\t20160930\t21:13:54\tGood\n",
      "M261_2016100820d\t20161008\t21:13:27\tGood\n",
      "M261_2016101920d\t20161019\t21:15:10\tGood\n",
      "M261_2017010420d\t20170104\t21:06:21\tGood\n",
      "M261_2017010520d\t20170105\t21:06:28\tGood\n",
      "M261_2017011120d\t20170111\t21:05:57\tGood\n",
      "M261_2017011220d\t20170112\t21:06:00\tGood\n",
      "M262_2017022320d\t20170223\t21:15:58\tQuestionable\n",
      "M262_2017031520d\t20170315\t21:15:54\tQuestionable\n",
      "M262_2017032620d\t20170326\t21:15:56\tGood\n",
      "M262_2017040320d\t20170403\t21:14:46\tGood\n",
      "M262_2017052320d\t20170523\t21:17:10\tGood\n",
      "M262_2017052720d\t20170527\t21:16:57\tGood\n",
      "M262_2017060420d\t20170604\t21:17:47\tGood\n",
      "M262_2017061920d\t20170619\t21:16:51\tQuestionable\n",
      "M263_2017080420d\t20170804\t21:14:21\tGood\n",
      "M263_2017082020d\t20170820\t21:12:26\tQuestionable\n",
      "M263_2017082820d\t20170828\t21:11:27\tQuestionable\n",
      "M263_2017090820d\t20170908\t21:11:50\tGood\n",
      "M263_2017092420d\t20170924\t21:11:39\tGood\n",
      "M263_2017100520d\t20171005\t21:11:35\tQuestionable\n",
      "M263_2017100920d\t20171009\t21:11:34\tGood\n",
      "M263_2017101320d\t20171013\t21:11:10\tGood\n",
      "M263_2017110520d\t20171105\t21:12:13\tQuestionable\n"
     ]
    }
   ],
   "source": [
    "with open(path_insitu) as file:\n",
    "    print('\\t'.join([\"Station\", \"\\t\\tDate\", \"\\tTime\", \"\\tStatus\"]))\n",
    "    for line in file:\n",
    "        if not any(ext in line[0] for ext in ['/', '!']):\n",
    "            print('\\t'.join(line.rstrip().split(',')[0:4]))"
   ]
  },
  {
   "cell_type": "markdown",
   "metadata": {},
   "source": [
    "And, as in example 2, we will vuild our configuration file..."
   ]
  },
  {
   "cell_type": "code",
   "execution_count": 11,
   "metadata": {},
   "outputs": [],
   "source": [
    "# Build your config_file.ini\n",
    "path_to_config_file = os.path.join(output_path, 'config_file.ini')\n",
    "config_params = {}\n",
    "\n",
    "# global\n",
    "config_params['global'] = {}\n",
    "config_params['global']['path_output'] = output_path\n",
    "config_params['global']['SetID'] = 'MOBY'\n",
    "config_params['global']['workflow'] = 'insitu, SatData, minifiles, EDB, MDB'\n",
    "\n",
    "# insitu\n",
    "config_params['insitu'] = {}\n",
    "config_params['insitu']['insitu_input'] = os.path.join(output_path, 'MOBY_OCDB.csv')\n",
    "config_params['insitu']['insitu_satelliteTimeToleranceSeconds'] = 3600\n",
    "config_params['insitu']['insitu_getAncillary'] = False \n",
    "config_params['insitu']['insitu_BRDF'] = 'M02'\n",
    "\n",
    "# satellite\n",
    "config_params['satellite'] = {}\n",
    "config_params['satellite']['satellite_path-to-SatData'] = os.path.join(output_path, 'SatData')\n",
    "config_params['satellite']['satellite_source'] = 'EUMETSATdataStore'\n",
    "config_params['satellite']['satellite_collections'] = 'operational'\n",
    "config_params['satellite']['satellite_platforms'] = 'S3A'\n",
    "config_params['satellite']['satellite_resolutions'] = 'FR'\n",
    "\n",
    "# minifiles\n",
    "config_params['minifiles'] = {}\n",
    "config_params['minifiles']['minifiles_winSize'] = 5\n",
    "\n",
    "# EDB\n",
    "config_params['EDB'] = {}\n",
    "config_params['EDB']['EDB_protocols_L2'] = 'EUMETSAT_standard_L2'\n",
    "config_params['EDB']['EDB_winSizes'] = 5\n",
    "\n",
    "# MDB\n",
    "config_params['MDB'] = {}\n",
    "config_params['MDB']['MDB_time-interpolation'] = 'insitu2satellite_NN'\n",
    "config_params['MDB']['MDB_stats_plots'] = True\n",
    "config_params['MDB']['MDB_stats_protocol'] = 'EUMETSAT_standard_L2'\n",
    "\n",
    "# Write config_params sections into config_file.ini\n",
    "write_config_file(path_to_config_file, config_params)"
   ]
  },
  {
   "cell_type": "markdown",
   "metadata": {},
   "source": [
    "...and run!"
   ]
  },
  {
   "cell_type": "code",
   "execution_count": 13,
   "metadata": {},
   "outputs": [
    {
     "name": "stdout",
     "output_type": "stream",
     "text": [
      "\n",
      "Running MOBY\n",
      "\n",
      "Building satellite_datasets file from specified options in config_file...\n",
      "\n",
      "Step insitu\n",
      "Creating IDB (in situ database) netcdf file and calculating timeRanges and satellite datasets from input SeaBASS/OCDB file (in situ)\n",
      "Already exists!: /Users/benloveday/Code/Git_Reps/CMTS/internal/sensors/learn-olci/2_OLCI_advanced/MOBY/IDB/IDB_MOBY.nc\n",
      "\n",
      "Step SatData\n",
      "Downloading and/or creating lists of satellite data\n",
      "Already exists!: /Users/benloveday/Code/Git_Reps/CMTS/internal/sensors/learn-olci/2_OLCI_advanced/MOBY/SatData\n",
      "Already exists!: /Users/benloveday/Code/Git_Reps/CMTS/internal/sensors/learn-olci/2_OLCI_advanced/MOBY/SatData/S3A_OL_2_WFR____20160610T202635_20160610T202835_20210706T132838_0119_005_128______MAR_R_NT_003.SEN3\n",
      "Already exists!: /Users/benloveday/Code/Git_Reps/CMTS/internal/sensors/learn-olci/2_OLCI_advanced/MOBY/SatData/S3A_OL_2_WFR____20160711T202303_20160711T202503_20210707T002908_0119_006_185______MAR_R_NT_003.SEN3\n",
      "Already exists!: /Users/benloveday/Code/Git_Reps/CMTS/internal/sensors/learn-olci/2_OLCI_advanced/MOBY/SatData/S3A_OL_2_WFR____20160719T201556_20160719T201756_20210705T214448_0119_006_299______MAR_R_NT_003.SEN3\n",
      "Already exists!: /Users/benloveday/Code/Git_Reps/CMTS/internal/sensors/learn-olci/2_OLCI_advanced/MOBY/SatData/S3A_OL_2_WFR____20160722T203833_20160722T204033_20210707T162647_0119_006_342______MAR_R_NT_003.SEN3\n",
      "Already exists!: /Users/benloveday/Code/Git_Reps/CMTS/internal/sensors/learn-olci/2_OLCI_advanced/MOBY/SatData/S3A_OL_2_WFR____20160803T202612_20160803T202812_20210708T103158_0119_007_128______MAR_R_NT_003.SEN3\n",
      "Already exists!: /Users/benloveday/Code/Git_Reps/CMTS/internal/sensors/learn-olci/2_OLCI_advanced/MOBY/SatData/S3A_OL_2_WFR____20160826T203012_20160826T203212_20210708T091244_0119_008_071______MAR_R_NT_003.SEN3\n",
      "Already exists!: /Users/benloveday/Code/Git_Reps/CMTS/internal/sensors/learn-olci/2_OLCI_advanced/MOBY/SatData/S3A_OL_2_WFR____20160930T202306_20160930T202506_20210709T013515_0119_009_185______MAR_R_NT_003.SEN3\n",
      "Already exists!: /Users/benloveday/Code/Git_Reps/CMTS/internal/sensors/learn-olci/2_OLCI_advanced/MOBY/SatData/S3A_OL_2_WFR____20161008T201436_20161008T201636_20210709T120707_0119_009_299______MAR_R_NT_003.SEN3\n",
      "Already exists!: /Users/benloveday/Code/Git_Reps/CMTS/internal/sensors/learn-olci/2_OLCI_advanced/MOBY/SatData/S3A_OL_2_WFR____20161019T203050_20161019T203250_20210708T180407_0119_010_071______MAR_R_NT_003.SEN3\n",
      "Already exists!: /Users/benloveday/Code/Git_Reps/CMTS/internal/sensors/learn-olci/2_OLCI_advanced/MOBY/SatData/S3A_OL_2_WFR____20170104T203438_20170104T203638_20210711T183047_0119_013_014______MAR_R_NT_003.SEN3\n",
      "Already exists!: /Users/benloveday/Code/Git_Reps/CMTS/internal/sensors/learn-olci/2_OLCI_advanced/MOBY/SatData/S3A_OL_2_WFR____20170105T200825_20170105T201025_20210711T084001_0119_013_028______MAR_R_NT_003.SEN3\n",
      "Already exists!: /Users/benloveday/Code/Git_Reps/CMTS/internal/sensors/learn-olci/2_OLCI_advanced/MOBY/SatData/S3A_OL_2_WFR____20170111T205304_20170111T205504_20210711T145209_0119_013_114______MAR_R_NT_003.SEN3\n",
      "Already exists!: /Users/benloveday/Code/Git_Reps/CMTS/internal/sensors/learn-olci/2_OLCI_advanced/MOBY/SatData/S3A_OL_2_WFR____20170112T202651_20170112T202851_20210711T212454_0119_013_128______MAR_R_NT_003.SEN3\n",
      "Already exists!: /Users/benloveday/Code/Git_Reps/CMTS/internal/sensors/learn-olci/2_OLCI_advanced/MOBY/SatData/S3A_OL_2_WFR____20170223T203804_20170223T204004_20210712T045115_0119_014_342______MAR_R_NT_003.SEN3\n",
      "Already exists!: /Users/benloveday/Code/Git_Reps/CMTS/internal/sensors/learn-olci/2_OLCI_advanced/MOBY/SatData/S3A_OL_2_WFR____20170315T201845_20170315T202045_20210713T040232_0119_015_242______MAR_R_NT_003.SEN3\n",
      "Already exists!: /Users/benloveday/Code/Git_Reps/CMTS/internal/sensors/learn-olci/2_OLCI_advanced/MOBY/SatData/S3A_OL_2_WFR____20170326T203421_20170326T203621_20210713T124630_0119_016_014______MAR_R_NT_003.SEN3\n",
      "Already exists!: /Users/benloveday/Code/Git_Reps/CMTS/internal/sensors/learn-olci/2_OLCI_advanced/MOBY/SatData/S3A_OL_2_WFR____20170403T202555_20170403T202755_20210714T090522_0119_016_128______MAR_R_NT_003.SEN3\n",
      "Already exists!: /Users/benloveday/Code/Git_Reps/CMTS/internal/sensors/learn-olci/2_OLCI_advanced/MOBY/SatData/S3A_OL_2_WFR____20170523T203114_20170523T203314_20210714T132603_0119_018_071______MAR_R_NT_003.SEN3\n",
      "Already exists!: /Users/benloveday/Code/Git_Reps/CMTS/internal/sensors/learn-olci/2_OLCI_advanced/MOBY/SatData/S3A_OL_2_WFR____20170527T202717_20170527T202917_20210714T154118_0119_018_128______MAR_R_NT_003.SEN3\n",
      "Already exists!: /Users/benloveday/Code/Git_Reps/CMTS/internal/sensors/learn-olci/2_OLCI_advanced/MOBY/SatData/S3A_OL_2_WFR____20170604T201928_20170604T202128_20210715T150457_0119_018_242______MAR_R_NT_003.SEN3\n",
      "Already exists!: /Users/benloveday/Code/Git_Reps/CMTS/internal/sensors/learn-olci/2_OLCI_advanced/MOBY/SatData/S3A_OL_2_WFR____20170619T203021_20170619T203221_20210714T135658_0119_019_071______MAR_R_NT_003.SEN3\n",
      "Already exists!: /Users/benloveday/Code/Git_Reps/CMTS/internal/sensors/learn-olci/2_OLCI_advanced/MOBY/SatData/S3A_OL_2_WFR____20170804T203735_20170804T203935_20210717T032057_0119_020_342______MAR_R_NT_003.SEN3\n",
      "Already exists!: /Users/benloveday/Code/Git_Reps/CMTS/internal/sensors/learn-olci/2_OLCI_advanced/MOBY/SatData/S3A_OL_2_WFR____20170820T202208_20170820T202408_20210716T151922_0119_021_185______MAR_R_NT_003.SEN3\n",
      "Already exists!: /Users/benloveday/Code/Git_Reps/CMTS/internal/sensors/learn-olci/2_OLCI_advanced/MOBY/SatData/S3A_OL_2_WFR____20170828T201531_20170828T201731_20210717T021628_0119_021_299______MAR_R_NT_003.SEN3\n",
      "S3A_OL_2_WFR____20170908T202946_20170908T203146_20210726T120146_0119_022_071______MAR_R_NT_003.SEN3: Successfully downloaded\n",
      "S3A_OL_2_WFR____20170924T201450_20170924T201650_20210726T070323_0119_022_299______MAR_R_NT_003.SEN3: Successfully downloaded\n",
      "S3A_OL_2_WFR____20171005T203111_20171005T203311_20210717T174351_0119_023_071______MAR_R_NT_003.SEN3: Successfully downloaded\n",
      "S3A_OL_2_WFR____20171009T202557_20171009T202757_20210727T083109_0119_023_128______MAR_R_NT_003.SEN3: Successfully downloaded\n",
      "S3A_OL_2_WFR____20171013T202241_20171013T202441_20210727T004415_0119_023_185______MAR_R_NT_003.SEN3: Successfully downloaded\n",
      "S3A_OL_2_WFR____20171105T202655_20171105T202855_20210727T191758_0119_024_128______MAR_R_NT_003.SEN3: Successfully downloaded\n",
      "Writing SatDataList for set S3A_OLCI_L2_IPF_OL__L2M.003_FR_MOBY to: /Users/benloveday/Code/Git_Reps/CMTS/internal/sensors/learn-olci/2_OLCI_advanced/MOBY/SatDataLists/SatDataList_S3A_OLCI_L2_IPF_OL__L2M.003_FR_MOBY.txt\n",
      "\n",
      "Step minifiles\n",
      "Extracting minifiles from satellite data\n",
      "Creating minifile: S3A_OL_2_WFR____20160610T202635_20160610T202835_20210706T132838_0119_005_128______MAR_R_NT_003.SEN3.W15719016N2081716_5x5.nc\n",
      "Creating minifile: S3A_OL_2_WFR____20160711T202303_20160711T202503_20210707T002908_0119_006_185______MAR_R_NT_003.SEN3.W15719016N2081716_5x5.nc\n",
      "Creating minifile: S3A_OL_2_WFR____20160719T201556_20160719T201756_20210705T214448_0119_006_299______MAR_R_NT_003.SEN3.W15719016N2081716_5x5.nc\n",
      "Creating minifile: S3A_OL_2_WFR____20160722T203833_20160722T204033_20210707T162647_0119_006_342______MAR_R_NT_003.SEN3.W15719016N2081716_5x5.nc\n",
      "Creating minifile: S3A_OL_2_WFR____20160803T202612_20160803T202812_20210708T103158_0119_007_128______MAR_R_NT_003.SEN3.W15719016N2081716_5x5.nc\n",
      "Creating minifile: S3A_OL_2_WFR____20160826T203012_20160826T203212_20210708T091244_0119_008_071______MAR_R_NT_003.SEN3.W15719016N2081716_5x5.nc\n",
      "Creating minifile: S3A_OL_2_WFR____20160930T202306_20160930T202506_20210709T013515_0119_009_185______MAR_R_NT_003.SEN3.W15719016N2081716_5x5.nc\n",
      "Creating minifile: S3A_OL_2_WFR____20161008T201436_20161008T201636_20210709T120707_0119_009_299______MAR_R_NT_003.SEN3.W15719016N2081716_5x5.nc\n",
      "Creating minifile: S3A_OL_2_WFR____20161019T203050_20161019T203250_20210708T180407_0119_010_071______MAR_R_NT_003.SEN3.W15719016N2081716_5x5.nc\n",
      "Creating minifile: S3A_OL_2_WFR____20170104T203438_20170104T203638_20210711T183047_0119_013_014______MAR_R_NT_003.SEN3.W15719016N2081716_5x5.nc\n",
      "Creating minifile: S3A_OL_2_WFR____20170105T200825_20170105T201025_20210711T084001_0119_013_028______MAR_R_NT_003.SEN3.W15719016N2081716_5x5.nc\n",
      "Creating minifile: S3A_OL_2_WFR____20170111T205304_20170111T205504_20210711T145209_0119_013_114______MAR_R_NT_003.SEN3.W15719016N2081716_5x5.nc\n",
      "Creating minifile: S3A_OL_2_WFR____20170112T202651_20170112T202851_20210711T212454_0119_013_128______MAR_R_NT_003.SEN3.W15719016N2081716_5x5.nc\n",
      "Creating minifile: S3A_OL_2_WFR____20170223T203804_20170223T204004_20210712T045115_0119_014_342______MAR_R_NT_003.SEN3.W15719016N2081716_5x5.nc\n",
      "Creating minifile: S3A_OL_2_WFR____20170315T201845_20170315T202045_20210713T040232_0119_015_242______MAR_R_NT_003.SEN3.W15719016N2081716_5x5.nc\n",
      "Creating minifile: S3A_OL_2_WFR____20170326T203421_20170326T203621_20210713T124630_0119_016_014______MAR_R_NT_003.SEN3.W15719016N2081716_5x5.nc\n",
      "Creating minifile: S3A_OL_2_WFR____20170403T202555_20170403T202755_20210714T090522_0119_016_128______MAR_R_NT_003.SEN3.W15719016N2081716_5x5.nc\n",
      "Creating minifile: S3A_OL_2_WFR____20170523T203114_20170523T203314_20210714T132603_0119_018_071______MAR_R_NT_003.SEN3.W15719016N2081716_5x5.nc\n",
      "Creating minifile: S3A_OL_2_WFR____20170527T202717_20170527T202917_20210714T154118_0119_018_128______MAR_R_NT_003.SEN3.W15719016N2081716_5x5.nc\n",
      "Creating minifile: S3A_OL_2_WFR____20170604T201928_20170604T202128_20210715T150457_0119_018_242______MAR_R_NT_003.SEN3.W15719016N2081716_5x5.nc\n",
      "Creating minifile: S3A_OL_2_WFR____20170619T203021_20170619T203221_20210714T135658_0119_019_071______MAR_R_NT_003.SEN3.W15719016N2081716_5x5.nc\n",
      "Creating minifile: S3A_OL_2_WFR____20170804T203735_20170804T203935_20210717T032057_0119_020_342______MAR_R_NT_003.SEN3.W15718716N2081683_5x5.nc\n",
      "Creating minifile: S3A_OL_2_WFR____20170820T202208_20170820T202408_20210716T151922_0119_021_185______MAR_R_NT_003.SEN3.W15718600N2081400_5x5.nc\n",
      "Creating minifile: S3A_OL_2_WFR____20170828T201531_20170828T201731_20210717T021628_0119_021_299______MAR_R_NT_003.SEN3.W15719333N2081100_5x5.nc\n",
      "Creating minifile: S3A_OL_2_WFR____20170908T202946_20170908T203146_20210726T120146_0119_022_071______MAR_R_NT_003.SEN3.W15718349N2081766_5x5.nc\n",
      "Creating minifile: S3A_OL_2_WFR____20170924T201450_20170924T201650_20210726T070323_0119_022_299______MAR_R_NT_003.SEN3.W15719100N2081149_5x5.nc\n",
      "Creating minifile: S3A_OL_2_WFR____20171005T203111_20171005T203311_20210717T174351_0119_023_071______MAR_R_NT_003.SEN3.W15719683N2081133_5x5.nc\n",
      "Creating minifile: S3A_OL_2_WFR____20171009T202557_20171009T202757_20210727T083109_0119_023_128______MAR_R_NT_003.SEN3.W15719500N2080966_5x5.nc\n",
      "Creating minifile: S3A_OL_2_WFR____20171013T202241_20171013T202441_20210727T004415_0119_023_185______MAR_R_NT_003.SEN3.W15719850N2082633_5x5.nc\n",
      "Creating minifile: S3A_OL_2_WFR____20171105T202655_20171105T202855_20210727T191758_0119_024_128______MAR_R_NT_003.SEN3.W15720283N2081700_5x5.nc\n",
      "\n",
      "Step EDB\n",
      "Creating EDB (extraction data base)\n",
      "creating EDB: EDB_S3A_OLCI_L2_IPF_OL__L2M.003_FR_EUMETSAT_standard_L2_5x5_MOBY\n",
      "Creating EDB CSV: /Users/benloveday/Code/Git_Reps/CMTS/internal/sensors/learn-olci/2_OLCI_advanced/MOBY/EDB/EDB_S3A_OLCI_L2_IPF_OL__L2M.003_FR_EUMETSAT_standard_L2_5x5_MOBY.csv\n",
      "\n",
      "Step MDB\n",
      "Creating MDB (matchup data base) by merging IDB (insitu) and EDB (extraction) data bases\n",
      "Creating MDB file: /Users/benloveday/Code/Git_Reps/CMTS/internal/sensors/learn-olci/2_OLCI_advanced/MOBY/MDB/MDB_S3A_OLCI_L2_IPF_OL__L2M.003_FR_EUMETSAT_standard_L2_5x5_MOBY.nc!\n",
      "Creating MDB CSV: /Users/benloveday/Code/Git_Reps/CMTS/internal/sensors/learn-olci/2_OLCI_advanced/MOBY/MDB/MDB_S3A_OLCI_L2_IPF_OL__L2M.003_FR_EUMETSAT_standard_L2_5x5_MOBY.csv\n",
      "\n",
      "Creating MDB (matchup data base) plots\n",
      "Creating MDB plot: /Users/benloveday/Code/Git_Reps/CMTS/internal/sensors/learn-olci/2_OLCI_advanced/MOBY/MDB/Rrs_400.0_S3A_OLCI_L2_IPF_OL__L2M.003_FR_EUMETSAT_standard_L2_5x5_MOBY.png\n",
      "Creating MDB plot: /Users/benloveday/Code/Git_Reps/CMTS/internal/sensors/learn-olci/2_OLCI_advanced/MOBY/MDB/Rrs_412.5_S3A_OLCI_L2_IPF_OL__L2M.003_FR_EUMETSAT_standard_L2_5x5_MOBY.png\n",
      "Creating MDB plot: /Users/benloveday/Code/Git_Reps/CMTS/internal/sensors/learn-olci/2_OLCI_advanced/MOBY/MDB/Rrs_442.5_S3A_OLCI_L2_IPF_OL__L2M.003_FR_EUMETSAT_standard_L2_5x5_MOBY.png\n",
      "Creating MDB plot: /Users/benloveday/Code/Git_Reps/CMTS/internal/sensors/learn-olci/2_OLCI_advanced/MOBY/MDB/Rrs_490.0_S3A_OLCI_L2_IPF_OL__L2M.003_FR_EUMETSAT_standard_L2_5x5_MOBY.png\n",
      "Creating MDB plot: /Users/benloveday/Code/Git_Reps/CMTS/internal/sensors/learn-olci/2_OLCI_advanced/MOBY/MDB/Rrs_510.0_S3A_OLCI_L2_IPF_OL__L2M.003_FR_EUMETSAT_standard_L2_5x5_MOBY.png\n",
      "Creating MDB plot: /Users/benloveday/Code/Git_Reps/CMTS/internal/sensors/learn-olci/2_OLCI_advanced/MOBY/MDB/Rrs_560.0_S3A_OLCI_L2_IPF_OL__L2M.003_FR_EUMETSAT_standard_L2_5x5_MOBY.png\n",
      "Creating MDB plot: /Users/benloveday/Code/Git_Reps/CMTS/internal/sensors/learn-olci/2_OLCI_advanced/MOBY/MDB/Rrs_620.0_S3A_OLCI_L2_IPF_OL__L2M.003_FR_EUMETSAT_standard_L2_5x5_MOBY.png\n",
      "Creating MDB plot: /Users/benloveday/Code/Git_Reps/CMTS/internal/sensors/learn-olci/2_OLCI_advanced/MOBY/MDB/Rrs_665.0_S3A_OLCI_L2_IPF_OL__L2M.003_FR_EUMETSAT_standard_L2_5x5_MOBY.png\n",
      "Creating MDB plot: /Users/benloveday/Code/Git_Reps/CMTS/internal/sensors/learn-olci/2_OLCI_advanced/MOBY/MDB/Rrs_673.75_S3A_OLCI_L2_IPF_OL__L2M.003_FR_EUMETSAT_standard_L2_5x5_MOBY.png\n",
      "Creating MDB plot: /Users/benloveday/Code/Git_Reps/CMTS/internal/sensors/learn-olci/2_OLCI_advanced/MOBY/MDB/Rrs_681.25_S3A_OLCI_L2_IPF_OL__L2M.003_FR_EUMETSAT_standard_L2_5x5_MOBY.png\n",
      "Creating MDB plot: /Users/benloveday/Code/Git_Reps/CMTS/internal/sensors/learn-olci/2_OLCI_advanced/MOBY/MDB/Rrs_AllBands_1_Spectra_1_satellite_S3A_OLCI_L2_IPF_OL__L2M.003_FR_EUMETSAT_standard_L2_5x5_MOBY.png\n",
      "Creating MDB plot: /Users/benloveday/Code/Git_Reps/CMTS/internal/sensors/learn-olci/2_OLCI_advanced/MOBY/MDB/Rrs_AllBands_1_Spectra_2_insitu_S3A_OLCI_L2_IPF_OL__L2M.003_FR_EUMETSAT_standard_L2_5x5_MOBY.png\n",
      "Creating MDB plot: /Users/benloveday/Code/Git_Reps/CMTS/internal/sensors/learn-olci/2_OLCI_advanced/MOBY/MDB/Rrs_AllBands_1_Spectra_3_difference_S3A_OLCI_L2_IPF_OL__L2M.003_FR_EUMETSAT_standard_L2_5x5_MOBY.png\n",
      "Creating MDB plot: /Users/benloveday/Code/Git_Reps/CMTS/internal/sensors/learn-olci/2_OLCI_advanced/MOBY/MDB/Rrs_AllBands_2_Scatter_S3A_OLCI_L2_IPF_OL__L2M.003_FR_EUMETSAT_standard_L2_5x5_MOBY.png\n",
      "Creating MDB plot: /Users/benloveday/Code/Git_Reps/CMTS/internal/sensors/learn-olci/2_OLCI_advanced/MOBY/MDB/Rrs_AllBands_3_Absolute_Deviations_S3A_OLCI_L2_IPF_OL__L2M.003_FR_EUMETSAT_standard_L2_5x5_MOBY.png\n",
      "Creating MDB plot: /Users/benloveday/Code/Git_Reps/CMTS/internal/sensors/learn-olci/2_OLCI_advanced/MOBY/MDB/Rrs_AllBands_4_Percentual_Deviations_S3A_OLCI_L2_IPF_OL__L2M.003_FR_EUMETSAT_standard_L2_5x5_MOBY.png\n",
      "Creating MDB plot: /Users/benloveday/Code/Git_Reps/CMTS/internal/sensors/learn-olci/2_OLCI_advanced/MOBY/MDB/Rrs_AllBands_5_Metrologically_Compatible_Fraction_S3A_OLCI_L2_IPF_OL__L2M.003_FR_EUMETSAT_standard_L2_5x5_MOBY.png\n",
      "Creating MDB plot: /Users/benloveday/Code/Git_Reps/CMTS/internal/sensors/learn-olci/2_OLCI_advanced/MOBY/MDB/Rrs_AllBands_6_Slope_S3A_OLCI_L2_IPF_OL__L2M.003_FR_EUMETSAT_standard_L2_5x5_MOBY.png\n",
      "Creating MDB plot: /Users/benloveday/Code/Git_Reps/CMTS/internal/sensors/learn-olci/2_OLCI_advanced/MOBY/MDB/Rrs_AllBands_7_Intercept_S3A_OLCI_L2_IPF_OL__L2M.003_FR_EUMETSAT_standard_L2_5x5_MOBY.png\n",
      "Creating MDB plot: /Users/benloveday/Code/Git_Reps/CMTS/internal/sensors/learn-olci/2_OLCI_advanced/MOBY/MDB/Rrs_AllBands_8_Slope_TS_S3A_OLCI_L2_IPF_OL__L2M.003_FR_EUMETSAT_standard_L2_5x5_MOBY.png\n",
      "Creating MDB plot: /Users/benloveday/Code/Git_Reps/CMTS/internal/sensors/learn-olci/2_OLCI_advanced/MOBY/MDB/Rrs_AllBands_9_Intercept_TS_S3A_OLCI_L2_IPF_OL__L2M.003_FR_EUMETSAT_standard_L2_5x5_MOBY.png\n",
      "Creating MDB plot: /Users/benloveday/Code/Git_Reps/CMTS/internal/sensors/learn-olci/2_OLCI_advanced/MOBY/MDB/Rrs_AllBands_10_R2_S3A_OLCI_L2_IPF_OL__L2M.003_FR_EUMETSAT_standard_L2_5x5_MOBY.png\n",
      "Creating MDB plot: /Users/benloveday/Code/Git_Reps/CMTS/internal/sensors/learn-olci/2_OLCI_advanced/MOBY/MDB/matchup-by-matchup/matchupID_S0001_I0001_station_MOBY-M260_2016061020d_S3A_OLCI_L2_IPF_OL__L2M.003_EUMETSAT_standard_L2_Rrs.png\n",
      "Creating MDB plot: /Users/benloveday/Code/Git_Reps/CMTS/internal/sensors/learn-olci/2_OLCI_advanced/MOBY/MDB/matchup-by-matchup/matchupID_S0001_I0001_station_MOBY-M260_2016061020d_S3A_OLCI_L2_IPF_OL__L2M.003_EUMETSAT_standard_L2_RGB.png\n",
      "Creating MDB plot: /Users/benloveday/Code/Git_Reps/CMTS/internal/sensors/learn-olci/2_OLCI_advanced/MOBY/MDB/matchup-by-matchup/matchupID_S0002_I0002_station_MOBY-M260_2016071120d_S3A_OLCI_L2_IPF_OL__L2M.003_EUMETSAT_standard_L2_Rrs.png\n",
      "Creating MDB plot: /Users/benloveday/Code/Git_Reps/CMTS/internal/sensors/learn-olci/2_OLCI_advanced/MOBY/MDB/matchup-by-matchup/matchupID_S0002_I0002_station_MOBY-M260_2016071120d_S3A_OLCI_L2_IPF_OL__L2M.003_EUMETSAT_standard_L2_RGB.png\n",
      "Creating MDB plot: /Users/benloveday/Code/Git_Reps/CMTS/internal/sensors/learn-olci/2_OLCI_advanced/MOBY/MDB/matchup-by-matchup/matchupID_S0003_I0003_station_MOBY-M260_2016071920d_S3A_OLCI_L2_IPF_OL__L2M.003_EUMETSAT_standard_L2_Rrs.png\n",
      "Creating MDB plot: /Users/benloveday/Code/Git_Reps/CMTS/internal/sensors/learn-olci/2_OLCI_advanced/MOBY/MDB/matchup-by-matchup/matchupID_S0003_I0003_station_MOBY-M260_2016071920d_S3A_OLCI_L2_IPF_OL__L2M.003_EUMETSAT_standard_L2_RGB.png\n",
      "Creating MDB plot: /Users/benloveday/Code/Git_Reps/CMTS/internal/sensors/learn-olci/2_OLCI_advanced/MOBY/MDB/matchup-by-matchup/matchupID_S0004_I0004_station_MOBY-M260_2016072220d_S3A_OLCI_L2_IPF_OL__L2M.003_EUMETSAT_standard_L2_Rrs.png\n",
      "Creating MDB plot: /Users/benloveday/Code/Git_Reps/CMTS/internal/sensors/learn-olci/2_OLCI_advanced/MOBY/MDB/matchup-by-matchup/matchupID_S0004_I0004_station_MOBY-M260_2016072220d_S3A_OLCI_L2_IPF_OL__L2M.003_EUMETSAT_standard_L2_RGB.png\n",
      "Creating MDB plot: /Users/benloveday/Code/Git_Reps/CMTS/internal/sensors/learn-olci/2_OLCI_advanced/MOBY/MDB/matchup-by-matchup/matchupID_S0005_I0005_station_MOBY-M260_2016080320d_S3A_OLCI_L2_IPF_OL__L2M.003_EUMETSAT_standard_L2_Rrs.png\n",
      "Creating MDB plot: /Users/benloveday/Code/Git_Reps/CMTS/internal/sensors/learn-olci/2_OLCI_advanced/MOBY/MDB/matchup-by-matchup/matchupID_S0005_I0005_station_MOBY-M260_2016080320d_S3A_OLCI_L2_IPF_OL__L2M.003_EUMETSAT_standard_L2_RGB.png\n",
      "Creating MDB plot: /Users/benloveday/Code/Git_Reps/CMTS/internal/sensors/learn-olci/2_OLCI_advanced/MOBY/MDB/matchup-by-matchup/matchupID_S0006_I0006_station_MOBY-M261_2016082620d_S3A_OLCI_L2_IPF_OL__L2M.003_EUMETSAT_standard_L2_Rrs.png\n",
      "Creating MDB plot: /Users/benloveday/Code/Git_Reps/CMTS/internal/sensors/learn-olci/2_OLCI_advanced/MOBY/MDB/matchup-by-matchup/matchupID_S0006_I0006_station_MOBY-M261_2016082620d_S3A_OLCI_L2_IPF_OL__L2M.003_EUMETSAT_standard_L2_RGB.png\n",
      "Creating MDB plot: /Users/benloveday/Code/Git_Reps/CMTS/internal/sensors/learn-olci/2_OLCI_advanced/MOBY/MDB/matchup-by-matchup/matchupID_S0007_I0007_station_MOBY-M261_2016093020d_S3A_OLCI_L2_IPF_OL__L2M.003_EUMETSAT_standard_L2_Rrs.png\n",
      "Creating MDB plot: /Users/benloveday/Code/Git_Reps/CMTS/internal/sensors/learn-olci/2_OLCI_advanced/MOBY/MDB/matchup-by-matchup/matchupID_S0007_I0007_station_MOBY-M261_2016093020d_S3A_OLCI_L2_IPF_OL__L2M.003_EUMETSAT_standard_L2_RGB.png\n",
      "Creating MDB plot: /Users/benloveday/Code/Git_Reps/CMTS/internal/sensors/learn-olci/2_OLCI_advanced/MOBY/MDB/matchup-by-matchup/matchupID_S0008_I0008_station_MOBY-M261_2016100820d_S3A_OLCI_L2_IPF_OL__L2M.003_EUMETSAT_standard_L2_Rrs.png\n",
      "Creating MDB plot: /Users/benloveday/Code/Git_Reps/CMTS/internal/sensors/learn-olci/2_OLCI_advanced/MOBY/MDB/matchup-by-matchup/matchupID_S0008_I0008_station_MOBY-M261_2016100820d_S3A_OLCI_L2_IPF_OL__L2M.003_EUMETSAT_standard_L2_RGB.png\n",
      "Creating MDB plot: /Users/benloveday/Code/Git_Reps/CMTS/internal/sensors/learn-olci/2_OLCI_advanced/MOBY/MDB/matchup-by-matchup/matchupID_S0009_I0009_station_MOBY-M261_2016101920d_S3A_OLCI_L2_IPF_OL__L2M.003_EUMETSAT_standard_L2_Rrs.png\n",
      "Creating MDB plot: /Users/benloveday/Code/Git_Reps/CMTS/internal/sensors/learn-olci/2_OLCI_advanced/MOBY/MDB/matchup-by-matchup/matchupID_S0009_I0009_station_MOBY-M261_2016101920d_S3A_OLCI_L2_IPF_OL__L2M.003_EUMETSAT_standard_L2_RGB.png\n",
      "Creating MDB plot: /Users/benloveday/Code/Git_Reps/CMTS/internal/sensors/learn-olci/2_OLCI_advanced/MOBY/MDB/matchup-by-matchup/matchupID_S0010_I0010_station_MOBY-M261_2017010420d_S3A_OLCI_L2_IPF_OL__L2M.003_EUMETSAT_standard_L2_Rrs.png\n",
      "Creating MDB plot: /Users/benloveday/Code/Git_Reps/CMTS/internal/sensors/learn-olci/2_OLCI_advanced/MOBY/MDB/matchup-by-matchup/matchupID_S0010_I0010_station_MOBY-M261_2017010420d_S3A_OLCI_L2_IPF_OL__L2M.003_EUMETSAT_standard_L2_RGB.png\n",
      "Creating MDB plot: /Users/benloveday/Code/Git_Reps/CMTS/internal/sensors/learn-olci/2_OLCI_advanced/MOBY/MDB/matchup-by-matchup/matchupID_S0011_I0011_station_MOBY-M261_2017010520d_S3A_OLCI_L2_IPF_OL__L2M.003_EUMETSAT_standard_L2_Rrs.png\n",
      "Creating MDB plot: /Users/benloveday/Code/Git_Reps/CMTS/internal/sensors/learn-olci/2_OLCI_advanced/MOBY/MDB/matchup-by-matchup/matchupID_S0011_I0011_station_MOBY-M261_2017010520d_S3A_OLCI_L2_IPF_OL__L2M.003_EUMETSAT_standard_L2_RGB.png\n",
      "Creating MDB plot: /Users/benloveday/Code/Git_Reps/CMTS/internal/sensors/learn-olci/2_OLCI_advanced/MOBY/MDB/matchup-by-matchup/matchupID_S0012_I0012_station_MOBY-M261_2017011120d_S3A_OLCI_L2_IPF_OL__L2M.003_EUMETSAT_standard_L2_Rrs.png\n",
      "Creating MDB plot: /Users/benloveday/Code/Git_Reps/CMTS/internal/sensors/learn-olci/2_OLCI_advanced/MOBY/MDB/matchup-by-matchup/matchupID_S0012_I0012_station_MOBY-M261_2017011120d_S3A_OLCI_L2_IPF_OL__L2M.003_EUMETSAT_standard_L2_RGB.png\n",
      "Creating MDB plot: /Users/benloveday/Code/Git_Reps/CMTS/internal/sensors/learn-olci/2_OLCI_advanced/MOBY/MDB/matchup-by-matchup/matchupID_S0013_I0013_station_MOBY-M261_2017011220d_S3A_OLCI_L2_IPF_OL__L2M.003_EUMETSAT_standard_L2_Rrs.png\n",
      "Creating MDB plot: /Users/benloveday/Code/Git_Reps/CMTS/internal/sensors/learn-olci/2_OLCI_advanced/MOBY/MDB/matchup-by-matchup/matchupID_S0013_I0013_station_MOBY-M261_2017011220d_S3A_OLCI_L2_IPF_OL__L2M.003_EUMETSAT_standard_L2_RGB.png\n",
      "Creating MDB plot: /Users/benloveday/Code/Git_Reps/CMTS/internal/sensors/learn-olci/2_OLCI_advanced/MOBY/MDB/matchup-by-matchup/matchupID_S0014_I0014_station_MOBY-M262_2017022320d_S3A_OLCI_L2_IPF_OL__L2M.003_EUMETSAT_standard_L2_Rrs.png\n",
      "Creating MDB plot: /Users/benloveday/Code/Git_Reps/CMTS/internal/sensors/learn-olci/2_OLCI_advanced/MOBY/MDB/matchup-by-matchup/matchupID_S0014_I0014_station_MOBY-M262_2017022320d_S3A_OLCI_L2_IPF_OL__L2M.003_EUMETSAT_standard_L2_RGB.png\n",
      "Creating MDB plot: /Users/benloveday/Code/Git_Reps/CMTS/internal/sensors/learn-olci/2_OLCI_advanced/MOBY/MDB/matchup-by-matchup/matchupID_S0015_I0015_station_MOBY-M262_2017031520d_S3A_OLCI_L2_IPF_OL__L2M.003_EUMETSAT_standard_L2_Rrs.png\n",
      "Creating MDB plot: /Users/benloveday/Code/Git_Reps/CMTS/internal/sensors/learn-olci/2_OLCI_advanced/MOBY/MDB/matchup-by-matchup/matchupID_S0015_I0015_station_MOBY-M262_2017031520d_S3A_OLCI_L2_IPF_OL__L2M.003_EUMETSAT_standard_L2_RGB.png\n",
      "Creating MDB plot: /Users/benloveday/Code/Git_Reps/CMTS/internal/sensors/learn-olci/2_OLCI_advanced/MOBY/MDB/matchup-by-matchup/matchupID_S0016_I0016_station_MOBY-M262_2017032620d_S3A_OLCI_L2_IPF_OL__L2M.003_EUMETSAT_standard_L2_Rrs.png\n",
      "Creating MDB plot: /Users/benloveday/Code/Git_Reps/CMTS/internal/sensors/learn-olci/2_OLCI_advanced/MOBY/MDB/matchup-by-matchup/matchupID_S0016_I0016_station_MOBY-M262_2017032620d_S3A_OLCI_L2_IPF_OL__L2M.003_EUMETSAT_standard_L2_RGB.png\n",
      "Creating MDB plot: /Users/benloveday/Code/Git_Reps/CMTS/internal/sensors/learn-olci/2_OLCI_advanced/MOBY/MDB/matchup-by-matchup/matchupID_S0017_I0017_station_MOBY-M262_2017040320d_S3A_OLCI_L2_IPF_OL__L2M.003_EUMETSAT_standard_L2_Rrs.png\n",
      "Creating MDB plot: /Users/benloveday/Code/Git_Reps/CMTS/internal/sensors/learn-olci/2_OLCI_advanced/MOBY/MDB/matchup-by-matchup/matchupID_S0017_I0017_station_MOBY-M262_2017040320d_S3A_OLCI_L2_IPF_OL__L2M.003_EUMETSAT_standard_L2_RGB.png\n",
      "Creating MDB plot: /Users/benloveday/Code/Git_Reps/CMTS/internal/sensors/learn-olci/2_OLCI_advanced/MOBY/MDB/matchup-by-matchup/matchupID_S0018_I0018_station_MOBY-M262_2017052320d_S3A_OLCI_L2_IPF_OL__L2M.003_EUMETSAT_standard_L2_Rrs.png\n",
      "Creating MDB plot: /Users/benloveday/Code/Git_Reps/CMTS/internal/sensors/learn-olci/2_OLCI_advanced/MOBY/MDB/matchup-by-matchup/matchupID_S0018_I0018_station_MOBY-M262_2017052320d_S3A_OLCI_L2_IPF_OL__L2M.003_EUMETSAT_standard_L2_RGB.png\n",
      "Creating MDB plot: /Users/benloveday/Code/Git_Reps/CMTS/internal/sensors/learn-olci/2_OLCI_advanced/MOBY/MDB/matchup-by-matchup/matchupID_S0019_I0019_station_MOBY-M262_2017052720d_S3A_OLCI_L2_IPF_OL__L2M.003_EUMETSAT_standard_L2_Rrs.png\n",
      "Creating MDB plot: /Users/benloveday/Code/Git_Reps/CMTS/internal/sensors/learn-olci/2_OLCI_advanced/MOBY/MDB/matchup-by-matchup/matchupID_S0019_I0019_station_MOBY-M262_2017052720d_S3A_OLCI_L2_IPF_OL__L2M.003_EUMETSAT_standard_L2_RGB.png\n",
      "Creating MDB plot: /Users/benloveday/Code/Git_Reps/CMTS/internal/sensors/learn-olci/2_OLCI_advanced/MOBY/MDB/matchup-by-matchup/matchupID_S0020_I0020_station_MOBY-M262_2017060420d_S3A_OLCI_L2_IPF_OL__L2M.003_EUMETSAT_standard_L2_Rrs.png\n",
      "Creating MDB plot: /Users/benloveday/Code/Git_Reps/CMTS/internal/sensors/learn-olci/2_OLCI_advanced/MOBY/MDB/matchup-by-matchup/matchupID_S0020_I0020_station_MOBY-M262_2017060420d_S3A_OLCI_L2_IPF_OL__L2M.003_EUMETSAT_standard_L2_RGB.png\n",
      "Creating MDB plot: /Users/benloveday/Code/Git_Reps/CMTS/internal/sensors/learn-olci/2_OLCI_advanced/MOBY/MDB/matchup-by-matchup/matchupID_S0021_I0021_station_MOBY-M262_2017061920d_S3A_OLCI_L2_IPF_OL__L2M.003_EUMETSAT_standard_L2_Rrs.png\n",
      "Creating MDB plot: /Users/benloveday/Code/Git_Reps/CMTS/internal/sensors/learn-olci/2_OLCI_advanced/MOBY/MDB/matchup-by-matchup/matchupID_S0021_I0021_station_MOBY-M262_2017061920d_S3A_OLCI_L2_IPF_OL__L2M.003_EUMETSAT_standard_L2_RGB.png\n",
      "Creating MDB plot: /Users/benloveday/Code/Git_Reps/CMTS/internal/sensors/learn-olci/2_OLCI_advanced/MOBY/MDB/matchup-by-matchup/matchupID_S0022_I0022_station_MOBY-M263_2017080420d_S3A_OLCI_L2_IPF_OL__L2M.003_EUMETSAT_standard_L2_Rrs.png\n",
      "Creating MDB plot: /Users/benloveday/Code/Git_Reps/CMTS/internal/sensors/learn-olci/2_OLCI_advanced/MOBY/MDB/matchup-by-matchup/matchupID_S0022_I0022_station_MOBY-M263_2017080420d_S3A_OLCI_L2_IPF_OL__L2M.003_EUMETSAT_standard_L2_RGB.png\n",
      "Creating MDB plot: /Users/benloveday/Code/Git_Reps/CMTS/internal/sensors/learn-olci/2_OLCI_advanced/MOBY/MDB/matchup-by-matchup/matchupID_S0023_I0023_station_MOBY-M263_2017082020d_S3A_OLCI_L2_IPF_OL__L2M.003_EUMETSAT_standard_L2_Rrs.png\n",
      "Creating MDB plot: /Users/benloveday/Code/Git_Reps/CMTS/internal/sensors/learn-olci/2_OLCI_advanced/MOBY/MDB/matchup-by-matchup/matchupID_S0023_I0023_station_MOBY-M263_2017082020d_S3A_OLCI_L2_IPF_OL__L2M.003_EUMETSAT_standard_L2_RGB.png\n",
      "Creating MDB plot: /Users/benloveday/Code/Git_Reps/CMTS/internal/sensors/learn-olci/2_OLCI_advanced/MOBY/MDB/matchup-by-matchup/matchupID_S0024_I0024_station_MOBY-M263_2017082820d_S3A_OLCI_L2_IPF_OL__L2M.003_EUMETSAT_standard_L2_Rrs.png\n",
      "Creating MDB plot: /Users/benloveday/Code/Git_Reps/CMTS/internal/sensors/learn-olci/2_OLCI_advanced/MOBY/MDB/matchup-by-matchup/matchupID_S0024_I0024_station_MOBY-M263_2017082820d_S3A_OLCI_L2_IPF_OL__L2M.003_EUMETSAT_standard_L2_RGB.png\n",
      "Creating MDB plot: /Users/benloveday/Code/Git_Reps/CMTS/internal/sensors/learn-olci/2_OLCI_advanced/MOBY/MDB/matchup-by-matchup/matchupID_S0025_I0025_station_MOBY-M263_2017090820d_S3A_OLCI_L2_IPF_OL__L2M.003_EUMETSAT_standard_L2_Rrs.png\n",
      "Creating MDB plot: /Users/benloveday/Code/Git_Reps/CMTS/internal/sensors/learn-olci/2_OLCI_advanced/MOBY/MDB/matchup-by-matchup/matchupID_S0025_I0025_station_MOBY-M263_2017090820d_S3A_OLCI_L2_IPF_OL__L2M.003_EUMETSAT_standard_L2_RGB.png\n",
      "Creating MDB plot: /Users/benloveday/Code/Git_Reps/CMTS/internal/sensors/learn-olci/2_OLCI_advanced/MOBY/MDB/matchup-by-matchup/matchupID_S0026_I0026_station_MOBY-M263_2017092420d_S3A_OLCI_L2_IPF_OL__L2M.003_EUMETSAT_standard_L2_Rrs.png\n",
      "Creating MDB plot: /Users/benloveday/Code/Git_Reps/CMTS/internal/sensors/learn-olci/2_OLCI_advanced/MOBY/MDB/matchup-by-matchup/matchupID_S0026_I0026_station_MOBY-M263_2017092420d_S3A_OLCI_L2_IPF_OL__L2M.003_EUMETSAT_standard_L2_RGB.png\n",
      "Creating MDB plot: /Users/benloveday/Code/Git_Reps/CMTS/internal/sensors/learn-olci/2_OLCI_advanced/MOBY/MDB/matchup-by-matchup/matchupID_S0027_I0027_station_MOBY-M263_2017100520d_S3A_OLCI_L2_IPF_OL__L2M.003_EUMETSAT_standard_L2_Rrs.png\n",
      "Creating MDB plot: /Users/benloveday/Code/Git_Reps/CMTS/internal/sensors/learn-olci/2_OLCI_advanced/MOBY/MDB/matchup-by-matchup/matchupID_S0027_I0027_station_MOBY-M263_2017100520d_S3A_OLCI_L2_IPF_OL__L2M.003_EUMETSAT_standard_L2_RGB.png\n",
      "Creating MDB plot: /Users/benloveday/Code/Git_Reps/CMTS/internal/sensors/learn-olci/2_OLCI_advanced/MOBY/MDB/matchup-by-matchup/matchupID_S0028_I0028_station_MOBY-M263_2017100920d_S3A_OLCI_L2_IPF_OL__L2M.003_EUMETSAT_standard_L2_Rrs.png\n",
      "Creating MDB plot: /Users/benloveday/Code/Git_Reps/CMTS/internal/sensors/learn-olci/2_OLCI_advanced/MOBY/MDB/matchup-by-matchup/matchupID_S0028_I0028_station_MOBY-M263_2017100920d_S3A_OLCI_L2_IPF_OL__L2M.003_EUMETSAT_standard_L2_RGB.png\n",
      "Creating MDB plot: /Users/benloveday/Code/Git_Reps/CMTS/internal/sensors/learn-olci/2_OLCI_advanced/MOBY/MDB/matchup-by-matchup/matchupID_S0029_I0029_station_MOBY-M263_2017101320d_S3A_OLCI_L2_IPF_OL__L2M.003_EUMETSAT_standard_L2_Rrs.png\n",
      "Creating MDB plot: /Users/benloveday/Code/Git_Reps/CMTS/internal/sensors/learn-olci/2_OLCI_advanced/MOBY/MDB/matchup-by-matchup/matchupID_S0029_I0029_station_MOBY-M263_2017101320d_S3A_OLCI_L2_IPF_OL__L2M.003_EUMETSAT_standard_L2_RGB.png\n",
      "Creating MDB plot: /Users/benloveday/Code/Git_Reps/CMTS/internal/sensors/learn-olci/2_OLCI_advanced/MOBY/MDB/matchup-by-matchup/matchupID_S0030_I0030_station_MOBY-M263_2017110520d_S3A_OLCI_L2_IPF_OL__L2M.003_EUMETSAT_standard_L2_Rrs.png\n",
      "Creating MDB plot: /Users/benloveday/Code/Git_Reps/CMTS/internal/sensors/learn-olci/2_OLCI_advanced/MOBY/MDB/matchup-by-matchup/matchupID_S0030_I0030_station_MOBY-M263_2017110520d_S3A_OLCI_L2_IPF_OL__L2M.003_EUMETSAT_standard_L2_RGB.png\n",
      "\n",
      "Run \"MOBY\" finished\n",
      "\n",
      "\n",
      "ThoMaS finished!\n"
     ]
    }
   ],
   "source": [
    "# Run ThoMaS and check all the outputs in the output directory\n",
    "ThoMaS(path_to_config_file)"
   ]
  },
  {
   "cell_type": "markdown",
   "metadata": {},
   "source": [
    "<div class=\"alert alert-info\" role=\"alert\">\n",
    "\n",
    "## <a id='section6'></a>What next?\n",
    "[Back to top](#TOC-TOP)\n",
    "\n",
    "</div>"
   ]
  },
  {
   "cell_type": "markdown",
   "metadata": {},
   "source": [
    "You can find many more example of configuration files in the ./ThoMaS/examples directory. Building on these, and the examples shown above you should be able to build a validation workflow that works for your circumstances!"
   ]
  },
  {
   "cell_type": "markdown",
   "metadata": {},
   "source": [
    "<a href=\"../Index.ipynb\" target=\"_blank\"><< Index</a>\n",
    "<br>\n",
    "<a href=\"./2_3b_OLCI_SNAP_batch_processing_C2RCC.ipynb\" target=\"_blank\"><< OLCI SNAP processing: IdePiX and C2RCC</a>\n",
    "<hr>\n",
    "<a href=\"https://gitlab.eumetsat.int/eumetlab/ocean\" target=\"_blank\">View on GitLab</a> | <a href=\"https://training.eumetsat.int/\" target=\"_blank\">EUMETSAT Training</a> | <a href=mailto:ops@eumetsat.int target=\"_blank\">Contact helpdesk for support </a> | <a href=mailto:training@eumetsat.int target=\"_blank\">Contact our training team to collaborate on and reuse this material</a></span></p>"
   ]
  }
 ],
 "metadata": {
  "author": "Ben Loveday, Hayley Evers-King, Juan Ignacio-Gossn",
  "content_type": "Software & code",
  "data_access": "Data Store",
  "deployment": {
   "eumetsat": {
    "binder": {
     "link": "https://mybinder.org/v2/git/https%3A%2F%2Fgitlab.eumetsat.int%2Feumetlab%2Foceans%2Focean-training%2Fsensors%2Flearn-olci/HEAD?urlpath=%2Ftree%2F2_OLCI_advanced%2F2_4_OLCI_matchup_validation.ipynb",
     "service_contact": "ops@eumetsat.int",
     "service_provider": "EUMETSAT"
    },
    "git": {
     "link": "https://gitlab.eumetsat.int/eumetlab/oceans/ocean-training/sensors/learn-olci/-/blob/main/2_OLCI_advanced/2_4_OLCI_matchup_validation.ipynb",
     "service_contact": "ops@eumetsat.int",
     "service_provider": "EUMETSAT"
    }
   },
   "wekeo": {
    "git": {
     "link": "",
     "service_contact": "ops@eumetsat.int",
     "service_provider": "EUMETSAT"
    },
    "url": {
     "link": "",
     "service_contact": "ops@eumetsat.int",
     "service_provider": "EUMETSAT"
    }
   }
  },
  "description": "This Jupyter Notebook shows how to perform OLCI match-up validation analysis using the ThoMaS toolkit.",
  "image": "../img/thumbs/2_4_OLCI_matchup_validation_thumb.png",
  "kernelspec": {
   "display_name": "Python 3 (ipykernel)",
   "language": "python",
   "name": "python3"
  },
  "language_info": {
   "codemirror_mode": {
    "name": "ipython",
    "version": 3
   },
   "file_extension": ".py",
   "mimetype": "text/x-python",
   "name": "python",
   "nbconvert_exporter": "python",
   "pygments_lexer": "ipython3",
   "version": "3.10.14"
  },
  "license": "MIT",
  "metadata_schema_version": "2.0.0",
  "originator": "EUMETSAT",
  "tags": {
   "data_provider": "EUMETSAT",
   "orbit": "",
   "satellite": "Sentinel-3",
   "sensor": "OLCI",
   "service": "Ocean colour",
   "subtheme": [
    "Ocean biogeochemistry",
    "Water quality"
   ],
   "theme": "Marine",
   "variable": [
    "Top-of-atmosphere radiance",
    "Water leaving reflectance",
    "Chlorophyll concentration",
    "Photosynthetically active radiation",
    "Diffuse attentuation coefficient",
    "Coloured dissolved organic matter absorption coefficient",
    "Total suspended matter concentration",
    "Ocean colour"
   ]
  },
  "title": "Validating OLCI products using the ThoMaS match-up toolkit",
  "version": "2.0.0",
  "version_date": "2024-07-01"
 },
 "nbformat": 4,
 "nbformat_minor": 4
}
